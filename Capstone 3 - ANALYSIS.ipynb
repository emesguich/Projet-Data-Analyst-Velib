{
 "cells": [
  {
   "cell_type": "code",
   "execution_count": 1,
   "metadata": {},
   "outputs": [],
   "source": [
    "import pandas as pd\n",
    "import numpy as np"
   ]
  },
  {
   "cell_type": "markdown",
   "metadata": {},
   "source": [
    "# CHARGEMENT DES DONNEES VELIB ET EXTERNES "
   ]
  },
  {
   "cell_type": "code",
   "execution_count": 130,
   "metadata": {},
   "outputs": [
    {
     "data": {
      "text/html": [
       "<div>\n",
       "<style scoped>\n",
       "    .dataframe tbody tr th:only-of-type {\n",
       "        vertical-align: middle;\n",
       "    }\n",
       "\n",
       "    .dataframe tbody tr th {\n",
       "        vertical-align: top;\n",
       "    }\n",
       "\n",
       "    .dataframe thead th {\n",
       "        text-align: right;\n",
       "    }\n",
       "</style>\n",
       "<table border=\"1\" class=\"dataframe\">\n",
       "  <thead>\n",
       "    <tr style=\"text-align: right;\">\n",
       "      <th></th>\n",
       "      <th>Commune</th>\n",
       "      <th>nb chb hotels</th>\n",
       "      <th>Population en 2019</th>\n",
       "      <th>Superficie en 2019</th>\n",
       "      <th>Mediane du revenu disponible par unite de consommation en 2020, en euros</th>\n",
       "      <th>Emploi total (salarie et non salarie) au lieu de travail en 2019</th>\n",
       "      <th>Couleur politique maire</th>\n",
       "      <th>Departement</th>\n",
       "    </tr>\n",
       "  </thead>\n",
       "  <tbody>\n",
       "    <tr>\n",
       "      <td>0</td>\n",
       "      <td>Paris 01</td>\n",
       "      <td>4201</td>\n",
       "      <td>15917</td>\n",
       "      <td>1,8</td>\n",
       "      <td>33960</td>\n",
       "      <td>66049</td>\n",
       "      <td>GAUCHE</td>\n",
       "      <td>75</td>\n",
       "    </tr>\n",
       "    <tr>\n",
       "      <td>1</td>\n",
       "      <td>Paris 02</td>\n",
       "      <td>2304</td>\n",
       "      <td>21595</td>\n",
       "      <td>1</td>\n",
       "      <td>32380</td>\n",
       "      <td>65082</td>\n",
       "      <td>GAUCHE</td>\n",
       "      <td>75</td>\n",
       "    </tr>\n",
       "    <tr>\n",
       "      <td>2</td>\n",
       "      <td>Paris 03</td>\n",
       "      <td>1118</td>\n",
       "      <td>34025</td>\n",
       "      <td>1,2</td>\n",
       "      <td>33180</td>\n",
       "      <td>32029</td>\n",
       "      <td>GAUCHE</td>\n",
       "      <td>75</td>\n",
       "    </tr>\n",
       "    <tr>\n",
       "      <td>3</td>\n",
       "      <td>Paris 04</td>\n",
       "      <td>948</td>\n",
       "      <td>29131</td>\n",
       "      <td>1,6</td>\n",
       "      <td>31790</td>\n",
       "      <td>41494</td>\n",
       "      <td>GAUCHE</td>\n",
       "      <td>75</td>\n",
       "    </tr>\n",
       "    <tr>\n",
       "      <td>4</td>\n",
       "      <td>Paris 05</td>\n",
       "      <td>3092</td>\n",
       "      <td>58227</td>\n",
       "      <td>2,5</td>\n",
       "      <td>34650</td>\n",
       "      <td>53063</td>\n",
       "      <td>DROITE</td>\n",
       "      <td>75</td>\n",
       "    </tr>\n",
       "    <tr>\n",
       "      <td>...</td>\n",
       "      <td>...</td>\n",
       "      <td>...</td>\n",
       "      <td>...</td>\n",
       "      <td>...</td>\n",
       "      <td>...</td>\n",
       "      <td>...</td>\n",
       "      <td>...</td>\n",
       "      <td>...</td>\n",
       "    </tr>\n",
       "    <tr>\n",
       "      <td>75</td>\n",
       "      <td>Saint-Maurice</td>\n",
       "      <td>195</td>\n",
       "      <td>14189</td>\n",
       "      <td>1,4</td>\n",
       "      <td>27830</td>\n",
       "      <td>6012</td>\n",
       "      <td>DROITE</td>\n",
       "      <td>94</td>\n",
       "    </tr>\n",
       "    <tr>\n",
       "      <td>76</td>\n",
       "      <td>Villejuif</td>\n",
       "      <td>213</td>\n",
       "      <td>55208</td>\n",
       "      <td>5,3</td>\n",
       "      <td>21020</td>\n",
       "      <td>22214</td>\n",
       "      <td>GAUCHE</td>\n",
       "      <td>94</td>\n",
       "    </tr>\n",
       "    <tr>\n",
       "      <td>77</td>\n",
       "      <td>Vincennes</td>\n",
       "      <td>161</td>\n",
       "      <td>49788</td>\n",
       "      <td>1,9</td>\n",
       "      <td>33580</td>\n",
       "      <td>17021</td>\n",
       "      <td>DROITE</td>\n",
       "      <td>94</td>\n",
       "    </tr>\n",
       "    <tr>\n",
       "      <td>78</td>\n",
       "      <td>Vitry-sur-Seine</td>\n",
       "      <td>201</td>\n",
       "      <td>95510</td>\n",
       "      <td>11,7</td>\n",
       "      <td>19100</td>\n",
       "      <td>27658</td>\n",
       "      <td>GAUCHE</td>\n",
       "      <td>94</td>\n",
       "    </tr>\n",
       "    <tr>\n",
       "      <td>79</td>\n",
       "      <td>Argenteuil</td>\n",
       "      <td>365</td>\n",
       "      <td>111038</td>\n",
       "      <td>17,2</td>\n",
       "      <td>18930</td>\n",
       "      <td>29685</td>\n",
       "      <td>DROITE</td>\n",
       "      <td>95</td>\n",
       "    </tr>\n",
       "  </tbody>\n",
       "</table>\n",
       "<p>80 rows × 8 columns</p>\n",
       "</div>"
      ],
      "text/plain": [
       "            Commune  nb chb hotels  Population en 2019 Superficie en 2019  \\\n",
       "0          Paris 01           4201               15917                1,8   \n",
       "1          Paris 02           2304               21595                  1   \n",
       "2          Paris 03           1118               34025                1,2   \n",
       "3          Paris 04            948               29131                1,6   \n",
       "4          Paris 05           3092               58227                2,5   \n",
       "..              ...            ...                 ...                ...   \n",
       "75    Saint-Maurice            195               14189                1,4   \n",
       "76        Villejuif            213               55208                5,3   \n",
       "77        Vincennes            161               49788                1,9   \n",
       "78  Vitry-sur-Seine            201               95510               11,7   \n",
       "79       Argenteuil            365              111038               17,2   \n",
       "\n",
       "    Mediane du revenu disponible par unite de consommation en 2020, en euros  \\\n",
       "0                                               33960                          \n",
       "1                                               32380                          \n",
       "2                                               33180                          \n",
       "3                                               31790                          \n",
       "4                                               34650                          \n",
       "..                                                ...                          \n",
       "75                                              27830                          \n",
       "76                                              21020                          \n",
       "77                                              33580                          \n",
       "78                                              19100                          \n",
       "79                                              18930                          \n",
       "\n",
       "    Emploi total (salarie et non salarie) au lieu de travail en 2019  \\\n",
       "0                                               66049                  \n",
       "1                                               65082                  \n",
       "2                                               32029                  \n",
       "3                                               41494                  \n",
       "4                                               53063                  \n",
       "..                                                ...                  \n",
       "75                                               6012                  \n",
       "76                                              22214                  \n",
       "77                                              17021                  \n",
       "78                                              27658                  \n",
       "79                                              29685                  \n",
       "\n",
       "   Couleur politique maire  Departement  \n",
       "0                   GAUCHE           75  \n",
       "1                   GAUCHE           75  \n",
       "2                   GAUCHE           75  \n",
       "3                   GAUCHE           75  \n",
       "4                   DROITE           75  \n",
       "..                     ...          ...  \n",
       "75                  DROITE           94  \n",
       "76                  GAUCHE           94  \n",
       "77                  DROITE           94  \n",
       "78                  GAUCHE           94  \n",
       "79                  DROITE           95  \n",
       "\n",
       "[80 rows x 8 columns]"
      ]
     },
     "execution_count": 130,
     "metadata": {},
     "output_type": "execute_result"
    }
   ],
   "source": [
    "df_communes = pd.read_csv(\"20230607 - donnees externes communes CSV.csv\", sep=';')\n",
    "df_communes"
   ]
  },
  {
   "cell_type": "code",
   "execution_count": 4,
   "metadata": {
    "scrolled": false
   },
   "outputs": [
    {
     "data": {
      "text/html": [
       "<div>\n",
       "<style scoped>\n",
       "    .dataframe tbody tr th:only-of-type {\n",
       "        vertical-align: middle;\n",
       "    }\n",
       "\n",
       "    .dataframe tbody tr th {\n",
       "        vertical-align: top;\n",
       "    }\n",
       "\n",
       "    .dataframe thead th {\n",
       "        text-align: right;\n",
       "    }\n",
       "</style>\n",
       "<table border=\"1\" class=\"dataframe\">\n",
       "  <thead>\n",
       "    <tr style=\"text-align: right;\">\n",
       "      <th></th>\n",
       "      <th>name</th>\n",
       "      <th>stationcode</th>\n",
       "      <th>ebike</th>\n",
       "      <th>mechanical</th>\n",
       "      <th>duedate</th>\n",
       "      <th>numbikesavailable</th>\n",
       "      <th>numdocksavailable</th>\n",
       "      <th>capacity</th>\n",
       "      <th>is_renting</th>\n",
       "      <th>is_installed</th>\n",
       "      <th>is_returning</th>\n",
       "      <th>Latitude</th>\n",
       "      <th>Longitude</th>\n",
       "      <th>commune</th>\n",
       "      <th>month</th>\n",
       "      <th>interval</th>\n",
       "      <th>numbikesordocksbroken</th>\n",
       "      <th>StationPlus</th>\n",
       "    </tr>\n",
       "  </thead>\n",
       "  <tbody>\n",
       "    <tr>\n",
       "      <td>0</td>\n",
       "      <td>11 Novembre 1918 - 8 Mai 1945</td>\n",
       "      <td>45003</td>\n",
       "      <td>6</td>\n",
       "      <td>3</td>\n",
       "      <td>2022-05-01 00:40:43+02:00</td>\n",
       "      <td>9</td>\n",
       "      <td>27</td>\n",
       "      <td>36</td>\n",
       "      <td>OUI</td>\n",
       "      <td>OUI</td>\n",
       "      <td>OUI</td>\n",
       "      <td>48.8088</td>\n",
       "      <td>2.5382</td>\n",
       "      <td>Champigny-sur-Marne</td>\n",
       "      <td>5</td>\n",
       "      <td>2022-05-01 01:00:00+02:00</td>\n",
       "      <td>0</td>\n",
       "      <td>NON</td>\n",
       "    </tr>\n",
       "    <tr>\n",
       "      <td>1</td>\n",
       "      <td>11 Novembre 1918 - 8 Mai 1945</td>\n",
       "      <td>45003</td>\n",
       "      <td>6</td>\n",
       "      <td>3</td>\n",
       "      <td>2022-05-01 01:37:31+02:00</td>\n",
       "      <td>9</td>\n",
       "      <td>27</td>\n",
       "      <td>36</td>\n",
       "      <td>OUI</td>\n",
       "      <td>OUI</td>\n",
       "      <td>OUI</td>\n",
       "      <td>48.8088</td>\n",
       "      <td>2.5382</td>\n",
       "      <td>Champigny-sur-Marne</td>\n",
       "      <td>5</td>\n",
       "      <td>2022-05-01 02:00:00+02:00</td>\n",
       "      <td>0</td>\n",
       "      <td>NON</td>\n",
       "    </tr>\n",
       "    <tr>\n",
       "      <td>2</td>\n",
       "      <td>11 Novembre 1918 - 8 Mai 1945</td>\n",
       "      <td>45003</td>\n",
       "      <td>6</td>\n",
       "      <td>3</td>\n",
       "      <td>2022-05-01 02:37:39+02:00</td>\n",
       "      <td>9</td>\n",
       "      <td>27</td>\n",
       "      <td>36</td>\n",
       "      <td>OUI</td>\n",
       "      <td>OUI</td>\n",
       "      <td>OUI</td>\n",
       "      <td>48.8088</td>\n",
       "      <td>2.5382</td>\n",
       "      <td>Champigny-sur-Marne</td>\n",
       "      <td>5</td>\n",
       "      <td>2022-05-01 03:00:00+02:00</td>\n",
       "      <td>0</td>\n",
       "      <td>NON</td>\n",
       "    </tr>\n",
       "    <tr>\n",
       "      <td>3</td>\n",
       "      <td>11 Novembre 1918 - 8 Mai 1945</td>\n",
       "      <td>45003</td>\n",
       "      <td>6</td>\n",
       "      <td>3</td>\n",
       "      <td>2022-05-01 03:37:48+02:00</td>\n",
       "      <td>9</td>\n",
       "      <td>27</td>\n",
       "      <td>36</td>\n",
       "      <td>OUI</td>\n",
       "      <td>OUI</td>\n",
       "      <td>OUI</td>\n",
       "      <td>48.8088</td>\n",
       "      <td>2.5382</td>\n",
       "      <td>Champigny-sur-Marne</td>\n",
       "      <td>5</td>\n",
       "      <td>2022-05-01 04:00:00+02:00</td>\n",
       "      <td>0</td>\n",
       "      <td>NON</td>\n",
       "    </tr>\n",
       "    <tr>\n",
       "      <td>4</td>\n",
       "      <td>11 Novembre 1918 - 8 Mai 1945</td>\n",
       "      <td>45003</td>\n",
       "      <td>6</td>\n",
       "      <td>3</td>\n",
       "      <td>2022-05-01 04:39:55+02:00</td>\n",
       "      <td>9</td>\n",
       "      <td>27</td>\n",
       "      <td>36</td>\n",
       "      <td>OUI</td>\n",
       "      <td>OUI</td>\n",
       "      <td>OUI</td>\n",
       "      <td>48.8088</td>\n",
       "      <td>2.5382</td>\n",
       "      <td>Champigny-sur-Marne</td>\n",
       "      <td>5</td>\n",
       "      <td>2022-05-01 05:00:00+02:00</td>\n",
       "      <td>0</td>\n",
       "      <td>NON</td>\n",
       "    </tr>\n",
       "    <tr>\n",
       "      <td>...</td>\n",
       "      <td>...</td>\n",
       "      <td>...</td>\n",
       "      <td>...</td>\n",
       "      <td>...</td>\n",
       "      <td>...</td>\n",
       "      <td>...</td>\n",
       "      <td>...</td>\n",
       "      <td>...</td>\n",
       "      <td>...</td>\n",
       "      <td>...</td>\n",
       "      <td>...</td>\n",
       "      <td>...</td>\n",
       "      <td>...</td>\n",
       "      <td>...</td>\n",
       "      <td>...</td>\n",
       "      <td>...</td>\n",
       "      <td>...</td>\n",
       "      <td>...</td>\n",
       "    </tr>\n",
       "    <tr>\n",
       "      <td>4051234</td>\n",
       "      <td>Youri Gagarine - Karl Marx</td>\n",
       "      <td>48003</td>\n",
       "      <td>3</td>\n",
       "      <td>2</td>\n",
       "      <td>2022-08-31 19:06:05+02:00</td>\n",
       "      <td>5</td>\n",
       "      <td>17</td>\n",
       "      <td>22</td>\n",
       "      <td>OUI</td>\n",
       "      <td>OUI</td>\n",
       "      <td>OUI</td>\n",
       "      <td>48.7844</td>\n",
       "      <td>2.3590</td>\n",
       "      <td>Villejuif</td>\n",
       "      <td>8</td>\n",
       "      <td>2022-08-31 19:00:00+02:00</td>\n",
       "      <td>0</td>\n",
       "      <td>NON</td>\n",
       "    </tr>\n",
       "    <tr>\n",
       "      <td>4051235</td>\n",
       "      <td>Youri Gagarine - Karl Marx</td>\n",
       "      <td>48003</td>\n",
       "      <td>1</td>\n",
       "      <td>2</td>\n",
       "      <td>2022-08-31 19:58:14+02:00</td>\n",
       "      <td>3</td>\n",
       "      <td>19</td>\n",
       "      <td>22</td>\n",
       "      <td>OUI</td>\n",
       "      <td>OUI</td>\n",
       "      <td>OUI</td>\n",
       "      <td>48.7844</td>\n",
       "      <td>2.3590</td>\n",
       "      <td>Villejuif</td>\n",
       "      <td>8</td>\n",
       "      <td>2022-08-31 20:00:00+02:00</td>\n",
       "      <td>0</td>\n",
       "      <td>NON</td>\n",
       "    </tr>\n",
       "    <tr>\n",
       "      <td>4051236</td>\n",
       "      <td>Youri Gagarine - Karl Marx</td>\n",
       "      <td>48003</td>\n",
       "      <td>1</td>\n",
       "      <td>2</td>\n",
       "      <td>2022-08-31 21:06:53+02:00</td>\n",
       "      <td>3</td>\n",
       "      <td>19</td>\n",
       "      <td>22</td>\n",
       "      <td>OUI</td>\n",
       "      <td>OUI</td>\n",
       "      <td>OUI</td>\n",
       "      <td>48.7844</td>\n",
       "      <td>2.3590</td>\n",
       "      <td>Villejuif</td>\n",
       "      <td>8</td>\n",
       "      <td>2022-08-31 21:00:00+02:00</td>\n",
       "      <td>0</td>\n",
       "      <td>NON</td>\n",
       "    </tr>\n",
       "    <tr>\n",
       "      <td>4051237</td>\n",
       "      <td>Youri Gagarine - Karl Marx</td>\n",
       "      <td>48003</td>\n",
       "      <td>2</td>\n",
       "      <td>2</td>\n",
       "      <td>2022-08-31 22:06:58+02:00</td>\n",
       "      <td>4</td>\n",
       "      <td>18</td>\n",
       "      <td>22</td>\n",
       "      <td>OUI</td>\n",
       "      <td>OUI</td>\n",
       "      <td>OUI</td>\n",
       "      <td>48.7844</td>\n",
       "      <td>2.3590</td>\n",
       "      <td>Villejuif</td>\n",
       "      <td>8</td>\n",
       "      <td>2022-08-31 22:00:00+02:00</td>\n",
       "      <td>0</td>\n",
       "      <td>NON</td>\n",
       "    </tr>\n",
       "    <tr>\n",
       "      <td>4051238</td>\n",
       "      <td>Youri Gagarine - Karl Marx</td>\n",
       "      <td>48003</td>\n",
       "      <td>3</td>\n",
       "      <td>3</td>\n",
       "      <td>2022-08-31 23:07:05+02:00</td>\n",
       "      <td>6</td>\n",
       "      <td>16</td>\n",
       "      <td>22</td>\n",
       "      <td>OUI</td>\n",
       "      <td>OUI</td>\n",
       "      <td>OUI</td>\n",
       "      <td>48.7844</td>\n",
       "      <td>2.3590</td>\n",
       "      <td>Villejuif</td>\n",
       "      <td>8</td>\n",
       "      <td>2022-08-31 23:00:00+02:00</td>\n",
       "      <td>0</td>\n",
       "      <td>NON</td>\n",
       "    </tr>\n",
       "  </tbody>\n",
       "</table>\n",
       "<p>4051239 rows × 18 columns</p>\n",
       "</div>"
      ],
      "text/plain": [
       "                                  name  stationcode  ebike  mechanical  \\\n",
       "0        11 Novembre 1918 - 8 Mai 1945        45003      6           3   \n",
       "1        11 Novembre 1918 - 8 Mai 1945        45003      6           3   \n",
       "2        11 Novembre 1918 - 8 Mai 1945        45003      6           3   \n",
       "3        11 Novembre 1918 - 8 Mai 1945        45003      6           3   \n",
       "4        11 Novembre 1918 - 8 Mai 1945        45003      6           3   \n",
       "...                                ...          ...    ...         ...   \n",
       "4051234     Youri Gagarine - Karl Marx        48003      3           2   \n",
       "4051235     Youri Gagarine - Karl Marx        48003      1           2   \n",
       "4051236     Youri Gagarine - Karl Marx        48003      1           2   \n",
       "4051237     Youri Gagarine - Karl Marx        48003      2           2   \n",
       "4051238     Youri Gagarine - Karl Marx        48003      3           3   \n",
       "\n",
       "                           duedate  numbikesavailable  numdocksavailable  \\\n",
       "0        2022-05-01 00:40:43+02:00                  9                 27   \n",
       "1        2022-05-01 01:37:31+02:00                  9                 27   \n",
       "2        2022-05-01 02:37:39+02:00                  9                 27   \n",
       "3        2022-05-01 03:37:48+02:00                  9                 27   \n",
       "4        2022-05-01 04:39:55+02:00                  9                 27   \n",
       "...                            ...                ...                ...   \n",
       "4051234  2022-08-31 19:06:05+02:00                  5                 17   \n",
       "4051235  2022-08-31 19:58:14+02:00                  3                 19   \n",
       "4051236  2022-08-31 21:06:53+02:00                  3                 19   \n",
       "4051237  2022-08-31 22:06:58+02:00                  4                 18   \n",
       "4051238  2022-08-31 23:07:05+02:00                  6                 16   \n",
       "\n",
       "         capacity is_renting is_installed is_returning  Latitude  Longitude  \\\n",
       "0              36        OUI          OUI          OUI   48.8088     2.5382   \n",
       "1              36        OUI          OUI          OUI   48.8088     2.5382   \n",
       "2              36        OUI          OUI          OUI   48.8088     2.5382   \n",
       "3              36        OUI          OUI          OUI   48.8088     2.5382   \n",
       "4              36        OUI          OUI          OUI   48.8088     2.5382   \n",
       "...           ...        ...          ...          ...       ...        ...   \n",
       "4051234        22        OUI          OUI          OUI   48.7844     2.3590   \n",
       "4051235        22        OUI          OUI          OUI   48.7844     2.3590   \n",
       "4051236        22        OUI          OUI          OUI   48.7844     2.3590   \n",
       "4051237        22        OUI          OUI          OUI   48.7844     2.3590   \n",
       "4051238        22        OUI          OUI          OUI   48.7844     2.3590   \n",
       "\n",
       "                     commune  month                   interval  \\\n",
       "0        Champigny-sur-Marne      5  2022-05-01 01:00:00+02:00   \n",
       "1        Champigny-sur-Marne      5  2022-05-01 02:00:00+02:00   \n",
       "2        Champigny-sur-Marne      5  2022-05-01 03:00:00+02:00   \n",
       "3        Champigny-sur-Marne      5  2022-05-01 04:00:00+02:00   \n",
       "4        Champigny-sur-Marne      5  2022-05-01 05:00:00+02:00   \n",
       "...                      ...    ...                        ...   \n",
       "4051234            Villejuif      8  2022-08-31 19:00:00+02:00   \n",
       "4051235            Villejuif      8  2022-08-31 20:00:00+02:00   \n",
       "4051236            Villejuif      8  2022-08-31 21:00:00+02:00   \n",
       "4051237            Villejuif      8  2022-08-31 22:00:00+02:00   \n",
       "4051238            Villejuif      8  2022-08-31 23:00:00+02:00   \n",
       "\n",
       "         numbikesordocksbroken StationPlus  \n",
       "0                            0         NON  \n",
       "1                            0         NON  \n",
       "2                            0         NON  \n",
       "3                            0         NON  \n",
       "4                            0         NON  \n",
       "...                        ...         ...  \n",
       "4051234                      0         NON  \n",
       "4051235                      0         NON  \n",
       "4051236                      0         NON  \n",
       "4051237                      0         NON  \n",
       "4051238                      0         NON  \n",
       "\n",
       "[4051239 rows x 18 columns]"
      ]
     },
     "execution_count": 4,
     "metadata": {},
     "output_type": "execute_result"
    }
   ],
   "source": [
    "df_allrows_summer = pd.read_csv(\"df_totallycleaned_Velib_summer_2022.csv\")\n",
    "df_allrows_summer = df_allrows_summer.drop(columns = \"Unnamed: 0\")\n",
    "df_allrows_summer"
   ]
  },
  {
   "cell_type": "code",
   "execution_count": 5,
   "metadata": {},
   "outputs": [
    {
     "data": {
      "text/html": [
       "<div>\n",
       "<style scoped>\n",
       "    .dataframe tbody tr th:only-of-type {\n",
       "        vertical-align: middle;\n",
       "    }\n",
       "\n",
       "    .dataframe tbody tr th {\n",
       "        vertical-align: top;\n",
       "    }\n",
       "\n",
       "    .dataframe thead th {\n",
       "        text-align: right;\n",
       "    }\n",
       "</style>\n",
       "<table border=\"1\" class=\"dataframe\">\n",
       "  <thead>\n",
       "    <tr style=\"text-align: right;\">\n",
       "      <th></th>\n",
       "      <th>name</th>\n",
       "      <th>stationcode</th>\n",
       "      <th>ebike</th>\n",
       "      <th>mechanical</th>\n",
       "      <th>duedate</th>\n",
       "      <th>numbikesavailable</th>\n",
       "      <th>numdocksavailable</th>\n",
       "      <th>capacity</th>\n",
       "      <th>is_renting</th>\n",
       "      <th>is_installed</th>\n",
       "      <th>is_returning</th>\n",
       "      <th>Latitude</th>\n",
       "      <th>Longitude</th>\n",
       "      <th>commune</th>\n",
       "      <th>month</th>\n",
       "      <th>interval</th>\n",
       "      <th>numbikesordocksbroken</th>\n",
       "      <th>StationPlus</th>\n",
       "    </tr>\n",
       "  </thead>\n",
       "  <tbody>\n",
       "  </tbody>\n",
       "</table>\n",
       "</div>"
      ],
      "text/plain": [
       "Empty DataFrame\n",
       "Columns: [name, stationcode, ebike, mechanical, duedate, numbikesavailable, numdocksavailable, capacity, is_renting, is_installed, is_returning, Latitude, Longitude, commune, month, interval, numbikesordocksbroken, StationPlus]\n",
       "Index: []"
      ]
     },
     "execution_count": 5,
     "metadata": {},
     "output_type": "execute_result"
    }
   ],
   "source": [
    "df_allrows_summer[(df_allrows_summer[\"is_renting\"] == \"OUI\") & (df_allrows_summer[\"is_returning\"] == \"NON\")]"
   ]
  },
  {
   "cell_type": "code",
   "execution_count": 6,
   "metadata": {},
   "outputs": [
    {
     "data": {
      "text/html": [
       "<div>\n",
       "<style scoped>\n",
       "    .dataframe tbody tr th:only-of-type {\n",
       "        vertical-align: middle;\n",
       "    }\n",
       "\n",
       "    .dataframe tbody tr th {\n",
       "        vertical-align: top;\n",
       "    }\n",
       "\n",
       "    .dataframe thead th {\n",
       "        text-align: right;\n",
       "    }\n",
       "</style>\n",
       "<table border=\"1\" class=\"dataframe\">\n",
       "  <thead>\n",
       "    <tr style=\"text-align: right;\">\n",
       "      <th></th>\n",
       "      <th>name</th>\n",
       "      <th>stationcode</th>\n",
       "      <th>ebike</th>\n",
       "      <th>mechanical</th>\n",
       "      <th>duedate</th>\n",
       "      <th>numbikesavailable</th>\n",
       "      <th>numdocksavailable</th>\n",
       "      <th>capacity</th>\n",
       "      <th>is_renting</th>\n",
       "      <th>is_installed</th>\n",
       "      <th>is_returning</th>\n",
       "      <th>Latitude</th>\n",
       "      <th>Longitude</th>\n",
       "      <th>commune</th>\n",
       "      <th>month</th>\n",
       "      <th>interval</th>\n",
       "      <th>numbikesordocksbroken</th>\n",
       "      <th>StationPlus</th>\n",
       "    </tr>\n",
       "  </thead>\n",
       "  <tbody>\n",
       "  </tbody>\n",
       "</table>\n",
       "</div>"
      ],
      "text/plain": [
       "Empty DataFrame\n",
       "Columns: [name, stationcode, ebike, mechanical, duedate, numbikesavailable, numdocksavailable, capacity, is_renting, is_installed, is_returning, Latitude, Longitude, commune, month, interval, numbikesordocksbroken, StationPlus]\n",
       "Index: []"
      ]
     },
     "execution_count": 6,
     "metadata": {},
     "output_type": "execute_result"
    }
   ],
   "source": [
    "df_allrows_summer[(df_allrows_summer[\"is_renting\"] == \"NON\") & (df_allrows_summer[\"is_returning\"] == \"OUI\")]"
   ]
  },
  {
   "cell_type": "code",
   "execution_count": 7,
   "metadata": {},
   "outputs": [
    {
     "data": {
      "text/plain": [
       "(18167, 18)"
      ]
     },
     "execution_count": 7,
     "metadata": {},
     "output_type": "execute_result"
    }
   ],
   "source": [
    "df_allrows_summer[(df_allrows_summer[\"is_renting\"] == \"NON\")].shape"
   ]
  },
  {
   "cell_type": "code",
   "execution_count": 8,
   "metadata": {},
   "outputs": [],
   "source": [
    "df_allrows_summer.loc[:, \"duedate\"] = pd.to_datetime(df_allrows_summer[\"duedate\"])"
   ]
  },
  {
   "cell_type": "code",
   "execution_count": 9,
   "metadata": {},
   "outputs": [],
   "source": [
    "df_allrows_summer.loc[:, \"interval\"] = pd.to_datetime(df_allrows_summer[\"interval\"])"
   ]
  },
  {
   "cell_type": "code",
   "execution_count": 10,
   "metadata": {
    "scrolled": true
   },
   "outputs": [
    {
     "data": {
      "text/html": [
       "<div>\n",
       "<style scoped>\n",
       "    .dataframe tbody tr th:only-of-type {\n",
       "        vertical-align: middle;\n",
       "    }\n",
       "\n",
       "    .dataframe tbody tr th {\n",
       "        vertical-align: top;\n",
       "    }\n",
       "\n",
       "    .dataframe thead th {\n",
       "        text-align: right;\n",
       "    }\n",
       "</style>\n",
       "<table border=\"1\" class=\"dataframe\">\n",
       "  <thead>\n",
       "    <tr style=\"text-align: right;\">\n",
       "      <th></th>\n",
       "      <th>name</th>\n",
       "      <th>stationcode</th>\n",
       "      <th>ebike</th>\n",
       "      <th>mechanical</th>\n",
       "      <th>duedate</th>\n",
       "      <th>numbikesavailable</th>\n",
       "      <th>numdocksavailable</th>\n",
       "      <th>capacity</th>\n",
       "      <th>is_renting</th>\n",
       "      <th>is_installed</th>\n",
       "      <th>is_returning</th>\n",
       "      <th>Latitude</th>\n",
       "      <th>Longitude</th>\n",
       "      <th>commune</th>\n",
       "      <th>month</th>\n",
       "      <th>interval</th>\n",
       "      <th>numbikesordocksbroken</th>\n",
       "      <th>StationPlus</th>\n",
       "    </tr>\n",
       "  </thead>\n",
       "  <tbody>\n",
       "    <tr>\n",
       "      <td>0</td>\n",
       "      <td>11 Novembre 1918 - 8 Mai 1945</td>\n",
       "      <td>45003</td>\n",
       "      <td>6</td>\n",
       "      <td>3</td>\n",
       "      <td>2022-05-01 00:40:43+02:00</td>\n",
       "      <td>9</td>\n",
       "      <td>27</td>\n",
       "      <td>36</td>\n",
       "      <td>OUI</td>\n",
       "      <td>OUI</td>\n",
       "      <td>OUI</td>\n",
       "      <td>48.8088</td>\n",
       "      <td>2.5382</td>\n",
       "      <td>Champigny-sur-Marne</td>\n",
       "      <td>5</td>\n",
       "      <td>2022-05-01 01:00:00+02:00</td>\n",
       "      <td>0</td>\n",
       "      <td>NON</td>\n",
       "    </tr>\n",
       "    <tr>\n",
       "      <td>1</td>\n",
       "      <td>11 Novembre 1918 - 8 Mai 1945</td>\n",
       "      <td>45003</td>\n",
       "      <td>6</td>\n",
       "      <td>3</td>\n",
       "      <td>2022-05-01 01:37:31+02:00</td>\n",
       "      <td>9</td>\n",
       "      <td>27</td>\n",
       "      <td>36</td>\n",
       "      <td>OUI</td>\n",
       "      <td>OUI</td>\n",
       "      <td>OUI</td>\n",
       "      <td>48.8088</td>\n",
       "      <td>2.5382</td>\n",
       "      <td>Champigny-sur-Marne</td>\n",
       "      <td>5</td>\n",
       "      <td>2022-05-01 02:00:00+02:00</td>\n",
       "      <td>0</td>\n",
       "      <td>NON</td>\n",
       "    </tr>\n",
       "    <tr>\n",
       "      <td>2</td>\n",
       "      <td>11 Novembre 1918 - 8 Mai 1945</td>\n",
       "      <td>45003</td>\n",
       "      <td>6</td>\n",
       "      <td>3</td>\n",
       "      <td>2022-05-01 02:37:39+02:00</td>\n",
       "      <td>9</td>\n",
       "      <td>27</td>\n",
       "      <td>36</td>\n",
       "      <td>OUI</td>\n",
       "      <td>OUI</td>\n",
       "      <td>OUI</td>\n",
       "      <td>48.8088</td>\n",
       "      <td>2.5382</td>\n",
       "      <td>Champigny-sur-Marne</td>\n",
       "      <td>5</td>\n",
       "      <td>2022-05-01 03:00:00+02:00</td>\n",
       "      <td>0</td>\n",
       "      <td>NON</td>\n",
       "    </tr>\n",
       "    <tr>\n",
       "      <td>3</td>\n",
       "      <td>11 Novembre 1918 - 8 Mai 1945</td>\n",
       "      <td>45003</td>\n",
       "      <td>6</td>\n",
       "      <td>3</td>\n",
       "      <td>2022-05-01 03:37:48+02:00</td>\n",
       "      <td>9</td>\n",
       "      <td>27</td>\n",
       "      <td>36</td>\n",
       "      <td>OUI</td>\n",
       "      <td>OUI</td>\n",
       "      <td>OUI</td>\n",
       "      <td>48.8088</td>\n",
       "      <td>2.5382</td>\n",
       "      <td>Champigny-sur-Marne</td>\n",
       "      <td>5</td>\n",
       "      <td>2022-05-01 04:00:00+02:00</td>\n",
       "      <td>0</td>\n",
       "      <td>NON</td>\n",
       "    </tr>\n",
       "    <tr>\n",
       "      <td>4</td>\n",
       "      <td>11 Novembre 1918 - 8 Mai 1945</td>\n",
       "      <td>45003</td>\n",
       "      <td>6</td>\n",
       "      <td>3</td>\n",
       "      <td>2022-05-01 04:39:55+02:00</td>\n",
       "      <td>9</td>\n",
       "      <td>27</td>\n",
       "      <td>36</td>\n",
       "      <td>OUI</td>\n",
       "      <td>OUI</td>\n",
       "      <td>OUI</td>\n",
       "      <td>48.8088</td>\n",
       "      <td>2.5382</td>\n",
       "      <td>Champigny-sur-Marne</td>\n",
       "      <td>5</td>\n",
       "      <td>2022-05-01 05:00:00+02:00</td>\n",
       "      <td>0</td>\n",
       "      <td>NON</td>\n",
       "    </tr>\n",
       "    <tr>\n",
       "      <td>...</td>\n",
       "      <td>...</td>\n",
       "      <td>...</td>\n",
       "      <td>...</td>\n",
       "      <td>...</td>\n",
       "      <td>...</td>\n",
       "      <td>...</td>\n",
       "      <td>...</td>\n",
       "      <td>...</td>\n",
       "      <td>...</td>\n",
       "      <td>...</td>\n",
       "      <td>...</td>\n",
       "      <td>...</td>\n",
       "      <td>...</td>\n",
       "      <td>...</td>\n",
       "      <td>...</td>\n",
       "      <td>...</td>\n",
       "      <td>...</td>\n",
       "      <td>...</td>\n",
       "    </tr>\n",
       "    <tr>\n",
       "      <td>4051234</td>\n",
       "      <td>Youri Gagarine - Karl Marx</td>\n",
       "      <td>48003</td>\n",
       "      <td>3</td>\n",
       "      <td>2</td>\n",
       "      <td>2022-08-31 19:06:05+02:00</td>\n",
       "      <td>5</td>\n",
       "      <td>17</td>\n",
       "      <td>22</td>\n",
       "      <td>OUI</td>\n",
       "      <td>OUI</td>\n",
       "      <td>OUI</td>\n",
       "      <td>48.7844</td>\n",
       "      <td>2.3590</td>\n",
       "      <td>Villejuif</td>\n",
       "      <td>8</td>\n",
       "      <td>2022-08-31 19:00:00+02:00</td>\n",
       "      <td>0</td>\n",
       "      <td>NON</td>\n",
       "    </tr>\n",
       "    <tr>\n",
       "      <td>4051235</td>\n",
       "      <td>Youri Gagarine - Karl Marx</td>\n",
       "      <td>48003</td>\n",
       "      <td>1</td>\n",
       "      <td>2</td>\n",
       "      <td>2022-08-31 19:58:14+02:00</td>\n",
       "      <td>3</td>\n",
       "      <td>19</td>\n",
       "      <td>22</td>\n",
       "      <td>OUI</td>\n",
       "      <td>OUI</td>\n",
       "      <td>OUI</td>\n",
       "      <td>48.7844</td>\n",
       "      <td>2.3590</td>\n",
       "      <td>Villejuif</td>\n",
       "      <td>8</td>\n",
       "      <td>2022-08-31 20:00:00+02:00</td>\n",
       "      <td>0</td>\n",
       "      <td>NON</td>\n",
       "    </tr>\n",
       "    <tr>\n",
       "      <td>4051236</td>\n",
       "      <td>Youri Gagarine - Karl Marx</td>\n",
       "      <td>48003</td>\n",
       "      <td>1</td>\n",
       "      <td>2</td>\n",
       "      <td>2022-08-31 21:06:53+02:00</td>\n",
       "      <td>3</td>\n",
       "      <td>19</td>\n",
       "      <td>22</td>\n",
       "      <td>OUI</td>\n",
       "      <td>OUI</td>\n",
       "      <td>OUI</td>\n",
       "      <td>48.7844</td>\n",
       "      <td>2.3590</td>\n",
       "      <td>Villejuif</td>\n",
       "      <td>8</td>\n",
       "      <td>2022-08-31 21:00:00+02:00</td>\n",
       "      <td>0</td>\n",
       "      <td>NON</td>\n",
       "    </tr>\n",
       "    <tr>\n",
       "      <td>4051237</td>\n",
       "      <td>Youri Gagarine - Karl Marx</td>\n",
       "      <td>48003</td>\n",
       "      <td>2</td>\n",
       "      <td>2</td>\n",
       "      <td>2022-08-31 22:06:58+02:00</td>\n",
       "      <td>4</td>\n",
       "      <td>18</td>\n",
       "      <td>22</td>\n",
       "      <td>OUI</td>\n",
       "      <td>OUI</td>\n",
       "      <td>OUI</td>\n",
       "      <td>48.7844</td>\n",
       "      <td>2.3590</td>\n",
       "      <td>Villejuif</td>\n",
       "      <td>8</td>\n",
       "      <td>2022-08-31 22:00:00+02:00</td>\n",
       "      <td>0</td>\n",
       "      <td>NON</td>\n",
       "    </tr>\n",
       "    <tr>\n",
       "      <td>4051238</td>\n",
       "      <td>Youri Gagarine - Karl Marx</td>\n",
       "      <td>48003</td>\n",
       "      <td>3</td>\n",
       "      <td>3</td>\n",
       "      <td>2022-08-31 23:07:05+02:00</td>\n",
       "      <td>6</td>\n",
       "      <td>16</td>\n",
       "      <td>22</td>\n",
       "      <td>OUI</td>\n",
       "      <td>OUI</td>\n",
       "      <td>OUI</td>\n",
       "      <td>48.7844</td>\n",
       "      <td>2.3590</td>\n",
       "      <td>Villejuif</td>\n",
       "      <td>8</td>\n",
       "      <td>2022-08-31 23:00:00+02:00</td>\n",
       "      <td>0</td>\n",
       "      <td>NON</td>\n",
       "    </tr>\n",
       "  </tbody>\n",
       "</table>\n",
       "<p>4051239 rows × 18 columns</p>\n",
       "</div>"
      ],
      "text/plain": [
       "                                  name  stationcode  ebike  mechanical  \\\n",
       "0        11 Novembre 1918 - 8 Mai 1945        45003      6           3   \n",
       "1        11 Novembre 1918 - 8 Mai 1945        45003      6           3   \n",
       "2        11 Novembre 1918 - 8 Mai 1945        45003      6           3   \n",
       "3        11 Novembre 1918 - 8 Mai 1945        45003      6           3   \n",
       "4        11 Novembre 1918 - 8 Mai 1945        45003      6           3   \n",
       "...                                ...          ...    ...         ...   \n",
       "4051234     Youri Gagarine - Karl Marx        48003      3           2   \n",
       "4051235     Youri Gagarine - Karl Marx        48003      1           2   \n",
       "4051236     Youri Gagarine - Karl Marx        48003      1           2   \n",
       "4051237     Youri Gagarine - Karl Marx        48003      2           2   \n",
       "4051238     Youri Gagarine - Karl Marx        48003      3           3   \n",
       "\n",
       "                          duedate  numbikesavailable  numdocksavailable  \\\n",
       "0       2022-05-01 00:40:43+02:00                  9                 27   \n",
       "1       2022-05-01 01:37:31+02:00                  9                 27   \n",
       "2       2022-05-01 02:37:39+02:00                  9                 27   \n",
       "3       2022-05-01 03:37:48+02:00                  9                 27   \n",
       "4       2022-05-01 04:39:55+02:00                  9                 27   \n",
       "...                           ...                ...                ...   \n",
       "4051234 2022-08-31 19:06:05+02:00                  5                 17   \n",
       "4051235 2022-08-31 19:58:14+02:00                  3                 19   \n",
       "4051236 2022-08-31 21:06:53+02:00                  3                 19   \n",
       "4051237 2022-08-31 22:06:58+02:00                  4                 18   \n",
       "4051238 2022-08-31 23:07:05+02:00                  6                 16   \n",
       "\n",
       "         capacity is_renting is_installed is_returning  Latitude  Longitude  \\\n",
       "0              36        OUI          OUI          OUI   48.8088     2.5382   \n",
       "1              36        OUI          OUI          OUI   48.8088     2.5382   \n",
       "2              36        OUI          OUI          OUI   48.8088     2.5382   \n",
       "3              36        OUI          OUI          OUI   48.8088     2.5382   \n",
       "4              36        OUI          OUI          OUI   48.8088     2.5382   \n",
       "...           ...        ...          ...          ...       ...        ...   \n",
       "4051234        22        OUI          OUI          OUI   48.7844     2.3590   \n",
       "4051235        22        OUI          OUI          OUI   48.7844     2.3590   \n",
       "4051236        22        OUI          OUI          OUI   48.7844     2.3590   \n",
       "4051237        22        OUI          OUI          OUI   48.7844     2.3590   \n",
       "4051238        22        OUI          OUI          OUI   48.7844     2.3590   \n",
       "\n",
       "                     commune  month                  interval  \\\n",
       "0        Champigny-sur-Marne      5 2022-05-01 01:00:00+02:00   \n",
       "1        Champigny-sur-Marne      5 2022-05-01 02:00:00+02:00   \n",
       "2        Champigny-sur-Marne      5 2022-05-01 03:00:00+02:00   \n",
       "3        Champigny-sur-Marne      5 2022-05-01 04:00:00+02:00   \n",
       "4        Champigny-sur-Marne      5 2022-05-01 05:00:00+02:00   \n",
       "...                      ...    ...                       ...   \n",
       "4051234            Villejuif      8 2022-08-31 19:00:00+02:00   \n",
       "4051235            Villejuif      8 2022-08-31 20:00:00+02:00   \n",
       "4051236            Villejuif      8 2022-08-31 21:00:00+02:00   \n",
       "4051237            Villejuif      8 2022-08-31 22:00:00+02:00   \n",
       "4051238            Villejuif      8 2022-08-31 23:00:00+02:00   \n",
       "\n",
       "         numbikesordocksbroken StationPlus  \n",
       "0                            0         NON  \n",
       "1                            0         NON  \n",
       "2                            0         NON  \n",
       "3                            0         NON  \n",
       "4                            0         NON  \n",
       "...                        ...         ...  \n",
       "4051234                      0         NON  \n",
       "4051235                      0         NON  \n",
       "4051236                      0         NON  \n",
       "4051237                      0         NON  \n",
       "4051238                      0         NON  \n",
       "\n",
       "[4051239 rows x 18 columns]"
      ]
     },
     "execution_count": 10,
     "metadata": {},
     "output_type": "execute_result"
    }
   ],
   "source": [
    "df_allrows_summer"
   ]
  },
  {
   "cell_type": "code",
   "execution_count": 11,
   "metadata": {},
   "outputs": [
    {
     "data": {
      "text/plain": [
       "1428"
      ]
     },
     "execution_count": 11,
     "metadata": {},
     "output_type": "execute_result"
    }
   ],
   "source": [
    "df_allrows_summer[\"name\"].nunique()"
   ]
  },
  {
   "cell_type": "code",
   "execution_count": 12,
   "metadata": {},
   "outputs": [
    {
     "name": "stdout",
     "output_type": "stream",
     "text": [
      "Il y a 1428 stations Vélib au total\n"
     ]
    }
   ],
   "source": [
    "print(f'Il y a {df_allrows_summer[\"stationcode\"].nunique()} stations Vélib au total')"
   ]
  },
  {
   "cell_type": "code",
   "execution_count": 13,
   "metadata": {},
   "outputs": [
    {
     "data": {
      "text/plain": [
       "(4033072, 18)"
      ]
     },
     "execution_count": 13,
     "metadata": {},
     "output_type": "execute_result"
    }
   ],
   "source": [
    "# filtrer le df avec seulement les stations en marche !!!\n",
    "df_summer = df_allrows_summer[df_allrows_summer[\"is_renting\"] == \"OUI\"]\n",
    "df_summer.shape"
   ]
  },
  {
   "cell_type": "code",
   "execution_count": 96,
   "metadata": {},
   "outputs": [
    {
     "data": {
      "text/plain": [
       "1428"
      ]
     },
     "execution_count": 96,
     "metadata": {},
     "output_type": "execute_result"
    }
   ],
   "source": [
    "df_allrows_summer['stationcode'].nunique()"
   ]
  },
  {
   "cell_type": "code",
   "execution_count": 97,
   "metadata": {},
   "outputs": [
    {
     "data": {
      "text/plain": [
       "1424"
      ]
     },
     "execution_count": 97,
     "metadata": {},
     "output_type": "execute_result"
    }
   ],
   "source": [
    "df_summer['stationcode'].nunique()"
   ]
  },
  {
   "cell_type": "code",
   "execution_count": 14,
   "metadata": {},
   "outputs": [
    {
     "name": "stdout",
     "output_type": "stream",
     "text": [
      "Il y a 1424 stations Vélib au total qui fonctionnent\n"
     ]
    }
   ],
   "source": [
    "print(f'Il y a {df_summer[\"stationcode\"].nunique()} stations Vélib au total qui fonctionnent')"
   ]
  },
  {
   "cell_type": "code",
   "execution_count": 99,
   "metadata": {},
   "outputs": [
    {
     "name": "stdout",
     "output_type": "stream",
     "text": [
      "Il y a donc que 4 stations qui n'ont jamais marché mais 178 au total qui n'ont pas marché pendant un moment\n"
     ]
    }
   ],
   "source": [
    "print(\"Il y a donc que 4 stations qui n'ont jamais marché mais 178 au total qui n'ont pas marché pendant un moment\")"
   ]
  },
  {
   "cell_type": "code",
   "execution_count": 108,
   "metadata": {},
   "outputs": [
    {
     "data": {
      "text/plain": [
       "array([False, False, False, False, False, False, False, False, False,\n",
       "       False, False, False, False, False, False, False, False, False,\n",
       "       False, False, False, False, False, False, False, False, False,\n",
       "       False, False, False, False, False, False, False, False, False,\n",
       "       False, False, False, False, False, False,  True,  True,  True,\n",
       "        True,  True,  True,  True,  True,  True,  True,  True,  True,\n",
       "        True,  True,  True,  True,  True,  True,  True,  True, False,\n",
       "       False, False, False, False, False, False, False, False, False,\n",
       "       False, False, False, False, False, False, False])"
      ]
     },
     "execution_count": 108,
     "metadata": {},
     "output_type": "execute_result"
    }
   ],
   "source": [
    "(df_summer.groupby(\"commune\")[\"stationcode\"].nunique().index.str.contains(\"Paris\"))"
   ]
  },
  {
   "cell_type": "code",
   "execution_count": 110,
   "metadata": {},
   "outputs": [
    {
     "data": {
      "text/plain": [
       "989"
      ]
     },
     "execution_count": 110,
     "metadata": {},
     "output_type": "execute_result"
    }
   ],
   "source": [
    "cond = (df_summer.groupby(\"commune\")[\"stationcode\"].nunique().index.str.contains(\"Paris\"))\n",
    "df_summer.groupby(\"commune\")[\"stationcode\"].nunique()[cond]"
   ]
  },
  {
   "cell_type": "markdown",
   "metadata": {},
   "source": [
    "# ANALYSE - PAR COMMUNE"
   ]
  },
  {
   "cell_type": "markdown",
   "metadata": {},
   "source": [
    "# 1) STATIONS"
   ]
  },
  {
   "cell_type": "markdown",
   "metadata": {},
   "source": [
    "## Nombre total de stations dans les différentes communes "
   ]
  },
  {
   "cell_type": "code",
   "execution_count": 15,
   "metadata": {
    "scrolled": true
   },
   "outputs": [
    {
     "data": {
      "text/plain": [
       "commune\n",
       "Paris 15             88\n",
       "Paris 20             69\n",
       "Paris 12             68\n",
       "Paris 13             66\n",
       "Paris 17             64\n",
       "                     ..\n",
       "Puteaux               2\n",
       "Noisy-le-Sec          2\n",
       "Joinville-le-Pont     2\n",
       "Bois-Colombes         1\n",
       "Ville-d'Avray         1\n",
       "Name: stationcode, Length: 79, dtype: int64"
      ]
     },
     "execution_count": 15,
     "metadata": {},
     "output_type": "execute_result"
    }
   ],
   "source": [
    "nb_stations_bycommune = df_summer.groupby(\"commune\")[\"stationcode\"].nunique().sort_values(ascending = False)\n",
    "nb_stations_bycommune"
   ]
  },
  {
   "cell_type": "markdown",
   "metadata": {},
   "source": [
    "# 2) BORNETTES"
   ]
  },
  {
   "cell_type": "markdown",
   "metadata": {},
   "source": [
    "## Nombre total de bornettes dans les différentes communes "
   ]
  },
  {
   "cell_type": "code",
   "execution_count": 16,
   "metadata": {},
   "outputs": [
    {
     "data": {
      "text/plain": [
       "commune          name                               \n",
       "Alfortville      Carnot - Paquerettes                   26\n",
       "                 Gare RER - Malleret-Joinville          20\n",
       "                 Marne - Charles de Gaulle              27\n",
       "                 Place de l'Europe - Alfortville        24\n",
       "                 Victor Hugo - Ecoles                   25\n",
       "                                                        ..\n",
       "Vitry-sur-Seine  Paul Vaillant-Couturier - Gare RER     26\n",
       "                 Place Saint-Just                       22\n",
       "                 Place de l'Eglise - Vitry-sur-Seine    28\n",
       "                 Quai Jules Guesde - Saint-Simon        30\n",
       "                 Youri Gagarine - Commune de Paris      33\n",
       "Name: capacity, Length: 1424, dtype: int64"
      ]
     },
     "execution_count": 16,
     "metadata": {},
     "output_type": "execute_result"
    }
   ],
   "source": [
    "df_summer.groupby([\"commune\", \"name\"])[\"capacity\"].first()"
   ]
  },
  {
   "cell_type": "code",
   "execution_count": 17,
   "metadata": {
    "scrolled": true
   },
   "outputs": [
    {
     "data": {
      "text/plain": [
       "commune\n",
       "Paris 15          3297\n",
       "Paris 12          2670\n",
       "Paris 13          2252\n",
       "Paris 17          2198\n",
       "Paris 16          2198\n",
       "                  ... \n",
       "Puteaux             58\n",
       "Noisy-le-Sec        58\n",
       "Bourg-la-Reine      55\n",
       "Bois-Colombes       30\n",
       "Ville-d'Avray       24\n",
       "Name: capacity, Length: 79, dtype: int32"
      ]
     },
     "execution_count": 17,
     "metadata": {},
     "output_type": "execute_result"
    }
   ],
   "source": [
    "nb_bornettes_bycommune = df_summer.groupby([\"commune\", \"name\"])[\"capacity\"].mean().groupby(\"commune\").sum().sort_values(ascending = False).round().astype(int)\n",
    "nb_bornettes_bycommune"
   ]
  },
  {
   "cell_type": "code",
   "execution_count": 18,
   "metadata": {},
   "outputs": [
    {
     "data": {
      "text/plain": [
       "44982"
      ]
     },
     "execution_count": 18,
     "metadata": {},
     "output_type": "execute_result"
    }
   ],
   "source": [
    "# totalité de bornettes\n",
    "nb_bornettes_bycommune.sum()"
   ]
  },
  {
   "cell_type": "code",
   "execution_count": 19,
   "metadata": {},
   "outputs": [
    {
     "data": {
      "text/plain": [
       "122"
      ]
     },
     "execution_count": 19,
     "metadata": {},
     "output_type": "execute_result"
    }
   ],
   "source": [
    "nb_bornettes_bycommune[\"Alfortville\"]"
   ]
  },
  {
   "cell_type": "markdown",
   "metadata": {},
   "source": [
    "## Nombre moyen de bornettes par station dans les différentes communes "
   ]
  },
  {
   "cell_type": "code",
   "execution_count": 20,
   "metadata": {},
   "outputs": [
    {
     "data": {
      "text/plain": [
       "commune\n",
       "Nogent-sur-Marne       44\n",
       "Joinville-le-Pont      42\n",
       "Les Lilas              42\n",
       "Paris 12               39\n",
       "Paris 07               38\n",
       "                       ..\n",
       "Colombes               24\n",
       "Romainville            22\n",
       "Cachan                 21\n",
       "La Garenne-Colombes    21\n",
       "Chaville               21\n",
       "Name: capacity, Length: 79, dtype: int32"
      ]
     },
     "execution_count": 20,
     "metadata": {},
     "output_type": "execute_result"
    }
   ],
   "source": [
    "nbmoyen_bornettesstation_bycommune = df_summer.groupby(\"commune\")[\"capacity\"].mean().sort_values(ascending = False).round().astype(int)\n",
    "nbmoyen_bornettesstation_bycommune"
   ]
  },
  {
   "cell_type": "markdown",
   "metadata": {},
   "source": [
    "## Nombre de bornettes par station"
   ]
  },
  {
   "cell_type": "code",
   "execution_count": 21,
   "metadata": {},
   "outputs": [
    {
     "data": {
      "text/plain": [
       "name\n",
       "Solidays - 24 au 26 juin - 16h00 à 5h00    105\n",
       "Emeriau - Beaugrenelle                      74\n",
       "Grenelle - Dr Finlay                        71\n",
       "Censier - Santeuil                          69\n",
       "Fabre d'Eglantine - Place de la Nation      68\n",
       "                                          ... \n",
       "Messine - Place Du Perou                    12\n",
       "Place des Abbesses                          12\n",
       "Pyrenees - Plaine                           12\n",
       "Brancion - Lefebvre                         11\n",
       "Toffier Decaux - Cartier Bresson             7\n",
       "Name: capacity, Length: 1424, dtype: int32"
      ]
     },
     "execution_count": 21,
     "metadata": {},
     "output_type": "execute_result"
    }
   ],
   "source": [
    "nb_bornettes_bystation = df_summer.groupby([\"name\"])[\"capacity\"].mean().sort_values(ascending = False).round().astype(int)\n",
    "nb_bornettes_bystation"
   ]
  },
  {
   "cell_type": "code",
   "execution_count": 201,
   "metadata": {},
   "outputs": [
    {
     "data": {
      "text/plain": [
       "31.588483146067414"
      ]
     },
     "execution_count": 201,
     "metadata": {},
     "output_type": "execute_result"
    }
   ],
   "source": [
    "nb_bornettes_bystation.mean()"
   ]
  },
  {
   "cell_type": "markdown",
   "metadata": {},
   "source": [
    "# 3) VELOS DISPONIBLES"
   ]
  },
  {
   "cell_type": "markdown",
   "metadata": {},
   "source": [
    "## Nombre moyen de vélos disponibles par station"
   ]
  },
  {
   "cell_type": "code",
   "execution_count": 23,
   "metadata": {},
   "outputs": [
    {
     "data": {
      "text/plain": [
       "name\n",
       "Regnault - Patay                                      53\n",
       "Emeriau - Beaugrenelle                                51\n",
       "Grenelle - Dr Finlay                                  47\n",
       "Parvis Corentin Celton                                46\n",
       "Parc Andre Citroën                                    46\n",
       "                                                      ..\n",
       "Dunkerque - Trudaine                                   2\n",
       "Batignolles - Rome                                     2\n",
       "Jean Oestreicher - Porte de Champerret                 2\n",
       "Gare du Nord - Saint-Vincent de Paul                   2\n",
       "Marechal Leclerc de Hauteclocque - Marche Buzenval     2\n",
       "Name: numbikesavailable, Length: 1424, dtype: int32"
      ]
     },
     "execution_count": 23,
     "metadata": {},
     "output_type": "execute_result"
    }
   ],
   "source": [
    "nbmoyen_velosdispos_bystation = df_summer.groupby([\"name\"])[\"numbikesavailable\"].mean().sort_values(ascending = False).round().astype(int)\n",
    "nbmoyen_velosdispos_bystation"
   ]
  },
  {
   "cell_type": "code",
   "execution_count": 24,
   "metadata": {},
   "outputs": [
    {
     "data": {
      "text/plain": [
       "11"
      ]
     },
     "execution_count": 24,
     "metadata": {},
     "output_type": "execute_result"
    }
   ],
   "source": [
    "int(nbmoyen_velosdispos_bystation.mean())"
   ]
  },
  {
   "cell_type": "markdown",
   "metadata": {},
   "source": [
    "## Nombre total de vélos disponibles en moyenne dans les différentes communes"
   ]
  },
  {
   "cell_type": "code",
   "execution_count": 25,
   "metadata": {
    "scrolled": true
   },
   "outputs": [
    {
     "data": {
      "text/plain": [
       "commune\n",
       "Alfortville            89\n",
       "Arcueil                54\n",
       "Argenteuil             77\n",
       "Asnieres-sur-Seine    140\n",
       "Aubervilliers         165\n",
       "                     ... \n",
       "Vanves                 58\n",
       "Ville-d'Avray           8\n",
       "Villejuif              88\n",
       "Vincennes             115\n",
       "Vitry-sur-Seine       282\n",
       "Name: numbikesavailable, Length: 79, dtype: int32"
      ]
     },
     "execution_count": 25,
     "metadata": {},
     "output_type": "execute_result"
    }
   ],
   "source": [
    "nb_velosdispos = df_summer.groupby([\"commune\", \"name\"])[\"numbikesavailable\"].mean().sort_values(ascending = False).round().astype(int)\n",
    "nb_velosdispos_bycommune = nb_velosdispos.groupby(\"commune\").sum()\n",
    "nb_velosdispos_bycommune"
   ]
  },
  {
   "cell_type": "markdown",
   "metadata": {},
   "source": [
    "## Nombre moyen de vélos disponibles par station dans les différentes communes"
   ]
  },
  {
   "cell_type": "code",
   "execution_count": 26,
   "metadata": {},
   "outputs": [
    {
     "data": {
      "text/plain": [
       "commune\n",
       "Alfortville           17\n",
       "Arcueil               13\n",
       "Argenteuil            15\n",
       "Asnieres-sur-Seine    15\n",
       "Aubervilliers         12\n",
       "                      ..\n",
       "Vanves                 8\n",
       "Ville-d'Avray          8\n",
       "Villejuif              8\n",
       "Vincennes             11\n",
       "Vitry-sur-Seine       17\n",
       "Name: numbikesavailable, Length: 79, dtype: int32"
      ]
     },
     "execution_count": 26,
     "metadata": {},
     "output_type": "execute_result"
    }
   ],
   "source": [
    "nb_totalmoy_velosdispos_bycommune = nb_velosdispos.groupby(\"commune\").mean().astype(int)\n",
    "nb_totalmoy_velosdispos_bycommune"
   ]
  },
  {
   "cell_type": "markdown",
   "metadata": {},
   "source": [
    "# 4) PLACES DISPONIBLES"
   ]
  },
  {
   "cell_type": "markdown",
   "metadata": {},
   "source": [
    "## Nombre moyen de places disponibles par station"
   ]
  },
  {
   "cell_type": "code",
   "execution_count": 27,
   "metadata": {},
   "outputs": [
    {
     "data": {
      "text/plain": [
       "name\n",
       "Solidays - 24 au 26 juin - 16h00 à 5h00    94\n",
       "Fabre d'Eglantine - Place de la Nation     60\n",
       "Epee de Bois - Mouffetard                  54\n",
       "Mozart - Jasmin                            53\n",
       "Rocher - Laborde                           52\n",
       "                                           ..\n",
       "Pont De Charenton                           4\n",
       "Republique - Louis Loucheur                 4\n",
       "Les Planetes                                3\n",
       "Desaix - Edgar Faure                        3\n",
       "Place Paul Eluard                           3\n",
       "Name: numdocksavailable, Length: 1424, dtype: int32"
      ]
     },
     "execution_count": 27,
     "metadata": {},
     "output_type": "execute_result"
    }
   ],
   "source": [
    "nbmoyen_placesdispos_bystation = df_summer.groupby([\"name\"])[\"numdocksavailable\"].mean().sort_values(ascending = False).round().astype(int)\n",
    "nbmoyen_placesdispos_bystation"
   ]
  },
  {
   "cell_type": "code",
   "execution_count": 216,
   "metadata": {},
   "outputs": [
    {
     "data": {
      "text/plain": [
       "19.395365168539325"
      ]
     },
     "execution_count": 216,
     "metadata": {},
     "output_type": "execute_result"
    }
   ],
   "source": [
    "nbmoyen_placesdispos_bystation.mean()"
   ]
  },
  {
   "cell_type": "code",
   "execution_count": 217,
   "metadata": {},
   "outputs": [
    {
     "data": {
      "text/plain": [
       "19.334882937869693"
      ]
     },
     "execution_count": 217,
     "metadata": {},
     "output_type": "execute_result"
    }
   ],
   "source": [
    "df_summer[\"numdocksavailable\"].mean()"
   ]
  },
  {
   "cell_type": "markdown",
   "metadata": {},
   "source": [
    "## Nombre total de places disponibles en moyenne dans les différentes communes"
   ]
  },
  {
   "cell_type": "code",
   "execution_count": 28,
   "metadata": {},
   "outputs": [
    {
     "data": {
      "text/plain": [
       "commune\n",
       "Alfortville            28\n",
       "Arcueil                60\n",
       "Argenteuil             81\n",
       "Asnieres-sur-Seine     81\n",
       "Aubervilliers         216\n",
       "                     ... \n",
       "Vanves                169\n",
       "Ville-d'Avray          14\n",
       "Villejuif             160\n",
       "Vincennes             180\n",
       "Vitry-sur-Seine       159\n",
       "Name: numdocksavailable, Length: 79, dtype: int32"
      ]
     },
     "execution_count": 28,
     "metadata": {},
     "output_type": "execute_result"
    }
   ],
   "source": [
    "nb_placesdispos = df_summer.groupby([\"commune\", \"name\"])[\"numdocksavailable\"].mean().sort_values(ascending = False).round().astype(int)\n",
    "nb_placesdispos_bycommune = nb_placesdispos.groupby(\"commune\").sum()\n",
    "nb_placesdispos_bycommune"
   ]
  },
  {
   "cell_type": "markdown",
   "metadata": {},
   "source": [
    "## Nombre moyen de places disponibles par station dans les différentes communes"
   ]
  },
  {
   "cell_type": "code",
   "execution_count": 29,
   "metadata": {},
   "outputs": [
    {
     "data": {
      "text/plain": [
       "commune\n",
       "Alfortville            5\n",
       "Arcueil               15\n",
       "Argenteuil            16\n",
       "Asnieres-sur-Seine     9\n",
       "Aubervilliers         16\n",
       "                      ..\n",
       "Vanves                24\n",
       "Ville-d'Avray         14\n",
       "Villejuif             16\n",
       "Vincennes             18\n",
       "Vitry-sur-Seine        9\n",
       "Name: numdocksavailable, Length: 79, dtype: int32"
      ]
     },
     "execution_count": 29,
     "metadata": {},
     "output_type": "execute_result"
    }
   ],
   "source": [
    "nb_totalmoy_placesdispos_bycommune = nb_placesdispos.groupby(\"commune\").mean().astype(int)\n",
    "nb_totalmoy_placesdispos_bycommune"
   ]
  },
  {
   "cell_type": "markdown",
   "metadata": {},
   "source": [
    "# 5) DEFECTUEUX"
   ]
  },
  {
   "cell_type": "markdown",
   "metadata": {},
   "source": [
    "## Nombre moyen de bornettes et/ou vélos défectueux par station"
   ]
  },
  {
   "cell_type": "code",
   "execution_count": 30,
   "metadata": {},
   "outputs": [
    {
     "data": {
      "text/plain": [
       "name\n",
       "Malakoff - Place de la Porte Maillot        15\n",
       "Crozatier - Faubourg Saint-Antoine          13\n",
       "Grande Armee - Brunel                       13\n",
       "Cadet - La Fayette                           8\n",
       "Gare Saint-Lazare - Place de Budapest        8\n",
       "                                            ..\n",
       "Place Balard                                -3\n",
       "Aristide Briand - Place de la Resistance    -4\n",
       "Bercy - Villot                              -7\n",
       "BNF - Bibliotheque Nationale de France      -8\n",
       "Westermeyer - Paul Vaillant-Couturier       -9\n",
       "Name: numbikesordocksbroken, Length: 1424, dtype: int32"
      ]
     },
     "execution_count": 30,
     "metadata": {},
     "output_type": "execute_result"
    }
   ],
   "source": [
    "nbmoyen_velosbroken = df_summer.groupby([\"commune\", \"name\"])[\"numbikesordocksbroken\"].mean().sort_values(ascending = False).round().astype(int)\n",
    "nbmoyen_velosbroken_bystation = nbmoyen_velosbroken.groupby(\"name\").first().sort_values(ascending = False).astype(int)\n",
    "nbmoyen_velosbroken_bystation"
   ]
  },
  {
   "cell_type": "code",
   "execution_count": 31,
   "metadata": {},
   "outputs": [
    {
     "data": {
      "text/plain": [
       "1"
      ]
     },
     "execution_count": 31,
     "metadata": {},
     "output_type": "execute_result"
    }
   ],
   "source": [
    "nbmoyen_velosbroken_bystation[\"Place des Abbesses\"]"
   ]
  },
  {
   "cell_type": "markdown",
   "metadata": {},
   "source": [
    "## Nombre total de vélos et/ou bornettes défectueux en moyenne dans les différentes communes "
   ]
  },
  {
   "cell_type": "code",
   "execution_count": 32,
   "metadata": {
    "scrolled": false
   },
   "outputs": [
    {
     "data": {
      "text/plain": [
       "commune\n",
       "Alfortville            5\n",
       "Arcueil                4\n",
       "Argenteuil             3\n",
       "Asnieres-sur-Seine    14\n",
       "Aubervilliers         20\n",
       "                      ..\n",
       "Vanves                 7\n",
       "Ville-d'Avray          1\n",
       "Villejuif              9\n",
       "Vincennes             12\n",
       "Vitry-sur-Seine       18\n",
       "Name: numbikesordocksbroken, Length: 79, dtype: int32"
      ]
     },
     "execution_count": 32,
     "metadata": {},
     "output_type": "execute_result"
    }
   ],
   "source": [
    "nb_broken = df_summer.groupby([\"commune\", \"name\"])[\"numbikesordocksbroken\"].mean().sort_values(ascending = False).round().astype(int)\n",
    "nb_broken_bycommune = nb_broken.groupby(\"commune\").sum()\n",
    "nb_broken_bycommune"
   ]
  },
  {
   "cell_type": "markdown",
   "metadata": {},
   "source": [
    "# <font color='red'>TAUX DE DEFECTUEUX </font>"
   ]
  },
  {
   "cell_type": "code",
   "execution_count": 33,
   "metadata": {},
   "outputs": [
    {
     "name": "stderr",
     "output_type": "stream",
     "text": [
      "C:\\Users\\Emma\\Anaconda3\\lib\\site-packages\\ipykernel_launcher.py:1: SettingWithCopyWarning: \n",
      "A value is trying to be set on a copy of a slice from a DataFrame.\n",
      "Try using .loc[row_indexer,col_indexer] = value instead\n",
      "\n",
      "See the caveats in the documentation: http://pandas.pydata.org/pandas-docs/stable/user_guide/indexing.html#returning-a-view-versus-a-copy\n",
      "  \"\"\"Entry point for launching an IPython kernel.\n"
     ]
    }
   ],
   "source": [
    "df_summer[\"%defectueux\"] = round((df_summer.loc[df_summer[\"StationPlus\"] == \"NON\", \"numbikesordocksbroken\"]  / df_summer.loc[df_summer[\"StationPlus\"] == \"NON\", \"capacity\"]) * 100)"
   ]
  },
  {
   "cell_type": "code",
   "execution_count": 34,
   "metadata": {},
   "outputs": [
    {
     "data": {
      "text/plain": [
       "array([ 0.,  8.,  3.,  6., 28., 25., 22., 14., 19., 17., 11.,  4., 12.,\n",
       "       10.,  7., 13., 50., 33., 27., nan, 21., 29.,  5., 24.,  2., 15.,\n",
       "       18., 20., 23.,  9., 81., 71., 62., 43., 38., 16., 30., 32., 31.,\n",
       "       26., 46., 41., 40., 35., 47., 66., 59., 52., 48., 44., 56., 39.,\n",
       "       34., 42., 37., 53., 58.,  1., 51., 45., 55., 36., 49., 88., 83.,\n",
       "       79., 77., 73., 64., 87., 54., 76., 65., 57., 61., 67.])"
      ]
     },
     "execution_count": 34,
     "metadata": {},
     "output_type": "execute_result"
    }
   ],
   "source": [
    "df_summer[\"%defectueux\"].unique()"
   ]
  },
  {
   "cell_type": "code",
   "execution_count": 35,
   "metadata": {},
   "outputs": [
    {
     "name": "stderr",
     "output_type": "stream",
     "text": [
      "C:\\Users\\Emma\\Anaconda3\\lib\\site-packages\\pandas\\core\\indexing.py:376: SettingWithCopyWarning: \n",
      "A value is trying to be set on a copy of a slice from a DataFrame.\n",
      "Try using .loc[row_indexer,col_indexer] = value instead\n",
      "\n",
      "See the caveats in the documentation: http://pandas.pydata.org/pandas-docs/stable/user_guide/indexing.html#returning-a-view-versus-a-copy\n",
      "  self.obj[key] = _infer_fill_value(value)\n",
      "C:\\Users\\Emma\\Anaconda3\\lib\\site-packages\\pandas\\core\\indexing.py:494: SettingWithCopyWarning: \n",
      "A value is trying to be set on a copy of a slice from a DataFrame.\n",
      "Try using .loc[row_indexer,col_indexer] = value instead\n",
      "\n",
      "See the caveats in the documentation: http://pandas.pydata.org/pandas-docs/stable/user_guide/indexing.html#returning-a-view-versus-a-copy\n",
      "  self.obj[item] = s\n"
     ]
    }
   ],
   "source": [
    "df_summer.loc[(df_summer[\"%defectueux\"] < 5), \"Good defectueux\"] = 1\n",
    "df_summer.loc[(df_summer[\"%defectueux\"] >= 5), \"Good defectueux\"] = 0\n",
    "# on considère que les stations + où on ne peut pas savoir le nombre de défectueux n'en ont pas beaucoup\n",
    "df_summer.loc[df_summer[\"Good defectueux\"].isnull(), \"Good defectueux\"] = 0"
   ]
  },
  {
   "cell_type": "code",
   "execution_count": 36,
   "metadata": {},
   "outputs": [
    {
     "data": {
      "text/html": [
       "<div>\n",
       "<style scoped>\n",
       "    .dataframe tbody tr th:only-of-type {\n",
       "        vertical-align: middle;\n",
       "    }\n",
       "\n",
       "    .dataframe tbody tr th {\n",
       "        vertical-align: top;\n",
       "    }\n",
       "\n",
       "    .dataframe thead th {\n",
       "        text-align: right;\n",
       "    }\n",
       "</style>\n",
       "<table border=\"1\" class=\"dataframe\">\n",
       "  <thead>\n",
       "    <tr style=\"text-align: right;\">\n",
       "      <th></th>\n",
       "      <th>name</th>\n",
       "      <th>stationcode</th>\n",
       "      <th>ebike</th>\n",
       "      <th>mechanical</th>\n",
       "      <th>duedate</th>\n",
       "      <th>numbikesavailable</th>\n",
       "      <th>numdocksavailable</th>\n",
       "      <th>capacity</th>\n",
       "      <th>is_renting</th>\n",
       "      <th>is_installed</th>\n",
       "      <th>is_returning</th>\n",
       "      <th>Latitude</th>\n",
       "      <th>Longitude</th>\n",
       "      <th>commune</th>\n",
       "      <th>month</th>\n",
       "      <th>interval</th>\n",
       "      <th>numbikesordocksbroken</th>\n",
       "      <th>StationPlus</th>\n",
       "      <th>%defectueux</th>\n",
       "      <th>Good defectueux</th>\n",
       "    </tr>\n",
       "  </thead>\n",
       "  <tbody>\n",
       "    <tr>\n",
       "      <td>0</td>\n",
       "      <td>11 Novembre 1918 - 8 Mai 1945</td>\n",
       "      <td>45003</td>\n",
       "      <td>6</td>\n",
       "      <td>3</td>\n",
       "      <td>2022-05-01 00:40:43+02:00</td>\n",
       "      <td>9</td>\n",
       "      <td>27</td>\n",
       "      <td>36</td>\n",
       "      <td>OUI</td>\n",
       "      <td>OUI</td>\n",
       "      <td>OUI</td>\n",
       "      <td>48.8088</td>\n",
       "      <td>2.5382</td>\n",
       "      <td>Champigny-sur-Marne</td>\n",
       "      <td>5</td>\n",
       "      <td>2022-05-01 01:00:00+02:00</td>\n",
       "      <td>0</td>\n",
       "      <td>NON</td>\n",
       "      <td>0.0</td>\n",
       "      <td>1.0</td>\n",
       "    </tr>\n",
       "    <tr>\n",
       "      <td>1</td>\n",
       "      <td>11 Novembre 1918 - 8 Mai 1945</td>\n",
       "      <td>45003</td>\n",
       "      <td>6</td>\n",
       "      <td>3</td>\n",
       "      <td>2022-05-01 01:37:31+02:00</td>\n",
       "      <td>9</td>\n",
       "      <td>27</td>\n",
       "      <td>36</td>\n",
       "      <td>OUI</td>\n",
       "      <td>OUI</td>\n",
       "      <td>OUI</td>\n",
       "      <td>48.8088</td>\n",
       "      <td>2.5382</td>\n",
       "      <td>Champigny-sur-Marne</td>\n",
       "      <td>5</td>\n",
       "      <td>2022-05-01 02:00:00+02:00</td>\n",
       "      <td>0</td>\n",
       "      <td>NON</td>\n",
       "      <td>0.0</td>\n",
       "      <td>1.0</td>\n",
       "    </tr>\n",
       "    <tr>\n",
       "      <td>2</td>\n",
       "      <td>11 Novembre 1918 - 8 Mai 1945</td>\n",
       "      <td>45003</td>\n",
       "      <td>6</td>\n",
       "      <td>3</td>\n",
       "      <td>2022-05-01 02:37:39+02:00</td>\n",
       "      <td>9</td>\n",
       "      <td>27</td>\n",
       "      <td>36</td>\n",
       "      <td>OUI</td>\n",
       "      <td>OUI</td>\n",
       "      <td>OUI</td>\n",
       "      <td>48.8088</td>\n",
       "      <td>2.5382</td>\n",
       "      <td>Champigny-sur-Marne</td>\n",
       "      <td>5</td>\n",
       "      <td>2022-05-01 03:00:00+02:00</td>\n",
       "      <td>0</td>\n",
       "      <td>NON</td>\n",
       "      <td>0.0</td>\n",
       "      <td>1.0</td>\n",
       "    </tr>\n",
       "    <tr>\n",
       "      <td>3</td>\n",
       "      <td>11 Novembre 1918 - 8 Mai 1945</td>\n",
       "      <td>45003</td>\n",
       "      <td>6</td>\n",
       "      <td>3</td>\n",
       "      <td>2022-05-01 03:37:48+02:00</td>\n",
       "      <td>9</td>\n",
       "      <td>27</td>\n",
       "      <td>36</td>\n",
       "      <td>OUI</td>\n",
       "      <td>OUI</td>\n",
       "      <td>OUI</td>\n",
       "      <td>48.8088</td>\n",
       "      <td>2.5382</td>\n",
       "      <td>Champigny-sur-Marne</td>\n",
       "      <td>5</td>\n",
       "      <td>2022-05-01 04:00:00+02:00</td>\n",
       "      <td>0</td>\n",
       "      <td>NON</td>\n",
       "      <td>0.0</td>\n",
       "      <td>1.0</td>\n",
       "    </tr>\n",
       "    <tr>\n",
       "      <td>4</td>\n",
       "      <td>11 Novembre 1918 - 8 Mai 1945</td>\n",
       "      <td>45003</td>\n",
       "      <td>6</td>\n",
       "      <td>3</td>\n",
       "      <td>2022-05-01 04:39:55+02:00</td>\n",
       "      <td>9</td>\n",
       "      <td>27</td>\n",
       "      <td>36</td>\n",
       "      <td>OUI</td>\n",
       "      <td>OUI</td>\n",
       "      <td>OUI</td>\n",
       "      <td>48.8088</td>\n",
       "      <td>2.5382</td>\n",
       "      <td>Champigny-sur-Marne</td>\n",
       "      <td>5</td>\n",
       "      <td>2022-05-01 05:00:00+02:00</td>\n",
       "      <td>0</td>\n",
       "      <td>NON</td>\n",
       "      <td>0.0</td>\n",
       "      <td>1.0</td>\n",
       "    </tr>\n",
       "    <tr>\n",
       "      <td>...</td>\n",
       "      <td>...</td>\n",
       "      <td>...</td>\n",
       "      <td>...</td>\n",
       "      <td>...</td>\n",
       "      <td>...</td>\n",
       "      <td>...</td>\n",
       "      <td>...</td>\n",
       "      <td>...</td>\n",
       "      <td>...</td>\n",
       "      <td>...</td>\n",
       "      <td>...</td>\n",
       "      <td>...</td>\n",
       "      <td>...</td>\n",
       "      <td>...</td>\n",
       "      <td>...</td>\n",
       "      <td>...</td>\n",
       "      <td>...</td>\n",
       "      <td>...</td>\n",
       "      <td>...</td>\n",
       "      <td>...</td>\n",
       "    </tr>\n",
       "    <tr>\n",
       "      <td>4051234</td>\n",
       "      <td>Youri Gagarine - Karl Marx</td>\n",
       "      <td>48003</td>\n",
       "      <td>3</td>\n",
       "      <td>2</td>\n",
       "      <td>2022-08-31 19:06:05+02:00</td>\n",
       "      <td>5</td>\n",
       "      <td>17</td>\n",
       "      <td>22</td>\n",
       "      <td>OUI</td>\n",
       "      <td>OUI</td>\n",
       "      <td>OUI</td>\n",
       "      <td>48.7844</td>\n",
       "      <td>2.3590</td>\n",
       "      <td>Villejuif</td>\n",
       "      <td>8</td>\n",
       "      <td>2022-08-31 19:00:00+02:00</td>\n",
       "      <td>0</td>\n",
       "      <td>NON</td>\n",
       "      <td>0.0</td>\n",
       "      <td>1.0</td>\n",
       "    </tr>\n",
       "    <tr>\n",
       "      <td>4051235</td>\n",
       "      <td>Youri Gagarine - Karl Marx</td>\n",
       "      <td>48003</td>\n",
       "      <td>1</td>\n",
       "      <td>2</td>\n",
       "      <td>2022-08-31 19:58:14+02:00</td>\n",
       "      <td>3</td>\n",
       "      <td>19</td>\n",
       "      <td>22</td>\n",
       "      <td>OUI</td>\n",
       "      <td>OUI</td>\n",
       "      <td>OUI</td>\n",
       "      <td>48.7844</td>\n",
       "      <td>2.3590</td>\n",
       "      <td>Villejuif</td>\n",
       "      <td>8</td>\n",
       "      <td>2022-08-31 20:00:00+02:00</td>\n",
       "      <td>0</td>\n",
       "      <td>NON</td>\n",
       "      <td>0.0</td>\n",
       "      <td>1.0</td>\n",
       "    </tr>\n",
       "    <tr>\n",
       "      <td>4051236</td>\n",
       "      <td>Youri Gagarine - Karl Marx</td>\n",
       "      <td>48003</td>\n",
       "      <td>1</td>\n",
       "      <td>2</td>\n",
       "      <td>2022-08-31 21:06:53+02:00</td>\n",
       "      <td>3</td>\n",
       "      <td>19</td>\n",
       "      <td>22</td>\n",
       "      <td>OUI</td>\n",
       "      <td>OUI</td>\n",
       "      <td>OUI</td>\n",
       "      <td>48.7844</td>\n",
       "      <td>2.3590</td>\n",
       "      <td>Villejuif</td>\n",
       "      <td>8</td>\n",
       "      <td>2022-08-31 21:00:00+02:00</td>\n",
       "      <td>0</td>\n",
       "      <td>NON</td>\n",
       "      <td>0.0</td>\n",
       "      <td>1.0</td>\n",
       "    </tr>\n",
       "    <tr>\n",
       "      <td>4051237</td>\n",
       "      <td>Youri Gagarine - Karl Marx</td>\n",
       "      <td>48003</td>\n",
       "      <td>2</td>\n",
       "      <td>2</td>\n",
       "      <td>2022-08-31 22:06:58+02:00</td>\n",
       "      <td>4</td>\n",
       "      <td>18</td>\n",
       "      <td>22</td>\n",
       "      <td>OUI</td>\n",
       "      <td>OUI</td>\n",
       "      <td>OUI</td>\n",
       "      <td>48.7844</td>\n",
       "      <td>2.3590</td>\n",
       "      <td>Villejuif</td>\n",
       "      <td>8</td>\n",
       "      <td>2022-08-31 22:00:00+02:00</td>\n",
       "      <td>0</td>\n",
       "      <td>NON</td>\n",
       "      <td>0.0</td>\n",
       "      <td>1.0</td>\n",
       "    </tr>\n",
       "    <tr>\n",
       "      <td>4051238</td>\n",
       "      <td>Youri Gagarine - Karl Marx</td>\n",
       "      <td>48003</td>\n",
       "      <td>3</td>\n",
       "      <td>3</td>\n",
       "      <td>2022-08-31 23:07:05+02:00</td>\n",
       "      <td>6</td>\n",
       "      <td>16</td>\n",
       "      <td>22</td>\n",
       "      <td>OUI</td>\n",
       "      <td>OUI</td>\n",
       "      <td>OUI</td>\n",
       "      <td>48.7844</td>\n",
       "      <td>2.3590</td>\n",
       "      <td>Villejuif</td>\n",
       "      <td>8</td>\n",
       "      <td>2022-08-31 23:00:00+02:00</td>\n",
       "      <td>0</td>\n",
       "      <td>NON</td>\n",
       "      <td>0.0</td>\n",
       "      <td>1.0</td>\n",
       "    </tr>\n",
       "  </tbody>\n",
       "</table>\n",
       "<p>4033072 rows × 20 columns</p>\n",
       "</div>"
      ],
      "text/plain": [
       "                                  name  stationcode  ebike  mechanical  \\\n",
       "0        11 Novembre 1918 - 8 Mai 1945        45003      6           3   \n",
       "1        11 Novembre 1918 - 8 Mai 1945        45003      6           3   \n",
       "2        11 Novembre 1918 - 8 Mai 1945        45003      6           3   \n",
       "3        11 Novembre 1918 - 8 Mai 1945        45003      6           3   \n",
       "4        11 Novembre 1918 - 8 Mai 1945        45003      6           3   \n",
       "...                                ...          ...    ...         ...   \n",
       "4051234     Youri Gagarine - Karl Marx        48003      3           2   \n",
       "4051235     Youri Gagarine - Karl Marx        48003      1           2   \n",
       "4051236     Youri Gagarine - Karl Marx        48003      1           2   \n",
       "4051237     Youri Gagarine - Karl Marx        48003      2           2   \n",
       "4051238     Youri Gagarine - Karl Marx        48003      3           3   \n",
       "\n",
       "                          duedate  numbikesavailable  numdocksavailable  \\\n",
       "0       2022-05-01 00:40:43+02:00                  9                 27   \n",
       "1       2022-05-01 01:37:31+02:00                  9                 27   \n",
       "2       2022-05-01 02:37:39+02:00                  9                 27   \n",
       "3       2022-05-01 03:37:48+02:00                  9                 27   \n",
       "4       2022-05-01 04:39:55+02:00                  9                 27   \n",
       "...                           ...                ...                ...   \n",
       "4051234 2022-08-31 19:06:05+02:00                  5                 17   \n",
       "4051235 2022-08-31 19:58:14+02:00                  3                 19   \n",
       "4051236 2022-08-31 21:06:53+02:00                  3                 19   \n",
       "4051237 2022-08-31 22:06:58+02:00                  4                 18   \n",
       "4051238 2022-08-31 23:07:05+02:00                  6                 16   \n",
       "\n",
       "         capacity is_renting is_installed is_returning  Latitude  Longitude  \\\n",
       "0              36        OUI          OUI          OUI   48.8088     2.5382   \n",
       "1              36        OUI          OUI          OUI   48.8088     2.5382   \n",
       "2              36        OUI          OUI          OUI   48.8088     2.5382   \n",
       "3              36        OUI          OUI          OUI   48.8088     2.5382   \n",
       "4              36        OUI          OUI          OUI   48.8088     2.5382   \n",
       "...           ...        ...          ...          ...       ...        ...   \n",
       "4051234        22        OUI          OUI          OUI   48.7844     2.3590   \n",
       "4051235        22        OUI          OUI          OUI   48.7844     2.3590   \n",
       "4051236        22        OUI          OUI          OUI   48.7844     2.3590   \n",
       "4051237        22        OUI          OUI          OUI   48.7844     2.3590   \n",
       "4051238        22        OUI          OUI          OUI   48.7844     2.3590   \n",
       "\n",
       "                     commune  month                  interval  \\\n",
       "0        Champigny-sur-Marne      5 2022-05-01 01:00:00+02:00   \n",
       "1        Champigny-sur-Marne      5 2022-05-01 02:00:00+02:00   \n",
       "2        Champigny-sur-Marne      5 2022-05-01 03:00:00+02:00   \n",
       "3        Champigny-sur-Marne      5 2022-05-01 04:00:00+02:00   \n",
       "4        Champigny-sur-Marne      5 2022-05-01 05:00:00+02:00   \n",
       "...                      ...    ...                       ...   \n",
       "4051234            Villejuif      8 2022-08-31 19:00:00+02:00   \n",
       "4051235            Villejuif      8 2022-08-31 20:00:00+02:00   \n",
       "4051236            Villejuif      8 2022-08-31 21:00:00+02:00   \n",
       "4051237            Villejuif      8 2022-08-31 22:00:00+02:00   \n",
       "4051238            Villejuif      8 2022-08-31 23:00:00+02:00   \n",
       "\n",
       "         numbikesordocksbroken StationPlus  %defectueux  Good defectueux  \n",
       "0                            0         NON          0.0              1.0  \n",
       "1                            0         NON          0.0              1.0  \n",
       "2                            0         NON          0.0              1.0  \n",
       "3                            0         NON          0.0              1.0  \n",
       "4                            0         NON          0.0              1.0  \n",
       "...                        ...         ...          ...              ...  \n",
       "4051234                      0         NON          0.0              1.0  \n",
       "4051235                      0         NON          0.0              1.0  \n",
       "4051236                      0         NON          0.0              1.0  \n",
       "4051237                      0         NON          0.0              1.0  \n",
       "4051238                      0         NON          0.0              1.0  \n",
       "\n",
       "[4033072 rows x 20 columns]"
      ]
     },
     "execution_count": 36,
     "metadata": {},
     "output_type": "execute_result"
    }
   ],
   "source": [
    "df_summer"
   ]
  },
  {
   "cell_type": "code",
   "execution_count": 37,
   "metadata": {},
   "outputs": [],
   "source": [
    "def calculate_tauxdefectueux(df): \n",
    "    taux = round(df[\"numbikesordocksbroken\"].mean() / (df[\"capacity\"].mean()) * 100, 2)\n",
    "    return taux"
   ]
  },
  {
   "cell_type": "code",
   "execution_count": 38,
   "metadata": {},
   "outputs": [
    {
     "data": {
      "text/plain": [
       "3.61"
      ]
     },
     "execution_count": 38,
     "metadata": {},
     "output_type": "execute_result"
    }
   ],
   "source": [
    "calculate_tauxdefectueux(df_summer)"
   ]
  },
  {
   "cell_type": "code",
   "execution_count": 39,
   "metadata": {},
   "outputs": [
    {
     "data": {
      "text/plain": [
       "nan"
      ]
     },
     "execution_count": 39,
     "metadata": {},
     "output_type": "execute_result"
    }
   ],
   "source": [
    "minidfcarnot1ermai = df_summer[df_summer[\"name\"] == \"Carnot - Pâquerettes\"]\n",
    "minidfcarnot1ermai = minidfcarnot1ermai[(minidfcarnot1ermai[\"duedate\"].dt.day == 1) & (minidfcarnot1ermai[\"duedate\"].dt.month == 5)]\n",
    "calculate_tauxdefectueux(minidfcarnot1ermai)"
   ]
  },
  {
   "cell_type": "code",
   "execution_count": 40,
   "metadata": {},
   "outputs": [
    {
     "data": {
      "text/plain": [
       "3.76"
      ]
     },
     "execution_count": 40,
     "metadata": {},
     "output_type": "execute_result"
    }
   ],
   "source": [
    "calculate_tauxdefectueux(df_summer[df_summer[\"commune\"] == \"Alfortville\"])"
   ]
  },
  {
   "cell_type": "code",
   "execution_count": 41,
   "metadata": {},
   "outputs": [
    {
     "data": {
      "text/plain": [
       "3.819315505057503"
      ]
     },
     "execution_count": 41,
     "metadata": {},
     "output_type": "execute_result"
    }
   ],
   "source": [
    "# moyenne arithmétique pas bon  !!!\n",
    "df_summer.loc[df_summer[\"commune\"] == \"Alfortville\", \"%defectueux\"].mean()"
   ]
  },
  {
   "cell_type": "markdown",
   "metadata": {},
   "source": [
    "# <font color='red'>TAUX D'OCCUPATION</font>"
   ]
  },
  {
   "cell_type": "markdown",
   "metadata": {},
   "source": [
    "## Taux d'occupation "
   ]
  },
  {
   "cell_type": "code",
   "execution_count": 80,
   "metadata": {},
   "outputs": [
    {
     "name": "stderr",
     "output_type": "stream",
     "text": [
      "C:\\Users\\Emma\\Anaconda3\\lib\\site-packages\\ipykernel_launcher.py:1: SettingWithCopyWarning: \n",
      "A value is trying to be set on a copy of a slice from a DataFrame.\n",
      "Try using .loc[row_indexer,col_indexer] = value instead\n",
      "\n",
      "See the caveats in the documentation: http://pandas.pydata.org/pandas-docs/stable/user_guide/indexing.html#returning-a-view-versus-a-copy\n",
      "  \"\"\"Entry point for launching an IPython kernel.\n"
     ]
    }
   ],
   "source": [
    "df_summer[\"%occupation\"] = df_summer[\"numbikesavailable\"]  / (df_summer[\"capacity\"] - df_summer[\"numbikesordocksbroken\"]) * 100"
   ]
  },
  {
   "cell_type": "code",
   "execution_count": 87,
   "metadata": {},
   "outputs": [],
   "source": [
    "df_summer.loc[(df_summer[\"%occupation\"] <= 70) | (df_summer[\"%occupation\"] >= 30), \"Good occupation\"] = \"OK\"\n",
    "df_summer.loc[(df_summer[\"%occupation\"] > 70), \"Good occupation\"] = \"SATURE\"\n",
    "df_summer.loc[(df_summer[\"%occupation\"] < 30), \"Good occupation\"] = \"VIDE\""
   ]
  },
  {
   "cell_type": "code",
   "execution_count": 88,
   "metadata": {
    "scrolled": true
   },
   "outputs": [
    {
     "data": {
      "text/html": [
       "<div>\n",
       "<style scoped>\n",
       "    .dataframe tbody tr th:only-of-type {\n",
       "        vertical-align: middle;\n",
       "    }\n",
       "\n",
       "    .dataframe tbody tr th {\n",
       "        vertical-align: top;\n",
       "    }\n",
       "\n",
       "    .dataframe thead th {\n",
       "        text-align: right;\n",
       "    }\n",
       "</style>\n",
       "<table border=\"1\" class=\"dataframe\">\n",
       "  <thead>\n",
       "    <tr style=\"text-align: right;\">\n",
       "      <th></th>\n",
       "      <th>name</th>\n",
       "      <th>stationcode</th>\n",
       "      <th>ebike</th>\n",
       "      <th>mechanical</th>\n",
       "      <th>duedate</th>\n",
       "      <th>numbikesavailable</th>\n",
       "      <th>numdocksavailable</th>\n",
       "      <th>capacity</th>\n",
       "      <th>is_renting</th>\n",
       "      <th>is_installed</th>\n",
       "      <th>...</th>\n",
       "      <th>commune</th>\n",
       "      <th>month</th>\n",
       "      <th>interval</th>\n",
       "      <th>numbikesordocksbroken</th>\n",
       "      <th>StationPlus</th>\n",
       "      <th>%defectueux</th>\n",
       "      <th>Good defectueux</th>\n",
       "      <th>%occupation</th>\n",
       "      <th>Good occupation</th>\n",
       "      <th>%free</th>\n",
       "    </tr>\n",
       "  </thead>\n",
       "  <tbody>\n",
       "    <tr>\n",
       "      <td>0</td>\n",
       "      <td>11 Novembre 1918 - 8 Mai 1945</td>\n",
       "      <td>45003</td>\n",
       "      <td>6</td>\n",
       "      <td>3</td>\n",
       "      <td>2022-05-01 00:40:43+02:00</td>\n",
       "      <td>9</td>\n",
       "      <td>27</td>\n",
       "      <td>36</td>\n",
       "      <td>OUI</td>\n",
       "      <td>OUI</td>\n",
       "      <td>...</td>\n",
       "      <td>Champigny-sur-Marne</td>\n",
       "      <td>5</td>\n",
       "      <td>2022-05-01 01:00:00+02:00</td>\n",
       "      <td>0</td>\n",
       "      <td>NON</td>\n",
       "      <td>0.0</td>\n",
       "      <td>1.0</td>\n",
       "      <td>25.000000</td>\n",
       "      <td>VIDE</td>\n",
       "      <td>75.0</td>\n",
       "    </tr>\n",
       "    <tr>\n",
       "      <td>1</td>\n",
       "      <td>11 Novembre 1918 - 8 Mai 1945</td>\n",
       "      <td>45003</td>\n",
       "      <td>6</td>\n",
       "      <td>3</td>\n",
       "      <td>2022-05-01 01:37:31+02:00</td>\n",
       "      <td>9</td>\n",
       "      <td>27</td>\n",
       "      <td>36</td>\n",
       "      <td>OUI</td>\n",
       "      <td>OUI</td>\n",
       "      <td>...</td>\n",
       "      <td>Champigny-sur-Marne</td>\n",
       "      <td>5</td>\n",
       "      <td>2022-05-01 02:00:00+02:00</td>\n",
       "      <td>0</td>\n",
       "      <td>NON</td>\n",
       "      <td>0.0</td>\n",
       "      <td>1.0</td>\n",
       "      <td>25.000000</td>\n",
       "      <td>VIDE</td>\n",
       "      <td>75.0</td>\n",
       "    </tr>\n",
       "    <tr>\n",
       "      <td>2</td>\n",
       "      <td>11 Novembre 1918 - 8 Mai 1945</td>\n",
       "      <td>45003</td>\n",
       "      <td>6</td>\n",
       "      <td>3</td>\n",
       "      <td>2022-05-01 02:37:39+02:00</td>\n",
       "      <td>9</td>\n",
       "      <td>27</td>\n",
       "      <td>36</td>\n",
       "      <td>OUI</td>\n",
       "      <td>OUI</td>\n",
       "      <td>...</td>\n",
       "      <td>Champigny-sur-Marne</td>\n",
       "      <td>5</td>\n",
       "      <td>2022-05-01 03:00:00+02:00</td>\n",
       "      <td>0</td>\n",
       "      <td>NON</td>\n",
       "      <td>0.0</td>\n",
       "      <td>1.0</td>\n",
       "      <td>25.000000</td>\n",
       "      <td>VIDE</td>\n",
       "      <td>75.0</td>\n",
       "    </tr>\n",
       "    <tr>\n",
       "      <td>3</td>\n",
       "      <td>11 Novembre 1918 - 8 Mai 1945</td>\n",
       "      <td>45003</td>\n",
       "      <td>6</td>\n",
       "      <td>3</td>\n",
       "      <td>2022-05-01 03:37:48+02:00</td>\n",
       "      <td>9</td>\n",
       "      <td>27</td>\n",
       "      <td>36</td>\n",
       "      <td>OUI</td>\n",
       "      <td>OUI</td>\n",
       "      <td>...</td>\n",
       "      <td>Champigny-sur-Marne</td>\n",
       "      <td>5</td>\n",
       "      <td>2022-05-01 04:00:00+02:00</td>\n",
       "      <td>0</td>\n",
       "      <td>NON</td>\n",
       "      <td>0.0</td>\n",
       "      <td>1.0</td>\n",
       "      <td>25.000000</td>\n",
       "      <td>VIDE</td>\n",
       "      <td>75.0</td>\n",
       "    </tr>\n",
       "    <tr>\n",
       "      <td>4</td>\n",
       "      <td>11 Novembre 1918 - 8 Mai 1945</td>\n",
       "      <td>45003</td>\n",
       "      <td>6</td>\n",
       "      <td>3</td>\n",
       "      <td>2022-05-01 04:39:55+02:00</td>\n",
       "      <td>9</td>\n",
       "      <td>27</td>\n",
       "      <td>36</td>\n",
       "      <td>OUI</td>\n",
       "      <td>OUI</td>\n",
       "      <td>...</td>\n",
       "      <td>Champigny-sur-Marne</td>\n",
       "      <td>5</td>\n",
       "      <td>2022-05-01 05:00:00+02:00</td>\n",
       "      <td>0</td>\n",
       "      <td>NON</td>\n",
       "      <td>0.0</td>\n",
       "      <td>1.0</td>\n",
       "      <td>25.000000</td>\n",
       "      <td>VIDE</td>\n",
       "      <td>75.0</td>\n",
       "    </tr>\n",
       "    <tr>\n",
       "      <td>...</td>\n",
       "      <td>...</td>\n",
       "      <td>...</td>\n",
       "      <td>...</td>\n",
       "      <td>...</td>\n",
       "      <td>...</td>\n",
       "      <td>...</td>\n",
       "      <td>...</td>\n",
       "      <td>...</td>\n",
       "      <td>...</td>\n",
       "      <td>...</td>\n",
       "      <td>...</td>\n",
       "      <td>...</td>\n",
       "      <td>...</td>\n",
       "      <td>...</td>\n",
       "      <td>...</td>\n",
       "      <td>...</td>\n",
       "      <td>...</td>\n",
       "      <td>...</td>\n",
       "      <td>...</td>\n",
       "      <td>...</td>\n",
       "      <td>...</td>\n",
       "    </tr>\n",
       "    <tr>\n",
       "      <td>4051234</td>\n",
       "      <td>Youri Gagarine - Karl Marx</td>\n",
       "      <td>48003</td>\n",
       "      <td>3</td>\n",
       "      <td>2</td>\n",
       "      <td>2022-08-31 19:06:05+02:00</td>\n",
       "      <td>5</td>\n",
       "      <td>17</td>\n",
       "      <td>22</td>\n",
       "      <td>OUI</td>\n",
       "      <td>OUI</td>\n",
       "      <td>...</td>\n",
       "      <td>Villejuif</td>\n",
       "      <td>8</td>\n",
       "      <td>2022-08-31 19:00:00+02:00</td>\n",
       "      <td>0</td>\n",
       "      <td>NON</td>\n",
       "      <td>0.0</td>\n",
       "      <td>1.0</td>\n",
       "      <td>22.727273</td>\n",
       "      <td>VIDE</td>\n",
       "      <td>77.0</td>\n",
       "    </tr>\n",
       "    <tr>\n",
       "      <td>4051235</td>\n",
       "      <td>Youri Gagarine - Karl Marx</td>\n",
       "      <td>48003</td>\n",
       "      <td>1</td>\n",
       "      <td>2</td>\n",
       "      <td>2022-08-31 19:58:14+02:00</td>\n",
       "      <td>3</td>\n",
       "      <td>19</td>\n",
       "      <td>22</td>\n",
       "      <td>OUI</td>\n",
       "      <td>OUI</td>\n",
       "      <td>...</td>\n",
       "      <td>Villejuif</td>\n",
       "      <td>8</td>\n",
       "      <td>2022-08-31 20:00:00+02:00</td>\n",
       "      <td>0</td>\n",
       "      <td>NON</td>\n",
       "      <td>0.0</td>\n",
       "      <td>1.0</td>\n",
       "      <td>13.636364</td>\n",
       "      <td>VIDE</td>\n",
       "      <td>86.0</td>\n",
       "    </tr>\n",
       "    <tr>\n",
       "      <td>4051236</td>\n",
       "      <td>Youri Gagarine - Karl Marx</td>\n",
       "      <td>48003</td>\n",
       "      <td>1</td>\n",
       "      <td>2</td>\n",
       "      <td>2022-08-31 21:06:53+02:00</td>\n",
       "      <td>3</td>\n",
       "      <td>19</td>\n",
       "      <td>22</td>\n",
       "      <td>OUI</td>\n",
       "      <td>OUI</td>\n",
       "      <td>...</td>\n",
       "      <td>Villejuif</td>\n",
       "      <td>8</td>\n",
       "      <td>2022-08-31 21:00:00+02:00</td>\n",
       "      <td>0</td>\n",
       "      <td>NON</td>\n",
       "      <td>0.0</td>\n",
       "      <td>1.0</td>\n",
       "      <td>13.636364</td>\n",
       "      <td>VIDE</td>\n",
       "      <td>86.0</td>\n",
       "    </tr>\n",
       "    <tr>\n",
       "      <td>4051237</td>\n",
       "      <td>Youri Gagarine - Karl Marx</td>\n",
       "      <td>48003</td>\n",
       "      <td>2</td>\n",
       "      <td>2</td>\n",
       "      <td>2022-08-31 22:06:58+02:00</td>\n",
       "      <td>4</td>\n",
       "      <td>18</td>\n",
       "      <td>22</td>\n",
       "      <td>OUI</td>\n",
       "      <td>OUI</td>\n",
       "      <td>...</td>\n",
       "      <td>Villejuif</td>\n",
       "      <td>8</td>\n",
       "      <td>2022-08-31 22:00:00+02:00</td>\n",
       "      <td>0</td>\n",
       "      <td>NON</td>\n",
       "      <td>0.0</td>\n",
       "      <td>1.0</td>\n",
       "      <td>18.181818</td>\n",
       "      <td>VIDE</td>\n",
       "      <td>82.0</td>\n",
       "    </tr>\n",
       "    <tr>\n",
       "      <td>4051238</td>\n",
       "      <td>Youri Gagarine - Karl Marx</td>\n",
       "      <td>48003</td>\n",
       "      <td>3</td>\n",
       "      <td>3</td>\n",
       "      <td>2022-08-31 23:07:05+02:00</td>\n",
       "      <td>6</td>\n",
       "      <td>16</td>\n",
       "      <td>22</td>\n",
       "      <td>OUI</td>\n",
       "      <td>OUI</td>\n",
       "      <td>...</td>\n",
       "      <td>Villejuif</td>\n",
       "      <td>8</td>\n",
       "      <td>2022-08-31 23:00:00+02:00</td>\n",
       "      <td>0</td>\n",
       "      <td>NON</td>\n",
       "      <td>0.0</td>\n",
       "      <td>1.0</td>\n",
       "      <td>27.272727</td>\n",
       "      <td>VIDE</td>\n",
       "      <td>73.0</td>\n",
       "    </tr>\n",
       "  </tbody>\n",
       "</table>\n",
       "<p>4033072 rows × 23 columns</p>\n",
       "</div>"
      ],
      "text/plain": [
       "                                  name  stationcode  ebike  mechanical  \\\n",
       "0        11 Novembre 1918 - 8 Mai 1945        45003      6           3   \n",
       "1        11 Novembre 1918 - 8 Mai 1945        45003      6           3   \n",
       "2        11 Novembre 1918 - 8 Mai 1945        45003      6           3   \n",
       "3        11 Novembre 1918 - 8 Mai 1945        45003      6           3   \n",
       "4        11 Novembre 1918 - 8 Mai 1945        45003      6           3   \n",
       "...                                ...          ...    ...         ...   \n",
       "4051234     Youri Gagarine - Karl Marx        48003      3           2   \n",
       "4051235     Youri Gagarine - Karl Marx        48003      1           2   \n",
       "4051236     Youri Gagarine - Karl Marx        48003      1           2   \n",
       "4051237     Youri Gagarine - Karl Marx        48003      2           2   \n",
       "4051238     Youri Gagarine - Karl Marx        48003      3           3   \n",
       "\n",
       "                          duedate  numbikesavailable  numdocksavailable  \\\n",
       "0       2022-05-01 00:40:43+02:00                  9                 27   \n",
       "1       2022-05-01 01:37:31+02:00                  9                 27   \n",
       "2       2022-05-01 02:37:39+02:00                  9                 27   \n",
       "3       2022-05-01 03:37:48+02:00                  9                 27   \n",
       "4       2022-05-01 04:39:55+02:00                  9                 27   \n",
       "...                           ...                ...                ...   \n",
       "4051234 2022-08-31 19:06:05+02:00                  5                 17   \n",
       "4051235 2022-08-31 19:58:14+02:00                  3                 19   \n",
       "4051236 2022-08-31 21:06:53+02:00                  3                 19   \n",
       "4051237 2022-08-31 22:06:58+02:00                  4                 18   \n",
       "4051238 2022-08-31 23:07:05+02:00                  6                 16   \n",
       "\n",
       "         capacity is_renting is_installed  ...              commune  month  \\\n",
       "0              36        OUI          OUI  ...  Champigny-sur-Marne      5   \n",
       "1              36        OUI          OUI  ...  Champigny-sur-Marne      5   \n",
       "2              36        OUI          OUI  ...  Champigny-sur-Marne      5   \n",
       "3              36        OUI          OUI  ...  Champigny-sur-Marne      5   \n",
       "4              36        OUI          OUI  ...  Champigny-sur-Marne      5   \n",
       "...           ...        ...          ...  ...                  ...    ...   \n",
       "4051234        22        OUI          OUI  ...            Villejuif      8   \n",
       "4051235        22        OUI          OUI  ...            Villejuif      8   \n",
       "4051236        22        OUI          OUI  ...            Villejuif      8   \n",
       "4051237        22        OUI          OUI  ...            Villejuif      8   \n",
       "4051238        22        OUI          OUI  ...            Villejuif      8   \n",
       "\n",
       "                         interval numbikesordocksbroken  StationPlus  \\\n",
       "0       2022-05-01 01:00:00+02:00                     0          NON   \n",
       "1       2022-05-01 02:00:00+02:00                     0          NON   \n",
       "2       2022-05-01 03:00:00+02:00                     0          NON   \n",
       "3       2022-05-01 04:00:00+02:00                     0          NON   \n",
       "4       2022-05-01 05:00:00+02:00                     0          NON   \n",
       "...                           ...                   ...          ...   \n",
       "4051234 2022-08-31 19:00:00+02:00                     0          NON   \n",
       "4051235 2022-08-31 20:00:00+02:00                     0          NON   \n",
       "4051236 2022-08-31 21:00:00+02:00                     0          NON   \n",
       "4051237 2022-08-31 22:00:00+02:00                     0          NON   \n",
       "4051238 2022-08-31 23:00:00+02:00                     0          NON   \n",
       "\n",
       "        %defectueux  Good defectueux %occupation  Good occupation  %free  \n",
       "0               0.0              1.0   25.000000             VIDE   75.0  \n",
       "1               0.0              1.0   25.000000             VIDE   75.0  \n",
       "2               0.0              1.0   25.000000             VIDE   75.0  \n",
       "3               0.0              1.0   25.000000             VIDE   75.0  \n",
       "4               0.0              1.0   25.000000             VIDE   75.0  \n",
       "...             ...              ...         ...              ...    ...  \n",
       "4051234         0.0              1.0   22.727273             VIDE   77.0  \n",
       "4051235         0.0              1.0   13.636364             VIDE   86.0  \n",
       "4051236         0.0              1.0   13.636364             VIDE   86.0  \n",
       "4051237         0.0              1.0   18.181818             VIDE   82.0  \n",
       "4051238         0.0              1.0   27.272727             VIDE   73.0  \n",
       "\n",
       "[4033072 rows x 23 columns]"
      ]
     },
     "execution_count": 88,
     "metadata": {},
     "output_type": "execute_result"
    }
   ],
   "source": [
    "df_summer"
   ]
  },
  {
   "cell_type": "code",
   "execution_count": null,
   "metadata": {},
   "outputs": [],
   "source": []
  },
  {
   "cell_type": "code",
   "execution_count": 93,
   "metadata": {},
   "outputs": [],
   "source": [
    "def calculate_pctinterval_tauxoccupation(df): \n",
    "    pct = {}\n",
    "    pct['VIDE'] = round((df[df[\"Good occupation\"] == \"VIDE\"].shape[0] / df.shape[0]) * 100, 2)\n",
    "    pct['SATURE'] = round((df[df[\"Good occupation\"] == \"SATURE\"].shape[0] / df.shape[0]) * 100, 2)\n",
    "    pct['OK'] = round((df[df[\"Good occupation\"] == \"OK\"].shape[0] / df.shape[0]) * 100, 2)\n",
    "    return pct"
   ]
  },
  {
   "cell_type": "code",
   "execution_count": 94,
   "metadata": {},
   "outputs": [
    {
     "data": {
      "text/plain": [
       "{'VIDE': 6.11, 'SATURE': 66.52, 'OK': 27.37}"
      ]
     },
     "execution_count": 94,
     "metadata": {},
     "output_type": "execute_result"
    }
   ],
   "source": [
    "calculate_pctinterval_tauxoccupation(df_summer[df_summer[\"commune\"] == \"Alfortville\"])"
   ]
  },
  {
   "cell_type": "code",
   "execution_count": null,
   "metadata": {},
   "outputs": [],
   "source": []
  },
  {
   "cell_type": "code",
   "execution_count": 45,
   "metadata": {},
   "outputs": [],
   "source": [
    "def calculate_tauxoccupation(df): \n",
    "    taux = round(df[\"numbikesavailable\"].mean() / (df[\"capacity\"].mean() - df[\"numbikesordocksbroken\"].mean()) * 100, 1)\n",
    "    return taux"
   ]
  },
  {
   "cell_type": "code",
   "execution_count": 46,
   "metadata": {},
   "outputs": [
    {
     "data": {
      "text/plain": [
       "nan"
      ]
     },
     "execution_count": 46,
     "metadata": {},
     "output_type": "execute_result"
    }
   ],
   "source": [
    "calculate_tauxoccupation(minidfcarnot1ermai)"
   ]
  },
  {
   "cell_type": "code",
   "execution_count": 47,
   "metadata": {
    "scrolled": true
   },
   "outputs": [
    {
     "data": {
      "text/plain": [
       "75.6"
      ]
     },
     "execution_count": 47,
     "metadata": {},
     "output_type": "execute_result"
    }
   ],
   "source": [
    "calculate_tauxoccupation(df_summer[df_summer[\"commune\"] == \"Alfortville\"])"
   ]
  },
  {
   "cell_type": "code",
   "execution_count": 48,
   "metadata": {},
   "outputs": [
    {
     "data": {
      "text/plain": [
       "36.5"
      ]
     },
     "execution_count": 48,
     "metadata": {},
     "output_type": "execute_result"
    }
   ],
   "source": [
    "calculate_tauxoccupation(df_summer)"
   ]
  },
  {
   "cell_type": "code",
   "execution_count": 49,
   "metadata": {},
   "outputs": [
    {
     "data": {
      "text/plain": [
       "87.3"
      ]
     },
     "execution_count": 49,
     "metadata": {},
     "output_type": "execute_result"
    }
   ],
   "source": [
    "calculate_tauxoccupation(df_summer[df_summer[\"name\"] == \"Regnault - Patay\"])"
   ]
  },
  {
   "cell_type": "code",
   "execution_count": 50,
   "metadata": {},
   "outputs": [
    {
     "data": {
      "text/plain": [
       "name\n",
       "Republique - Louis Loucheur                           90.0\n",
       "Place Mongolfier                                      87.6\n",
       "Regnault - Patay                                      87.3\n",
       "Parvis Corentin Celton                                86.1\n",
       "Westermeyer - Paul Vaillant-Couturier                 85.7\n",
       "                                                      ... \n",
       "Batignolles - Beudant                                  7.7\n",
       "Alexander Fleming - Belvedere                          7.5\n",
       "Square du Theatre du Garde-Chasse                      7.0\n",
       "Porte des Lilas - Faidherbe                            6.0\n",
       "Marechal Leclerc de Hauteclocque - Marche Buzenval     5.8\n",
       "Name: %occupation, Length: 1424, dtype: float64"
      ]
     },
     "execution_count": 50,
     "metadata": {},
     "output_type": "execute_result"
    }
   ],
   "source": [
    "taux_occupation_moyen_bystation = df_summer.groupby(\"name\")[\"%occupation\"].mean().round(1).sort_values(ascending = False)\n",
    "taux_occupation_moyen_bystation"
   ]
  },
  {
   "cell_type": "code",
   "execution_count": 84,
   "metadata": {},
   "outputs": [
    {
     "data": {
      "text/plain": [
       "name\n",
       "Republique - Louis Loucheur                           90.0\n",
       "Place Mongolfier                                      87.6\n",
       "Regnault - Patay                                      87.3\n",
       "Parvis Corentin Celton                                86.1\n",
       "Westermeyer - Paul Vaillant-Couturier                 85.7\n",
       "                                                      ... \n",
       "Batignolles - Beudant                                  7.7\n",
       "Alexander Fleming - Belvedere                          7.5\n",
       "Square du Theatre du Garde-Chasse                      7.0\n",
       "Porte des Lilas - Faidherbe                            6.0\n",
       "Marechal Leclerc de Hauteclocque - Marche Buzenval     5.8\n",
       "Name: %occupation, Length: 673, dtype: float64"
      ]
     },
     "execution_count": 84,
     "metadata": {},
     "output_type": "execute_result"
    }
   ],
   "source": [
    "bad_stations_occ = taux_occupation_moyen_bystation[(taux_occupation_moyen_bystation > 70) | (taux_occupation_moyen_bystation < 30)]\n",
    "bad_stations_occ"
   ]
  },
  {
   "cell_type": "code",
   "execution_count": 52,
   "metadata": {},
   "outputs": [
    {
     "data": {
      "text/plain": [
       "name\n",
       "Gare de Nogent-le-Perreux             84.7\n",
       "Roger Salengro - General de Gaulle    84.1\n",
       "Place de Verdun                       84.0\n",
       "Place Paul Eluard                     83.5\n",
       "Marc Sangnier - Division Leclerc      82.5\n",
       "                                      ... \n",
       "Portugais - Kleber                    25.1\n",
       "Jourdan - Monticelli                  25.1\n",
       "Pyrenees - Cours de Vincennes         25.0\n",
       "Hautpoul - Jean Jaures                25.0\n",
       "Petit - Georges Thill                 25.0\n",
       "Name: %occupation, Length: 1006, dtype: float64"
      ]
     },
     "execution_count": 52,
     "metadata": {},
     "output_type": "execute_result"
    }
   ],
   "source": [
    "good_stations_occ = taux_occupation_moyen_bystation[(taux_occupation_moyen_bystation <= 85) & (taux_occupation_moyen_bystation >= 25)]\n",
    "good_stations_occ"
   ]
  },
  {
   "cell_type": "markdown",
   "metadata": {},
   "source": [
    "## Taux de disponibilité"
   ]
  },
  {
   "cell_type": "code",
   "execution_count": 53,
   "metadata": {},
   "outputs": [
    {
     "name": "stderr",
     "output_type": "stream",
     "text": [
      "C:\\Users\\Emma\\Anaconda3\\lib\\site-packages\\ipykernel_launcher.py:1: SettingWithCopyWarning: \n",
      "A value is trying to be set on a copy of a slice from a DataFrame.\n",
      "Try using .loc[row_indexer,col_indexer] = value instead\n",
      "\n",
      "See the caveats in the documentation: http://pandas.pydata.org/pandas-docs/stable/user_guide/indexing.html#returning-a-view-versus-a-copy\n",
      "  \"\"\"Entry point for launching an IPython kernel.\n"
     ]
    }
   ],
   "source": [
    "df_summer[\"%free\"] = round(df_summer[\"numdocksavailable\"] / (df_summer[\"capacity\"] - df_summer[\"numbikesordocksbroken\"]) * 100)"
   ]
  },
  {
   "cell_type": "code",
   "execution_count": 225,
   "metadata": {},
   "outputs": [],
   "source": [
    "def calculate_tauxdispo(df): \n",
    "    taux = round(df[\"numdocksavailable\"].mean() / (df[\"capacity\"].mean() - df[\"numbikesordocksbroken\"].mean()) * 100, 1)\n",
    "    return taux"
   ]
  },
  {
   "cell_type": "code",
   "execution_count": 55,
   "metadata": {},
   "outputs": [
    {
     "data": {
      "text/plain": [
       "nan"
      ]
     },
     "execution_count": 55,
     "metadata": {},
     "output_type": "execute_result"
    }
   ],
   "source": [
    "calculate_tauxdispo(minidfcarnot1ermai)"
   ]
  },
  {
   "cell_type": "code",
   "execution_count": 56,
   "metadata": {},
   "outputs": [
    {
     "data": {
      "text/plain": [
       "24.4"
      ]
     },
     "execution_count": 56,
     "metadata": {},
     "output_type": "execute_result"
    }
   ],
   "source": [
    "calculate_tauxdispo(df_summer[df_summer[\"commune\"] == \"Alfortville\"])"
   ]
  },
  {
   "cell_type": "code",
   "execution_count": 226,
   "metadata": {},
   "outputs": [
    {
     "data": {
      "text/plain": [
       "63.5"
      ]
     },
     "execution_count": 226,
     "metadata": {},
     "output_type": "execute_result"
    }
   ],
   "source": [
    "calculate_tauxdispo(df_summer)"
   ]
  },
  {
   "cell_type": "code",
   "execution_count": 227,
   "metadata": {},
   "outputs": [
    {
     "data": {
      "text/plain": [
       "63.7"
      ]
     },
     "execution_count": 227,
     "metadata": {},
     "output_type": "execute_result"
    }
   ],
   "source": [
    "calculate_tauxdispo(df_allrows_summer)"
   ]
  },
  {
   "cell_type": "code",
   "execution_count": 58,
   "metadata": {},
   "outputs": [
    {
     "data": {
      "text/plain": [
       "array([100.,  99.])"
      ]
     },
     "execution_count": 58,
     "metadata": {},
     "output_type": "execute_result"
    }
   ],
   "source": [
    "(df_summer[\"%occupation\"] + df_summer[\"%free\"]).unique()"
   ]
  },
  {
   "cell_type": "code",
   "execution_count": null,
   "metadata": {},
   "outputs": [],
   "source": []
  },
  {
   "cell_type": "markdown",
   "metadata": {},
   "source": [
    "# POURCENTAGE DE TEMPS PENDANT LEQUEL LA STATION N'EST PAS OPERATIONELLE"
   ]
  },
  {
   "cell_type": "code",
   "execution_count": 59,
   "metadata": {},
   "outputs": [],
   "source": [
    "df_allrows_summer[\"is_renting\"] = df_allrows_summer[\"is_renting\"].str.replace(\"OUI\", \"1\")\n",
    "df_allrows_summer[\"is_renting\"] = df_allrows_summer[\"is_renting\"].str.replace(\"NON\", \"0\")\n",
    "df_allrows_summer[\"is_renting\"] = df_allrows_summer[\"is_renting\"].astype(int)"
   ]
  },
  {
   "cell_type": "code",
   "execution_count": 60,
   "metadata": {},
   "outputs": [],
   "source": [
    "df_allrows_summer[\"is_returning\"] = df_allrows_summer[\"is_returning\"].str.replace(\"OUI\", \"1\")\n",
    "df_allrows_summer[\"is_returning\"] = df_allrows_summer[\"is_returning\"].str.replace(\"NON\", \"0\")\n",
    "df_allrows_summer[\"is_returning\"] = df_allrows_summer[\"is_returning\"].astype(int)"
   ]
  },
  {
   "cell_type": "code",
   "execution_count": 61,
   "metadata": {},
   "outputs": [],
   "source": [
    "df_allrows_summer[\"is_installed\"] = df_allrows_summer[\"is_installed\"].str.replace(\"OUI\", \"1\")\n",
    "df_allrows_summer[\"is_installed\"] = df_allrows_summer[\"is_installed\"].str.replace(\"NON\", \"0\")\n",
    "df_allrows_summer[\"is_installed\"] = df_allrows_summer[\"is_installed\"].astype(int)"
   ]
  },
  {
   "cell_type": "code",
   "execution_count": 62,
   "metadata": {},
   "outputs": [],
   "source": [
    "def calculate_taux_nonop_stations_dansletemps(df):\n",
    "    \n",
    "    nb_lignes_fonctionnelles_bystation = df[(df[\"is_renting\"] == 1) & (df[\"is_returning\"] == 1) & (df[\"is_installed\"] == 1)].groupby(\"name\")[\"is_renting\"].count()\n",
    "    nb_lignes_nonfonctionnelles_bystation = (df[(df[\"is_renting\"] == 0) | (df[\"is_returning\"] == 0) | (df[\"is_installed\"] == 0) ]).groupby(\"name\")[\"is_renting\"].count()\n",
    "    \n",
    "    ind_to_add = nb_lignes_fonctionnelles_bystation.index.isin(nb_lignes_nonfonctionnelles_bystation.index)\n",
    "    copytoadd = nb_lignes_fonctionnelles_bystation[~ind_to_add]\n",
    "    copytoadd[:] = 0\n",
    "    copytoadd\n",
    "    \n",
    "    nb_lignes_nonfonctionnelles_bystation = pd.concat([nb_lignes_nonfonctionnelles_bystation, copytoadd])\n",
    "    \n",
    "    nb_lignes_bystation = df.groupby(\"name\")[\"name\"].count()\n",
    "    \n",
    "    taux_nonop_bystation = (round((nb_lignes_nonfonctionnelles_bystation / nb_lignes_bystation ) * 100, 1)).sort_values(ascending = False)\n",
    "    \n",
    "    return taux_nonop_bystation"
   ]
  },
  {
   "cell_type": "code",
   "execution_count": 63,
   "metadata": {},
   "outputs": [
    {
     "data": {
      "text/plain": [
       "name\n",
       "Pablo Picasso - Maurice Thorez    100.0\n",
       "Parc Roger Salengro               100.0\n",
       "Bateliers - Quai de Seine         100.0\n",
       "Docteur Calmette - Martre         100.0\n",
       "Place Andre Malraux                90.2\n",
       "                                  ...  \n",
       "Pasteur - Cotentin                  0.0\n",
       "Pasteur - Gambetta                  0.0\n",
       "Pau Casals - Neuve Tolbiac          0.0\n",
       "Paul Barruel - Vaugirard            0.0\n",
       "11 Novembre 1918 - 8 Mai 1945       0.0\n",
       "Length: 1428, dtype: float64"
      ]
     },
     "execution_count": 63,
     "metadata": {},
     "output_type": "execute_result"
    }
   ],
   "source": [
    "calculate_taux_nonop_stations_dansletemps(df_allrows_summer)"
   ]
  },
  {
   "cell_type": "code",
   "execution_count": 64,
   "metadata": {},
   "outputs": [
    {
     "name": "stdout",
     "output_type": "stream",
     "text": [
      "La station Place André Malraux est non opérationnelle 90.2% du temps entre mai et août 2023.\n"
     ]
    }
   ],
   "source": [
    "print(\"La station Place André Malraux est non opérationnelle 90.2% du temps entre mai et août 2023.\")"
   ]
  },
  {
   "cell_type": "code",
   "execution_count": 65,
   "metadata": {},
   "outputs": [
    {
     "data": {
      "text/plain": [
       "name\n",
       "Parc Roger Salengro                       100.0\n",
       "Place Leon Gambetta                       100.0\n",
       "Pablo Picasso - Maurice Thorez            100.0\n",
       "Cadet - La Fayette                        100.0\n",
       "Place de l'Hotel de Ville                 100.0\n",
       "                                          ...  \n",
       "Petites Ecuries - Faubourg Saint-Denis      0.0\n",
       "Phalsbourg - Villiers                       0.0\n",
       "Philippe-Auguste                            0.0\n",
       "Piat - Parc de Belleville                   0.0\n",
       "11 Novembre 1918 - 8 Mai 1945               0.0\n",
       "Length: 1419, dtype: float64"
      ]
     },
     "execution_count": 65,
     "metadata": {},
     "output_type": "execute_result"
    }
   ],
   "source": [
    "calculate_taux_nonop_stations_dansletemps(df_allrows_summer[df_allrows_summer[\"duedate\"].dt.month == 8])"
   ]
  },
  {
   "cell_type": "code",
   "execution_count": 66,
   "metadata": {},
   "outputs": [
    {
     "name": "stdout",
     "output_type": "stream",
     "text": [
      "La station Place André Malraux est non opérationnelle 100% du temps en août 2023.\n"
     ]
    }
   ],
   "source": [
    "print(\"La station Place André Malraux est non opérationnelle 100% du temps en août 2023.\")"
   ]
  },
  {
   "cell_type": "code",
   "execution_count": null,
   "metadata": {},
   "outputs": [],
   "source": []
  },
  {
   "cell_type": "code",
   "execution_count": 131,
   "metadata": {},
   "outputs": [
    {
     "data": {
      "text/plain": [
       "0      1.8\n",
       "1      1.0\n",
       "2      1.2\n",
       "3      1.6\n",
       "4      2.5\n",
       "      ... \n",
       "75     1.4\n",
       "76     5.3\n",
       "77     1.9\n",
       "78    11.7\n",
       "79    17.2\n",
       "Name: Superficie en 2019, Length: 80, dtype: float64"
      ]
     },
     "execution_count": 131,
     "metadata": {},
     "output_type": "execute_result"
    }
   ],
   "source": [
    "df_communes['Superficie en 2019'] = df_communes['Superficie en 2019'].str.replace(\",\", \".\").astype(float)\n",
    "df_communes['Superficie en 2019']"
   ]
  },
  {
   "cell_type": "code",
   "execution_count": 132,
   "metadata": {},
   "outputs": [],
   "source": [
    "df_communes['Superficie en 2019'].index = df_communes['Commune']"
   ]
  },
  {
   "cell_type": "code",
   "execution_count": 141,
   "metadata": {},
   "outputs": [
    {
     "data": {
      "text/plain": [
       "5"
      ]
     },
     "execution_count": 141,
     "metadata": {},
     "output_type": "execute_result"
    }
   ],
   "source": [
    "nb_stations_bycommune[\"Alfortville\"]"
   ]
  },
  {
   "cell_type": "code",
   "execution_count": 140,
   "metadata": {},
   "outputs": [
    {
     "data": {
      "text/plain": [
       "3.7"
      ]
     },
     "execution_count": 140,
     "metadata": {},
     "output_type": "execute_result"
    }
   ],
   "source": [
    "df_communes['Superficie en 2019'][\"Alfortville\"]"
   ]
  },
  {
   "cell_type": "code",
   "execution_count": 146,
   "metadata": {},
   "outputs": [
    {
     "data": {
      "text/plain": [
       "2.3"
      ]
     },
     "execution_count": 146,
     "metadata": {},
     "output_type": "execute_result"
    }
   ],
   "source": [
    "df_communes['Superficie en 2019'][\"Arcueil\"]"
   ]
  },
  {
   "cell_type": "code",
   "execution_count": null,
   "metadata": {},
   "outputs": [],
   "source": []
  },
  {
   "cell_type": "code",
   "execution_count": 142,
   "metadata": {},
   "outputs": [
    {
     "data": {
      "text/plain": [
       "402.4"
      ]
     },
     "execution_count": 142,
     "metadata": {},
     "output_type": "execute_result"
    }
   ],
   "source": [
    "df_communes['Superficie en 2019'].sum()"
   ]
  },
  {
   "cell_type": "code",
   "execution_count": null,
   "metadata": {},
   "outputs": [],
   "source": [
    "stations_km2 = nb_stations_bycommune / df_communes['Superficie en 2019']\n",
    "stations_km2"
   ]
  },
  {
   "cell_type": "code",
   "execution_count": 154,
   "metadata": {},
   "outputs": [],
   "source": [
    "nb_stations_bycommune2 = df_allrows_summer.groupby(\"commune\")[\"stationcode\"].nunique().sort_values(ascending = False)"
   ]
  },
  {
   "cell_type": "code",
   "execution_count": 155,
   "metadata": {},
   "outputs": [
    {
     "data": {
      "text/plain": [
       "Alfortville           1.351351\n",
       "Arcueil               1.739130\n",
       "Argenteuil            0.290698\n",
       "Asnieres-sur-Seine    1.875000\n",
       "Aubervilliers         2.241379\n",
       "                        ...   \n",
       "Vanves                4.375000\n",
       "Ville-d'Avray         0.270270\n",
       "Villejuif             1.886792\n",
       "Vincennes             5.263158\n",
       "Vitry-sur-Seine       1.367521\n",
       "Length: 80, dtype: float64"
      ]
     },
     "execution_count": 155,
     "metadata": {},
     "output_type": "execute_result"
    }
   ],
   "source": [
    "stations_km2 = nb_stations_bycommune2 / df_communes['Superficie en 2019']\n",
    "stations_km2"
   ]
  },
  {
   "cell_type": "code",
   "execution_count": 168,
   "metadata": {},
   "outputs": [
    {
     "name": "stdout",
     "output_type": "stream",
     "text": [
      "Il y a au total en moyenne 3.5 stations par km^2\n"
     ]
    }
   ],
   "source": [
    "print(f\"Il y a au total en moyenne {round(nb_stations_bycommune2.sum() / df_communes['Superficie en 2019'].sum(), 1)} stations par km^2\")"
   ]
  },
  {
   "cell_type": "code",
   "execution_count": null,
   "metadata": {},
   "outputs": [],
   "source": []
  },
  {
   "cell_type": "code",
   "execution_count": 169,
   "metadata": {},
   "outputs": [],
   "source": [
    "df_communes[\"Total Utilisateurs potentiels\"] = df_communes[\"Population en 2019\"] + df_communes[\"nb chb hotels\"]*2 + df_communes[\"Emploi total (salarie et non salarie) au lieu de travail en 2019\"] "
   ]
  },
  {
   "cell_type": "code",
   "execution_count": 170,
   "metadata": {},
   "outputs": [
    {
     "data": {
      "text/html": [
       "<div>\n",
       "<style scoped>\n",
       "    .dataframe tbody tr th:only-of-type {\n",
       "        vertical-align: middle;\n",
       "    }\n",
       "\n",
       "    .dataframe tbody tr th {\n",
       "        vertical-align: top;\n",
       "    }\n",
       "\n",
       "    .dataframe thead th {\n",
       "        text-align: right;\n",
       "    }\n",
       "</style>\n",
       "<table border=\"1\" class=\"dataframe\">\n",
       "  <thead>\n",
       "    <tr style=\"text-align: right;\">\n",
       "      <th></th>\n",
       "      <th>Commune</th>\n",
       "      <th>nb chb hotels</th>\n",
       "      <th>Population en 2019</th>\n",
       "      <th>Superficie en 2019</th>\n",
       "      <th>Mediane du revenu disponible par unite de consommation en 2020, en euros</th>\n",
       "      <th>Emploi total (salarie et non salarie) au lieu de travail en 2019</th>\n",
       "      <th>Couleur politique maire</th>\n",
       "      <th>Departement</th>\n",
       "      <th>Total Utilisateurs potentiels</th>\n",
       "    </tr>\n",
       "  </thead>\n",
       "  <tbody>\n",
       "    <tr>\n",
       "      <td>0</td>\n",
       "      <td>Paris 01</td>\n",
       "      <td>4201</td>\n",
       "      <td>15917</td>\n",
       "      <td>1.8</td>\n",
       "      <td>33960</td>\n",
       "      <td>66049</td>\n",
       "      <td>GAUCHE</td>\n",
       "      <td>75</td>\n",
       "      <td>90368</td>\n",
       "    </tr>\n",
       "    <tr>\n",
       "      <td>1</td>\n",
       "      <td>Paris 02</td>\n",
       "      <td>2304</td>\n",
       "      <td>21595</td>\n",
       "      <td>1.0</td>\n",
       "      <td>32380</td>\n",
       "      <td>65082</td>\n",
       "      <td>GAUCHE</td>\n",
       "      <td>75</td>\n",
       "      <td>91285</td>\n",
       "    </tr>\n",
       "    <tr>\n",
       "      <td>2</td>\n",
       "      <td>Paris 03</td>\n",
       "      <td>1118</td>\n",
       "      <td>34025</td>\n",
       "      <td>1.2</td>\n",
       "      <td>33180</td>\n",
       "      <td>32029</td>\n",
       "      <td>GAUCHE</td>\n",
       "      <td>75</td>\n",
       "      <td>68290</td>\n",
       "    </tr>\n",
       "    <tr>\n",
       "      <td>3</td>\n",
       "      <td>Paris 04</td>\n",
       "      <td>948</td>\n",
       "      <td>29131</td>\n",
       "      <td>1.6</td>\n",
       "      <td>31790</td>\n",
       "      <td>41494</td>\n",
       "      <td>GAUCHE</td>\n",
       "      <td>75</td>\n",
       "      <td>72521</td>\n",
       "    </tr>\n",
       "    <tr>\n",
       "      <td>4</td>\n",
       "      <td>Paris 05</td>\n",
       "      <td>3092</td>\n",
       "      <td>58227</td>\n",
       "      <td>2.5</td>\n",
       "      <td>34650</td>\n",
       "      <td>53063</td>\n",
       "      <td>DROITE</td>\n",
       "      <td>75</td>\n",
       "      <td>117474</td>\n",
       "    </tr>\n",
       "    <tr>\n",
       "      <td>...</td>\n",
       "      <td>...</td>\n",
       "      <td>...</td>\n",
       "      <td>...</td>\n",
       "      <td>...</td>\n",
       "      <td>...</td>\n",
       "      <td>...</td>\n",
       "      <td>...</td>\n",
       "      <td>...</td>\n",
       "      <td>...</td>\n",
       "    </tr>\n",
       "    <tr>\n",
       "      <td>75</td>\n",
       "      <td>Saint-Maurice</td>\n",
       "      <td>195</td>\n",
       "      <td>14189</td>\n",
       "      <td>1.4</td>\n",
       "      <td>27830</td>\n",
       "      <td>6012</td>\n",
       "      <td>DROITE</td>\n",
       "      <td>94</td>\n",
       "      <td>20591</td>\n",
       "    </tr>\n",
       "    <tr>\n",
       "      <td>76</td>\n",
       "      <td>Villejuif</td>\n",
       "      <td>213</td>\n",
       "      <td>55208</td>\n",
       "      <td>5.3</td>\n",
       "      <td>21020</td>\n",
       "      <td>22214</td>\n",
       "      <td>GAUCHE</td>\n",
       "      <td>94</td>\n",
       "      <td>77848</td>\n",
       "    </tr>\n",
       "    <tr>\n",
       "      <td>77</td>\n",
       "      <td>Vincennes</td>\n",
       "      <td>161</td>\n",
       "      <td>49788</td>\n",
       "      <td>1.9</td>\n",
       "      <td>33580</td>\n",
       "      <td>17021</td>\n",
       "      <td>DROITE</td>\n",
       "      <td>94</td>\n",
       "      <td>67131</td>\n",
       "    </tr>\n",
       "    <tr>\n",
       "      <td>78</td>\n",
       "      <td>Vitry-sur-Seine</td>\n",
       "      <td>201</td>\n",
       "      <td>95510</td>\n",
       "      <td>11.7</td>\n",
       "      <td>19100</td>\n",
       "      <td>27658</td>\n",
       "      <td>GAUCHE</td>\n",
       "      <td>94</td>\n",
       "      <td>123570</td>\n",
       "    </tr>\n",
       "    <tr>\n",
       "      <td>79</td>\n",
       "      <td>Argenteuil</td>\n",
       "      <td>365</td>\n",
       "      <td>111038</td>\n",
       "      <td>17.2</td>\n",
       "      <td>18930</td>\n",
       "      <td>29685</td>\n",
       "      <td>DROITE</td>\n",
       "      <td>95</td>\n",
       "      <td>141453</td>\n",
       "    </tr>\n",
       "  </tbody>\n",
       "</table>\n",
       "<p>80 rows × 9 columns</p>\n",
       "</div>"
      ],
      "text/plain": [
       "            Commune  nb chb hotels  Population en 2019  Superficie en 2019  \\\n",
       "0          Paris 01           4201               15917                 1.8   \n",
       "1          Paris 02           2304               21595                 1.0   \n",
       "2          Paris 03           1118               34025                 1.2   \n",
       "3          Paris 04            948               29131                 1.6   \n",
       "4          Paris 05           3092               58227                 2.5   \n",
       "..              ...            ...                 ...                 ...   \n",
       "75    Saint-Maurice            195               14189                 1.4   \n",
       "76        Villejuif            213               55208                 5.3   \n",
       "77        Vincennes            161               49788                 1.9   \n",
       "78  Vitry-sur-Seine            201               95510                11.7   \n",
       "79       Argenteuil            365              111038                17.2   \n",
       "\n",
       "    Mediane du revenu disponible par unite de consommation en 2020, en euros  \\\n",
       "0                                               33960                          \n",
       "1                                               32380                          \n",
       "2                                               33180                          \n",
       "3                                               31790                          \n",
       "4                                               34650                          \n",
       "..                                                ...                          \n",
       "75                                              27830                          \n",
       "76                                              21020                          \n",
       "77                                              33580                          \n",
       "78                                              19100                          \n",
       "79                                              18930                          \n",
       "\n",
       "    Emploi total (salarie et non salarie) au lieu de travail en 2019  \\\n",
       "0                                               66049                  \n",
       "1                                               65082                  \n",
       "2                                               32029                  \n",
       "3                                               41494                  \n",
       "4                                               53063                  \n",
       "..                                                ...                  \n",
       "75                                               6012                  \n",
       "76                                              22214                  \n",
       "77                                              17021                  \n",
       "78                                              27658                  \n",
       "79                                              29685                  \n",
       "\n",
       "   Couleur politique maire  Departement  Total Utilisateurs potentiels  \n",
       "0                   GAUCHE           75                          90368  \n",
       "1                   GAUCHE           75                          91285  \n",
       "2                   GAUCHE           75                          68290  \n",
       "3                   GAUCHE           75                          72521  \n",
       "4                   DROITE           75                         117474  \n",
       "..                     ...          ...                            ...  \n",
       "75                  DROITE           94                          20591  \n",
       "76                  GAUCHE           94                          77848  \n",
       "77                  DROITE           94                          67131  \n",
       "78                  GAUCHE           94                         123570  \n",
       "79                  DROITE           95                         141453  \n",
       "\n",
       "[80 rows x 9 columns]"
      ]
     },
     "execution_count": 170,
     "metadata": {},
     "output_type": "execute_result"
    }
   ],
   "source": [
    "df_communes"
   ]
  },
  {
   "cell_type": "code",
   "execution_count": null,
   "metadata": {},
   "outputs": [],
   "source": []
  },
  {
   "cell_type": "code",
   "execution_count": 173,
   "metadata": {},
   "outputs": [],
   "source": [
    "df_communes[\"Total Utilisateurs potentiels\"].index = df_communes[\"Commune\"]"
   ]
  },
  {
   "cell_type": "code",
   "execution_count": 192,
   "metadata": {},
   "outputs": [],
   "source": [
    "nb_bornettes_bycommune2 = df_allrows_summer.groupby([\"commune\", \"name\"])[\"capacity\"].mean().groupby(\"commune\").sum().sort_values(ascending = False).round().astype(int)"
   ]
  },
  {
   "cell_type": "code",
   "execution_count": 219,
   "metadata": {},
   "outputs": [
    {
     "data": {
      "text/plain": [
       "Alfortville           468.278689\n",
       "Arcueil               328.739496\n",
       "Argenteuil            878.590062\n",
       "Asnieres-sur-Seine    467.639831\n",
       "Aubervilliers         305.376238\n",
       "                         ...    \n",
       "Vanves                157.752137\n",
       "Ville-d'Avray         551.416667\n",
       "Villejuif             306.488189\n",
       "Vincennes             219.382353\n",
       "Vitry-sur-Seine       272.180617\n",
       "Length: 80, dtype: float64"
      ]
     },
     "execution_count": 219,
     "metadata": {},
     "output_type": "execute_result"
    }
   ],
   "source": [
    "utilisateurs_bornette = (df_communes[\"Total Utilisateurs potentiels\"] / nb_bornettes_bycommune2)#.astype(int)\n",
    "utilisateurs_bornette"
   ]
  },
  {
   "cell_type": "code",
   "execution_count": 228,
   "metadata": {},
   "outputs": [
    {
     "name": "stdout",
     "output_type": "stream",
     "text": [
      "Il y a au total en moyenne 194.7418967587035 utilisateurs par bornette\n"
     ]
    }
   ],
   "source": [
    "print(f\"Il y a au total en moyenne {df_communes['Total Utilisateurs potentiels'].sum() / nb_bornettes_bycommune.sum()} utilisateurs par bornette\")"
   ]
  },
  {
   "cell_type": "code",
   "execution_count": null,
   "metadata": {},
   "outputs": [],
   "source": []
  }
 ],
 "metadata": {
  "kernelspec": {
   "display_name": "Python 3",
   "language": "python",
   "name": "python3"
  },
  "language_info": {
   "codemirror_mode": {
    "name": "ipython",
    "version": 3
   },
   "file_extension": ".py",
   "mimetype": "text/x-python",
   "name": "python",
   "nbconvert_exporter": "python",
   "pygments_lexer": "ipython3",
   "version": "3.7.4"
  }
 },
 "nbformat": 4,
 "nbformat_minor": 2
}
