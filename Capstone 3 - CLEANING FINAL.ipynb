{
 "cells": [
  {
   "cell_type": "code",
   "execution_count": 1,
   "metadata": {},
   "outputs": [],
   "source": [
    "import pandas as pd\n",
    "import numpy as np"
   ]
  },
  {
   "cell_type": "markdown",
   "metadata": {},
   "source": [
    "#  LOADER LES DFS NETTOYES ET LES CONCATENER"
   ]
  },
  {
   "cell_type": "code",
   "execution_count": 2,
   "metadata": {},
   "outputs": [],
   "source": [
    "df1 = pd.read_csv(\"cleaned_df1_Velib_MAY_2022.csv\")"
   ]
  },
  {
   "cell_type": "code",
   "execution_count": 3,
   "metadata": {},
   "outputs": [],
   "source": [
    "df2 = pd.read_csv(\"cleaned_df2_Velib_JUNE_2022.csv\")"
   ]
  },
  {
   "cell_type": "code",
   "execution_count": 4,
   "metadata": {},
   "outputs": [],
   "source": [
    "df3 = pd.read_csv(\"cleaned_df3_Velib_JULY_2022.csv\")"
   ]
  },
  {
   "cell_type": "code",
   "execution_count": 5,
   "metadata": {},
   "outputs": [],
   "source": [
    "df4 = pd.read_csv(\"cleaned_df4_Velib_AUG_2022.csv\")"
   ]
  },
  {
   "cell_type": "code",
   "execution_count": 6,
   "metadata": {},
   "outputs": [],
   "source": [
    "all_dfs = [df1, df2, df3, df4]"
   ]
  },
  {
   "cell_type": "code",
   "execution_count": 7,
   "metadata": {},
   "outputs": [],
   "source": [
    "df_summer = pd.concat(all_dfs)"
   ]
  },
  {
   "cell_type": "code",
   "execution_count": 8,
   "metadata": {},
   "outputs": [
    {
     "data": {
      "text/plain": [
       "(12675098, 17)"
      ]
     },
     "execution_count": 8,
     "metadata": {},
     "output_type": "execute_result"
    }
   ],
   "source": [
    "df_summer.shape"
   ]
  },
  {
   "cell_type": "code",
   "execution_count": 9,
   "metadata": {},
   "outputs": [],
   "source": [
    "df_summer = df_summer.reset_index(drop = True)\n",
    "df_summer = df_summer.drop(columns = \"Unnamed: 0\")"
   ]
  },
  {
   "cell_type": "code",
   "execution_count": 10,
   "metadata": {},
   "outputs": [
    {
     "data": {
      "text/html": [
       "<div>\n",
       "<style scoped>\n",
       "    .dataframe tbody tr th:only-of-type {\n",
       "        vertical-align: middle;\n",
       "    }\n",
       "\n",
       "    .dataframe tbody tr th {\n",
       "        vertical-align: top;\n",
       "    }\n",
       "\n",
       "    .dataframe thead th {\n",
       "        text-align: right;\n",
       "    }\n",
       "</style>\n",
       "<table border=\"1\" class=\"dataframe\">\n",
       "  <thead>\n",
       "    <tr style=\"text-align: right;\">\n",
       "      <th></th>\n",
       "      <th>name</th>\n",
       "      <th>stationcode</th>\n",
       "      <th>ebike</th>\n",
       "      <th>mechanical</th>\n",
       "      <th>coordonnees_geo</th>\n",
       "      <th>duedate</th>\n",
       "      <th>numbikesavailable</th>\n",
       "      <th>numdocksavailable</th>\n",
       "      <th>capacity</th>\n",
       "      <th>is_renting</th>\n",
       "      <th>is_installed</th>\n",
       "      <th>nom_arrondissement_communes</th>\n",
       "      <th>is_returning</th>\n",
       "      <th>Latitude</th>\n",
       "      <th>Longitude</th>\n",
       "      <th>arrondissement</th>\n",
       "    </tr>\n",
       "  </thead>\n",
       "  <tbody>\n",
       "    <tr>\n",
       "      <td>0</td>\n",
       "      <td>Benjamin Godard - Victor Hugo</td>\n",
       "      <td>16107</td>\n",
       "      <td>2</td>\n",
       "      <td>1</td>\n",
       "      <td>48.865983, 2.275725</td>\n",
       "      <td>2022-05-01 00:33:45+02:00</td>\n",
       "      <td>3</td>\n",
       "      <td>31</td>\n",
       "      <td>35</td>\n",
       "      <td>OUI</td>\n",
       "      <td>OUI</td>\n",
       "      <td>Paris</td>\n",
       "      <td>OUI</td>\n",
       "      <td>48.8659</td>\n",
       "      <td>2.2757</td>\n",
       "      <td>Paris 16</td>\n",
       "    </tr>\n",
       "    <tr>\n",
       "      <td>1</td>\n",
       "      <td>Charonne - Robert et Sonia Delauney</td>\n",
       "      <td>11104</td>\n",
       "      <td>9</td>\n",
       "      <td>4</td>\n",
       "      <td>48.85590755596891, 2.3925706744194035</td>\n",
       "      <td>2022-05-01 00:39:22+02:00</td>\n",
       "      <td>13</td>\n",
       "      <td>5</td>\n",
       "      <td>20</td>\n",
       "      <td>OUI</td>\n",
       "      <td>OUI</td>\n",
       "      <td>Paris</td>\n",
       "      <td>OUI</td>\n",
       "      <td>48.8559</td>\n",
       "      <td>2.3925</td>\n",
       "      <td>Paris 11</td>\n",
       "    </tr>\n",
       "    <tr>\n",
       "      <td>2</td>\n",
       "      <td>Mairie du 12ème</td>\n",
       "      <td>12109</td>\n",
       "      <td>0</td>\n",
       "      <td>0</td>\n",
       "      <td>48.840855311763, 2.3875549435616</td>\n",
       "      <td>2022-05-01 00:40:15+02:00</td>\n",
       "      <td>0</td>\n",
       "      <td>30</td>\n",
       "      <td>30</td>\n",
       "      <td>NON</td>\n",
       "      <td>OUI</td>\n",
       "      <td>Paris</td>\n",
       "      <td>NON</td>\n",
       "      <td>48.8408</td>\n",
       "      <td>2.3875</td>\n",
       "      <td>Paris 12</td>\n",
       "    </tr>\n",
       "    <tr>\n",
       "      <td>3</td>\n",
       "      <td>Toudouze - Clauzel</td>\n",
       "      <td>9020</td>\n",
       "      <td>1</td>\n",
       "      <td>1</td>\n",
       "      <td>48.87929591733507, 2.3373600840568547</td>\n",
       "      <td>2022-05-01 00:38:42+02:00</td>\n",
       "      <td>2</td>\n",
       "      <td>19</td>\n",
       "      <td>21</td>\n",
       "      <td>OUI</td>\n",
       "      <td>OUI</td>\n",
       "      <td>Paris</td>\n",
       "      <td>OUI</td>\n",
       "      <td>48.8792</td>\n",
       "      <td>2.3373</td>\n",
       "      <td>Paris 09</td>\n",
       "    </tr>\n",
       "    <tr>\n",
       "      <td>4</td>\n",
       "      <td>Harpe - Saint-Germain</td>\n",
       "      <td>5001</td>\n",
       "      <td>2</td>\n",
       "      <td>34</td>\n",
       "      <td>48.85151881501689, 2.343670316040516</td>\n",
       "      <td>2022-05-01 00:40:52+02:00</td>\n",
       "      <td>36</td>\n",
       "      <td>8</td>\n",
       "      <td>45</td>\n",
       "      <td>OUI</td>\n",
       "      <td>OUI</td>\n",
       "      <td>Paris</td>\n",
       "      <td>OUI</td>\n",
       "      <td>48.8515</td>\n",
       "      <td>2.3436</td>\n",
       "      <td>Paris 05</td>\n",
       "    </tr>\n",
       "    <tr>\n",
       "      <td>...</td>\n",
       "      <td>...</td>\n",
       "      <td>...</td>\n",
       "      <td>...</td>\n",
       "      <td>...</td>\n",
       "      <td>...</td>\n",
       "      <td>...</td>\n",
       "      <td>...</td>\n",
       "      <td>...</td>\n",
       "      <td>...</td>\n",
       "      <td>...</td>\n",
       "      <td>...</td>\n",
       "      <td>...</td>\n",
       "      <td>...</td>\n",
       "      <td>...</td>\n",
       "      <td>...</td>\n",
       "      <td>...</td>\n",
       "    </tr>\n",
       "    <tr>\n",
       "      <td>12675093</td>\n",
       "      <td>Boissière - Etienne Dolet</td>\n",
       "      <td>31102</td>\n",
       "      <td>14</td>\n",
       "      <td>1</td>\n",
       "      <td>48.876111, 2.4677312</td>\n",
       "      <td>2022-08-31 16:06:00+02:00</td>\n",
       "      <td>15</td>\n",
       "      <td>2</td>\n",
       "      <td>21</td>\n",
       "      <td>OUI</td>\n",
       "      <td>OUI</td>\n",
       "      <td>Montreuil</td>\n",
       "      <td>OUI</td>\n",
       "      <td>48.8761</td>\n",
       "      <td>2.4677</td>\n",
       "      <td>Montreuil</td>\n",
       "    </tr>\n",
       "    <tr>\n",
       "      <td>12675094</td>\n",
       "      <td>Boissière - Etienne Dolet</td>\n",
       "      <td>31102</td>\n",
       "      <td>14</td>\n",
       "      <td>1</td>\n",
       "      <td>48.876111, 2.4677312</td>\n",
       "      <td>2022-08-31 16:06:00+02:00</td>\n",
       "      <td>15</td>\n",
       "      <td>0</td>\n",
       "      <td>21</td>\n",
       "      <td>OUI</td>\n",
       "      <td>OUI</td>\n",
       "      <td>Montreuil</td>\n",
       "      <td>OUI</td>\n",
       "      <td>48.8761</td>\n",
       "      <td>2.4677</td>\n",
       "      <td>Montreuil</td>\n",
       "    </tr>\n",
       "    <tr>\n",
       "      <td>12675095</td>\n",
       "      <td>Boissière - Etienne Dolet</td>\n",
       "      <td>31102</td>\n",
       "      <td>13</td>\n",
       "      <td>1</td>\n",
       "      <td>48.876111, 2.4677312</td>\n",
       "      <td>2022-08-31 16:06:00+02:00</td>\n",
       "      <td>14</td>\n",
       "      <td>1</td>\n",
       "      <td>21</td>\n",
       "      <td>OUI</td>\n",
       "      <td>OUI</td>\n",
       "      <td>Montreuil</td>\n",
       "      <td>OUI</td>\n",
       "      <td>48.8761</td>\n",
       "      <td>2.4677</td>\n",
       "      <td>Montreuil</td>\n",
       "    </tr>\n",
       "    <tr>\n",
       "      <td>12675096</td>\n",
       "      <td>Boissière - Etienne Dolet</td>\n",
       "      <td>31102</td>\n",
       "      <td>13</td>\n",
       "      <td>1</td>\n",
       "      <td>48.876111, 2.4677312</td>\n",
       "      <td>2022-08-31 16:06:00+02:00</td>\n",
       "      <td>14</td>\n",
       "      <td>2</td>\n",
       "      <td>21</td>\n",
       "      <td>OUI</td>\n",
       "      <td>OUI</td>\n",
       "      <td>Montreuil</td>\n",
       "      <td>OUI</td>\n",
       "      <td>48.8761</td>\n",
       "      <td>2.4677</td>\n",
       "      <td>Montreuil</td>\n",
       "    </tr>\n",
       "    <tr>\n",
       "      <td>12675097</td>\n",
       "      <td>Boissière - Etienne Dolet</td>\n",
       "      <td>31102</td>\n",
       "      <td>12</td>\n",
       "      <td>1</td>\n",
       "      <td>48.876111, 2.4677312</td>\n",
       "      <td>2022-08-31 16:06:00+02:00</td>\n",
       "      <td>13</td>\n",
       "      <td>3</td>\n",
       "      <td>21</td>\n",
       "      <td>OUI</td>\n",
       "      <td>OUI</td>\n",
       "      <td>Montreuil</td>\n",
       "      <td>OUI</td>\n",
       "      <td>48.8761</td>\n",
       "      <td>2.4677</td>\n",
       "      <td>Montreuil</td>\n",
       "    </tr>\n",
       "  </tbody>\n",
       "</table>\n",
       "<p>12675098 rows × 16 columns</p>\n",
       "</div>"
      ],
      "text/plain": [
       "                                         name  stationcode  ebike  mechanical  \\\n",
       "0               Benjamin Godard - Victor Hugo        16107      2           1   \n",
       "1         Charonne - Robert et Sonia Delauney        11104      9           4   \n",
       "2                             Mairie du 12ème        12109      0           0   \n",
       "3                          Toudouze - Clauzel         9020      1           1   \n",
       "4                       Harpe - Saint-Germain         5001      2          34   \n",
       "...                                       ...          ...    ...         ...   \n",
       "12675093            Boissière - Etienne Dolet        31102     14           1   \n",
       "12675094            Boissière - Etienne Dolet        31102     14           1   \n",
       "12675095            Boissière - Etienne Dolet        31102     13           1   \n",
       "12675096            Boissière - Etienne Dolet        31102     13           1   \n",
       "12675097            Boissière - Etienne Dolet        31102     12           1   \n",
       "\n",
       "                                coordonnees_geo                    duedate  \\\n",
       "0                           48.865983, 2.275725  2022-05-01 00:33:45+02:00   \n",
       "1         48.85590755596891, 2.3925706744194035  2022-05-01 00:39:22+02:00   \n",
       "2              48.840855311763, 2.3875549435616  2022-05-01 00:40:15+02:00   \n",
       "3         48.87929591733507, 2.3373600840568547  2022-05-01 00:38:42+02:00   \n",
       "4          48.85151881501689, 2.343670316040516  2022-05-01 00:40:52+02:00   \n",
       "...                                         ...                        ...   \n",
       "12675093                   48.876111, 2.4677312  2022-08-31 16:06:00+02:00   \n",
       "12675094                   48.876111, 2.4677312  2022-08-31 16:06:00+02:00   \n",
       "12675095                   48.876111, 2.4677312  2022-08-31 16:06:00+02:00   \n",
       "12675096                   48.876111, 2.4677312  2022-08-31 16:06:00+02:00   \n",
       "12675097                   48.876111, 2.4677312  2022-08-31 16:06:00+02:00   \n",
       "\n",
       "          numbikesavailable  numdocksavailable  capacity is_renting  \\\n",
       "0                         3                 31        35        OUI   \n",
       "1                        13                  5        20        OUI   \n",
       "2                         0                 30        30        NON   \n",
       "3                         2                 19        21        OUI   \n",
       "4                        36                  8        45        OUI   \n",
       "...                     ...                ...       ...        ...   \n",
       "12675093                 15                  2        21        OUI   \n",
       "12675094                 15                  0        21        OUI   \n",
       "12675095                 14                  1        21        OUI   \n",
       "12675096                 14                  2        21        OUI   \n",
       "12675097                 13                  3        21        OUI   \n",
       "\n",
       "         is_installed nom_arrondissement_communes is_returning  Latitude  \\\n",
       "0                 OUI                       Paris          OUI   48.8659   \n",
       "1                 OUI                       Paris          OUI   48.8559   \n",
       "2                 OUI                       Paris          NON   48.8408   \n",
       "3                 OUI                       Paris          OUI   48.8792   \n",
       "4                 OUI                       Paris          OUI   48.8515   \n",
       "...               ...                         ...          ...       ...   \n",
       "12675093          OUI                   Montreuil          OUI   48.8761   \n",
       "12675094          OUI                   Montreuil          OUI   48.8761   \n",
       "12675095          OUI                   Montreuil          OUI   48.8761   \n",
       "12675096          OUI                   Montreuil          OUI   48.8761   \n",
       "12675097          OUI                   Montreuil          OUI   48.8761   \n",
       "\n",
       "          Longitude arrondissement  \n",
       "0            2.2757       Paris 16  \n",
       "1            2.3925       Paris 11  \n",
       "2            2.3875       Paris 12  \n",
       "3            2.3373       Paris 09  \n",
       "4            2.3436       Paris 05  \n",
       "...             ...            ...  \n",
       "12675093     2.4677      Montreuil  \n",
       "12675094     2.4677      Montreuil  \n",
       "12675095     2.4677      Montreuil  \n",
       "12675096     2.4677      Montreuil  \n",
       "12675097     2.4677      Montreuil  \n",
       "\n",
       "[12675098 rows x 16 columns]"
      ]
     },
     "execution_count": 10,
     "metadata": {},
     "output_type": "execute_result"
    }
   ],
   "source": [
    "df_summer"
   ]
  },
  {
   "cell_type": "code",
   "execution_count": 11,
   "metadata": {},
   "outputs": [],
   "source": [
    "#df_summer.to_csv(\"df_Velib_summer_2022.csv\")"
   ]
  },
  {
   "cell_type": "code",
   "execution_count": 12,
   "metadata": {},
   "outputs": [
    {
     "name": "stdout",
     "output_type": "stream",
     "text": [
      "<class 'pandas.core.frame.DataFrame'>\n",
      "RangeIndex: 12675098 entries, 0 to 12675097\n",
      "Data columns (total 16 columns):\n",
      "name                           object\n",
      "stationcode                    int64\n",
      "ebike                          int64\n",
      "mechanical                     int64\n",
      "coordonnees_geo                object\n",
      "duedate                        object\n",
      "numbikesavailable              int64\n",
      "numdocksavailable              int64\n",
      "capacity                       int64\n",
      "is_renting                     object\n",
      "is_installed                   object\n",
      "nom_arrondissement_communes    object\n",
      "is_returning                   object\n",
      "Latitude                       float64\n",
      "Longitude                      float64\n",
      "arrondissement                 object\n",
      "dtypes: float64(2), int64(6), object(8)\n",
      "memory usage: 1.5+ GB\n"
     ]
    }
   ],
   "source": [
    "df_summer.info()"
   ]
  },
  {
   "cell_type": "code",
   "execution_count": 13,
   "metadata": {},
   "outputs": [
    {
     "data": {
      "text/plain": [
       "name                           0\n",
       "stationcode                    0\n",
       "ebike                          0\n",
       "mechanical                     0\n",
       "coordonnees_geo                0\n",
       "duedate                        0\n",
       "numbikesavailable              0\n",
       "numdocksavailable              0\n",
       "capacity                       0\n",
       "is_renting                     0\n",
       "is_installed                   0\n",
       "nom_arrondissement_communes    0\n",
       "is_returning                   0\n",
       "Latitude                       0\n",
       "Longitude                      0\n",
       "arrondissement                 0\n",
       "dtype: int64"
      ]
     },
     "execution_count": 13,
     "metadata": {},
     "output_type": "execute_result"
    }
   ],
   "source": [
    "df_summer.isnull().sum()"
   ]
  },
  {
   "cell_type": "code",
   "execution_count": 14,
   "metadata": {
    "scrolled": true
   },
   "outputs": [
    {
     "data": {
      "text/plain": [
       "name                              1434\n",
       "stationcode                       1432\n",
       "ebike                               61\n",
       "mechanical                          73\n",
       "coordonnees_geo                   1516\n",
       "duedate                        1255365\n",
       "numbikesavailable                   85\n",
       "numdocksavailable                   97\n",
       "capacity                            66\n",
       "is_renting                           2\n",
       "is_installed                         2\n",
       "nom_arrondissement_communes         61\n",
       "is_returning                         2\n",
       "Latitude                           823\n",
       "Longitude                         1013\n",
       "arrondissement                      80\n",
       "dtype: int64"
      ]
     },
     "execution_count": 14,
     "metadata": {},
     "output_type": "execute_result"
    }
   ],
   "source": [
    "df_summer.nunique()"
   ]
  },
  {
   "cell_type": "markdown",
   "metadata": {},
   "source": [
    "# NETTOYER LE DF TOTAL"
   ]
  },
  {
   "cell_type": "code",
   "execution_count": 15,
   "metadata": {},
   "outputs": [],
   "source": [
    "# on peut dropper la colonne nom_arrondissement_communes\n",
    "df_summer_cleaned = df_summer.drop(columns = \"nom_arrondissement_communes\")"
   ]
  },
  {
   "cell_type": "code",
   "execution_count": 16,
   "metadata": {
    "scrolled": true
   },
   "outputs": [],
   "source": [
    "# on peut dropper la colonne coordonnees_geo\n",
    "df_summer_cleaned = df_summer_cleaned.drop(columns = \"coordonnees_geo\")"
   ]
  },
  {
   "cell_type": "code",
   "execution_count": 17,
   "metadata": {},
   "outputs": [],
   "source": [
    "# on transforme a colonne des codes de stations en string\n",
    "df_summer_cleaned[\"stationcode\"] = df_summer[\"stationcode\"].astype(str)"
   ]
  },
  {
   "cell_type": "code",
   "execution_count": 18,
   "metadata": {},
   "outputs": [],
   "source": [
    "# renommer la colonne arrondissement\n",
    "df_summer_cleaned = df_summer_cleaned.rename(columns = {\"arrondissement\": \"commune\"})"
   ]
  },
  {
   "cell_type": "code",
   "execution_count": 19,
   "metadata": {},
   "outputs": [],
   "source": [
    "# Convertir la colonne \"duedate\" en type datetime\n",
    "df_summer_cleaned[\"duedate\"] = pd.to_datetime(df_summer_cleaned[\"duedate\"])"
   ]
  },
  {
   "cell_type": "code",
   "execution_count": 20,
   "metadata": {},
   "outputs": [],
   "source": [
    "# Ajouter une nouvelle colonne pour les mois\n",
    "df_summer_cleaned[\"month\"] = df_summer_cleaned[\"duedate\"].dt.month"
   ]
  },
  {
   "cell_type": "code",
   "execution_count": 21,
   "metadata": {},
   "outputs": [],
   "source": [
    "# Ajouter une nouvelle colonne pour les intervalles de 15 minutes\n",
    "df_summer_cleaned[\"interval\"] = df_summer_cleaned[\"duedate\"].dt.round(\"H\")"
   ]
  },
  {
   "cell_type": "code",
   "execution_count": 22,
   "metadata": {},
   "outputs": [],
   "source": [
    "df_summer_cleaned[\"numbikesordocksbroken\"] = df_summer_cleaned[\"capacity\"] - (df_summer_cleaned[\"numbikesavailable\"] + df_summer_cleaned[\"numdocksavailable\"])"
   ]
  },
  {
   "cell_type": "code",
   "execution_count": 23,
   "metadata": {
    "scrolled": true
   },
   "outputs": [
    {
     "data": {
      "text/html": [
       "<div>\n",
       "<style scoped>\n",
       "    .dataframe tbody tr th:only-of-type {\n",
       "        vertical-align: middle;\n",
       "    }\n",
       "\n",
       "    .dataframe tbody tr th {\n",
       "        vertical-align: top;\n",
       "    }\n",
       "\n",
       "    .dataframe thead th {\n",
       "        text-align: right;\n",
       "    }\n",
       "</style>\n",
       "<table border=\"1\" class=\"dataframe\">\n",
       "  <thead>\n",
       "    <tr style=\"text-align: right;\">\n",
       "      <th></th>\n",
       "      <th>name</th>\n",
       "      <th>stationcode</th>\n",
       "      <th>ebike</th>\n",
       "      <th>mechanical</th>\n",
       "      <th>duedate</th>\n",
       "      <th>numbikesavailable</th>\n",
       "      <th>numdocksavailable</th>\n",
       "      <th>capacity</th>\n",
       "      <th>is_renting</th>\n",
       "      <th>is_installed</th>\n",
       "      <th>is_returning</th>\n",
       "      <th>Latitude</th>\n",
       "      <th>Longitude</th>\n",
       "      <th>commune</th>\n",
       "      <th>month</th>\n",
       "      <th>interval</th>\n",
       "      <th>numbikesordocksbroken</th>\n",
       "    </tr>\n",
       "  </thead>\n",
       "  <tbody>\n",
       "    <tr>\n",
       "      <td>0</td>\n",
       "      <td>Benjamin Godard - Victor Hugo</td>\n",
       "      <td>16107</td>\n",
       "      <td>2</td>\n",
       "      <td>1</td>\n",
       "      <td>2022-05-01 00:33:45+02:00</td>\n",
       "      <td>3</td>\n",
       "      <td>31</td>\n",
       "      <td>35</td>\n",
       "      <td>OUI</td>\n",
       "      <td>OUI</td>\n",
       "      <td>OUI</td>\n",
       "      <td>48.8659</td>\n",
       "      <td>2.2757</td>\n",
       "      <td>Paris 16</td>\n",
       "      <td>5</td>\n",
       "      <td>2022-05-01 01:00:00+02:00</td>\n",
       "      <td>1</td>\n",
       "    </tr>\n",
       "    <tr>\n",
       "      <td>1</td>\n",
       "      <td>Charonne - Robert et Sonia Delauney</td>\n",
       "      <td>11104</td>\n",
       "      <td>9</td>\n",
       "      <td>4</td>\n",
       "      <td>2022-05-01 00:39:22+02:00</td>\n",
       "      <td>13</td>\n",
       "      <td>5</td>\n",
       "      <td>20</td>\n",
       "      <td>OUI</td>\n",
       "      <td>OUI</td>\n",
       "      <td>OUI</td>\n",
       "      <td>48.8559</td>\n",
       "      <td>2.3925</td>\n",
       "      <td>Paris 11</td>\n",
       "      <td>5</td>\n",
       "      <td>2022-05-01 01:00:00+02:00</td>\n",
       "      <td>2</td>\n",
       "    </tr>\n",
       "    <tr>\n",
       "      <td>2</td>\n",
       "      <td>Mairie du 12ème</td>\n",
       "      <td>12109</td>\n",
       "      <td>0</td>\n",
       "      <td>0</td>\n",
       "      <td>2022-05-01 00:40:15+02:00</td>\n",
       "      <td>0</td>\n",
       "      <td>30</td>\n",
       "      <td>30</td>\n",
       "      <td>NON</td>\n",
       "      <td>OUI</td>\n",
       "      <td>NON</td>\n",
       "      <td>48.8408</td>\n",
       "      <td>2.3875</td>\n",
       "      <td>Paris 12</td>\n",
       "      <td>5</td>\n",
       "      <td>2022-05-01 01:00:00+02:00</td>\n",
       "      <td>0</td>\n",
       "    </tr>\n",
       "    <tr>\n",
       "      <td>3</td>\n",
       "      <td>Toudouze - Clauzel</td>\n",
       "      <td>9020</td>\n",
       "      <td>1</td>\n",
       "      <td>1</td>\n",
       "      <td>2022-05-01 00:38:42+02:00</td>\n",
       "      <td>2</td>\n",
       "      <td>19</td>\n",
       "      <td>21</td>\n",
       "      <td>OUI</td>\n",
       "      <td>OUI</td>\n",
       "      <td>OUI</td>\n",
       "      <td>48.8792</td>\n",
       "      <td>2.3373</td>\n",
       "      <td>Paris 09</td>\n",
       "      <td>5</td>\n",
       "      <td>2022-05-01 01:00:00+02:00</td>\n",
       "      <td>0</td>\n",
       "    </tr>\n",
       "    <tr>\n",
       "      <td>4</td>\n",
       "      <td>Harpe - Saint-Germain</td>\n",
       "      <td>5001</td>\n",
       "      <td>2</td>\n",
       "      <td>34</td>\n",
       "      <td>2022-05-01 00:40:52+02:00</td>\n",
       "      <td>36</td>\n",
       "      <td>8</td>\n",
       "      <td>45</td>\n",
       "      <td>OUI</td>\n",
       "      <td>OUI</td>\n",
       "      <td>OUI</td>\n",
       "      <td>48.8515</td>\n",
       "      <td>2.3436</td>\n",
       "      <td>Paris 05</td>\n",
       "      <td>5</td>\n",
       "      <td>2022-05-01 01:00:00+02:00</td>\n",
       "      <td>1</td>\n",
       "    </tr>\n",
       "    <tr>\n",
       "      <td>...</td>\n",
       "      <td>...</td>\n",
       "      <td>...</td>\n",
       "      <td>...</td>\n",
       "      <td>...</td>\n",
       "      <td>...</td>\n",
       "      <td>...</td>\n",
       "      <td>...</td>\n",
       "      <td>...</td>\n",
       "      <td>...</td>\n",
       "      <td>...</td>\n",
       "      <td>...</td>\n",
       "      <td>...</td>\n",
       "      <td>...</td>\n",
       "      <td>...</td>\n",
       "      <td>...</td>\n",
       "      <td>...</td>\n",
       "      <td>...</td>\n",
       "    </tr>\n",
       "    <tr>\n",
       "      <td>12675093</td>\n",
       "      <td>Boissière - Etienne Dolet</td>\n",
       "      <td>31102</td>\n",
       "      <td>14</td>\n",
       "      <td>1</td>\n",
       "      <td>2022-08-31 16:06:00+02:00</td>\n",
       "      <td>15</td>\n",
       "      <td>2</td>\n",
       "      <td>21</td>\n",
       "      <td>OUI</td>\n",
       "      <td>OUI</td>\n",
       "      <td>OUI</td>\n",
       "      <td>48.8761</td>\n",
       "      <td>2.4677</td>\n",
       "      <td>Montreuil</td>\n",
       "      <td>8</td>\n",
       "      <td>2022-08-31 16:00:00+02:00</td>\n",
       "      <td>4</td>\n",
       "    </tr>\n",
       "    <tr>\n",
       "      <td>12675094</td>\n",
       "      <td>Boissière - Etienne Dolet</td>\n",
       "      <td>31102</td>\n",
       "      <td>14</td>\n",
       "      <td>1</td>\n",
       "      <td>2022-08-31 16:06:00+02:00</td>\n",
       "      <td>15</td>\n",
       "      <td>0</td>\n",
       "      <td>21</td>\n",
       "      <td>OUI</td>\n",
       "      <td>OUI</td>\n",
       "      <td>OUI</td>\n",
       "      <td>48.8761</td>\n",
       "      <td>2.4677</td>\n",
       "      <td>Montreuil</td>\n",
       "      <td>8</td>\n",
       "      <td>2022-08-31 16:00:00+02:00</td>\n",
       "      <td>6</td>\n",
       "    </tr>\n",
       "    <tr>\n",
       "      <td>12675095</td>\n",
       "      <td>Boissière - Etienne Dolet</td>\n",
       "      <td>31102</td>\n",
       "      <td>13</td>\n",
       "      <td>1</td>\n",
       "      <td>2022-08-31 16:06:00+02:00</td>\n",
       "      <td>14</td>\n",
       "      <td>1</td>\n",
       "      <td>21</td>\n",
       "      <td>OUI</td>\n",
       "      <td>OUI</td>\n",
       "      <td>OUI</td>\n",
       "      <td>48.8761</td>\n",
       "      <td>2.4677</td>\n",
       "      <td>Montreuil</td>\n",
       "      <td>8</td>\n",
       "      <td>2022-08-31 16:00:00+02:00</td>\n",
       "      <td>6</td>\n",
       "    </tr>\n",
       "    <tr>\n",
       "      <td>12675096</td>\n",
       "      <td>Boissière - Etienne Dolet</td>\n",
       "      <td>31102</td>\n",
       "      <td>13</td>\n",
       "      <td>1</td>\n",
       "      <td>2022-08-31 16:06:00+02:00</td>\n",
       "      <td>14</td>\n",
       "      <td>2</td>\n",
       "      <td>21</td>\n",
       "      <td>OUI</td>\n",
       "      <td>OUI</td>\n",
       "      <td>OUI</td>\n",
       "      <td>48.8761</td>\n",
       "      <td>2.4677</td>\n",
       "      <td>Montreuil</td>\n",
       "      <td>8</td>\n",
       "      <td>2022-08-31 16:00:00+02:00</td>\n",
       "      <td>5</td>\n",
       "    </tr>\n",
       "    <tr>\n",
       "      <td>12675097</td>\n",
       "      <td>Boissière - Etienne Dolet</td>\n",
       "      <td>31102</td>\n",
       "      <td>12</td>\n",
       "      <td>1</td>\n",
       "      <td>2022-08-31 16:06:00+02:00</td>\n",
       "      <td>13</td>\n",
       "      <td>3</td>\n",
       "      <td>21</td>\n",
       "      <td>OUI</td>\n",
       "      <td>OUI</td>\n",
       "      <td>OUI</td>\n",
       "      <td>48.8761</td>\n",
       "      <td>2.4677</td>\n",
       "      <td>Montreuil</td>\n",
       "      <td>8</td>\n",
       "      <td>2022-08-31 16:00:00+02:00</td>\n",
       "      <td>5</td>\n",
       "    </tr>\n",
       "  </tbody>\n",
       "</table>\n",
       "<p>12675098 rows × 17 columns</p>\n",
       "</div>"
      ],
      "text/plain": [
       "                                         name stationcode  ebike  mechanical  \\\n",
       "0               Benjamin Godard - Victor Hugo       16107      2           1   \n",
       "1         Charonne - Robert et Sonia Delauney       11104      9           4   \n",
       "2                             Mairie du 12ème       12109      0           0   \n",
       "3                          Toudouze - Clauzel        9020      1           1   \n",
       "4                       Harpe - Saint-Germain        5001      2          34   \n",
       "...                                       ...         ...    ...         ...   \n",
       "12675093            Boissière - Etienne Dolet       31102     14           1   \n",
       "12675094            Boissière - Etienne Dolet       31102     14           1   \n",
       "12675095            Boissière - Etienne Dolet       31102     13           1   \n",
       "12675096            Boissière - Etienne Dolet       31102     13           1   \n",
       "12675097            Boissière - Etienne Dolet       31102     12           1   \n",
       "\n",
       "                           duedate  numbikesavailable  numdocksavailable  \\\n",
       "0        2022-05-01 00:33:45+02:00                  3                 31   \n",
       "1        2022-05-01 00:39:22+02:00                 13                  5   \n",
       "2        2022-05-01 00:40:15+02:00                  0                 30   \n",
       "3        2022-05-01 00:38:42+02:00                  2                 19   \n",
       "4        2022-05-01 00:40:52+02:00                 36                  8   \n",
       "...                            ...                ...                ...   \n",
       "12675093 2022-08-31 16:06:00+02:00                 15                  2   \n",
       "12675094 2022-08-31 16:06:00+02:00                 15                  0   \n",
       "12675095 2022-08-31 16:06:00+02:00                 14                  1   \n",
       "12675096 2022-08-31 16:06:00+02:00                 14                  2   \n",
       "12675097 2022-08-31 16:06:00+02:00                 13                  3   \n",
       "\n",
       "          capacity is_renting is_installed is_returning  Latitude  Longitude  \\\n",
       "0               35        OUI          OUI          OUI   48.8659     2.2757   \n",
       "1               20        OUI          OUI          OUI   48.8559     2.3925   \n",
       "2               30        NON          OUI          NON   48.8408     2.3875   \n",
       "3               21        OUI          OUI          OUI   48.8792     2.3373   \n",
       "4               45        OUI          OUI          OUI   48.8515     2.3436   \n",
       "...            ...        ...          ...          ...       ...        ...   \n",
       "12675093        21        OUI          OUI          OUI   48.8761     2.4677   \n",
       "12675094        21        OUI          OUI          OUI   48.8761     2.4677   \n",
       "12675095        21        OUI          OUI          OUI   48.8761     2.4677   \n",
       "12675096        21        OUI          OUI          OUI   48.8761     2.4677   \n",
       "12675097        21        OUI          OUI          OUI   48.8761     2.4677   \n",
       "\n",
       "            commune  month                  interval  numbikesordocksbroken  \n",
       "0          Paris 16      5 2022-05-01 01:00:00+02:00                      1  \n",
       "1          Paris 11      5 2022-05-01 01:00:00+02:00                      2  \n",
       "2          Paris 12      5 2022-05-01 01:00:00+02:00                      0  \n",
       "3          Paris 09      5 2022-05-01 01:00:00+02:00                      0  \n",
       "4          Paris 05      5 2022-05-01 01:00:00+02:00                      1  \n",
       "...             ...    ...                       ...                    ...  \n",
       "12675093  Montreuil      8 2022-08-31 16:00:00+02:00                      4  \n",
       "12675094  Montreuil      8 2022-08-31 16:00:00+02:00                      6  \n",
       "12675095  Montreuil      8 2022-08-31 16:00:00+02:00                      6  \n",
       "12675096  Montreuil      8 2022-08-31 16:00:00+02:00                      5  \n",
       "12675097  Montreuil      8 2022-08-31 16:00:00+02:00                      5  \n",
       "\n",
       "[12675098 rows x 17 columns]"
      ]
     },
     "execution_count": 23,
     "metadata": {},
     "output_type": "execute_result"
    }
   ],
   "source": [
    "df_summer_cleaned"
   ]
  },
  {
   "cell_type": "code",
   "execution_count": 24,
   "metadata": {},
   "outputs": [],
   "source": [
    "list_to_replace = [(\"é\",\"e\"), (\"è\",\"e\"), (\"ê\", \"e\"), (\"É\", \"E\"), (\"É\", \"E\"), (\"Ê\", \"E\"), (\"à\", \"a\"), (\"â\", \"a\"), (\"Â\", \"A\"), (\"ï\", \"i\"), (\"î\", \"i\"), (\"Ï\", \"I\"), (\"Î\", \"I\"), (\"û\", \"u\"), (\"ô\", \"o\"), (\"ç\", \"c\")]\n",
    "for tupl in list_to_replace:\n",
    "    df_summer_cleaned[\"name\"] = df_summer_cleaned[\"name\"].str.replace(tupl[0], tupl[1])"
   ]
  },
  {
   "cell_type": "code",
   "execution_count": 35,
   "metadata": {},
   "outputs": [],
   "source": [
    "list_to_replace2 = [(\"é\",\"e\"), (\"è\",\"e\"), (\"ê\", \"e\"), (\"â\", \"a\")]\n",
    "for tupl in list_to_replace2:\n",
    "    df_summer_cleaned[\"commune\"] = df_summer_cleaned[\"commune\"].str.replace(tupl[0], tupl[1])"
   ]
  },
  {
   "cell_type": "code",
   "execution_count": 40,
   "metadata": {},
   "outputs": [
    {
     "data": {
      "text/plain": [
       "name                           interval                 \n",
       "11 Novembre 1918 - 8 Mai 1945  2022-05-01 01:00:00+02:00         120\n",
       "                               2022-05-01 02:00:00+02:00        4280\n",
       "                               2022-05-01 03:00:00+02:00        8441\n",
       "                               2022-05-01 04:00:00+02:00       12059\n",
       "                               2022-05-01 05:00:00+02:00       15470\n",
       "                                                              ...   \n",
       "Youri Gagarine - Karl Marx     2022-08-31 19:00:00+02:00    12648178\n",
       "                               2022-08-31 20:00:00+02:00    12654384\n",
       "                               2022-08-31 21:00:00+02:00    12660101\n",
       "                               2022-08-31 22:00:00+02:00    12665234\n",
       "                               2022-08-31 23:00:00+02:00    12670192\n",
       "Name: duedate, Length: 4054336, dtype: int64"
      ]
     },
     "execution_count": 40,
     "metadata": {},
     "output_type": "execute_result"
    }
   ],
   "source": [
    "grp = df_summer_cleaned.groupby(['name', 'interval'])['duedate'].idxmax()\n",
    "grp"
   ]
  },
  {
   "cell_type": "code",
   "execution_count": 41,
   "metadata": {
    "scrolled": true
   },
   "outputs": [
    {
     "data": {
      "text/html": [
       "<div>\n",
       "<style scoped>\n",
       "    .dataframe tbody tr th:only-of-type {\n",
       "        vertical-align: middle;\n",
       "    }\n",
       "\n",
       "    .dataframe tbody tr th {\n",
       "        vertical-align: top;\n",
       "    }\n",
       "\n",
       "    .dataframe thead th {\n",
       "        text-align: right;\n",
       "    }\n",
       "</style>\n",
       "<table border=\"1\" class=\"dataframe\">\n",
       "  <thead>\n",
       "    <tr style=\"text-align: right;\">\n",
       "      <th></th>\n",
       "      <th>name</th>\n",
       "      <th>stationcode</th>\n",
       "      <th>ebike</th>\n",
       "      <th>mechanical</th>\n",
       "      <th>duedate</th>\n",
       "      <th>numbikesavailable</th>\n",
       "      <th>numdocksavailable</th>\n",
       "      <th>capacity</th>\n",
       "      <th>is_renting</th>\n",
       "      <th>is_installed</th>\n",
       "      <th>is_returning</th>\n",
       "      <th>Latitude</th>\n",
       "      <th>Longitude</th>\n",
       "      <th>commune</th>\n",
       "      <th>month</th>\n",
       "      <th>interval</th>\n",
       "      <th>numbikesordocksbroken</th>\n",
       "    </tr>\n",
       "  </thead>\n",
       "  <tbody>\n",
       "    <tr>\n",
       "      <td>120</td>\n",
       "      <td>11 Novembre 1918 - 8 Mai 1945</td>\n",
       "      <td>45003</td>\n",
       "      <td>6</td>\n",
       "      <td>3</td>\n",
       "      <td>2022-05-01 00:40:43+02:00</td>\n",
       "      <td>9</td>\n",
       "      <td>27</td>\n",
       "      <td>36</td>\n",
       "      <td>OUI</td>\n",
       "      <td>OUI</td>\n",
       "      <td>OUI</td>\n",
       "      <td>48.8088</td>\n",
       "      <td>2.5382</td>\n",
       "      <td>Champigny-sur-Marne</td>\n",
       "      <td>5</td>\n",
       "      <td>2022-05-01 01:00:00+02:00</td>\n",
       "      <td>0</td>\n",
       "    </tr>\n",
       "    <tr>\n",
       "      <td>4280</td>\n",
       "      <td>11 Novembre 1918 - 8 Mai 1945</td>\n",
       "      <td>45003</td>\n",
       "      <td>6</td>\n",
       "      <td>3</td>\n",
       "      <td>2022-05-01 01:37:31+02:00</td>\n",
       "      <td>9</td>\n",
       "      <td>27</td>\n",
       "      <td>36</td>\n",
       "      <td>OUI</td>\n",
       "      <td>OUI</td>\n",
       "      <td>OUI</td>\n",
       "      <td>48.8088</td>\n",
       "      <td>2.5382</td>\n",
       "      <td>Champigny-sur-Marne</td>\n",
       "      <td>5</td>\n",
       "      <td>2022-05-01 02:00:00+02:00</td>\n",
       "      <td>0</td>\n",
       "    </tr>\n",
       "    <tr>\n",
       "      <td>8441</td>\n",
       "      <td>11 Novembre 1918 - 8 Mai 1945</td>\n",
       "      <td>45003</td>\n",
       "      <td>6</td>\n",
       "      <td>3</td>\n",
       "      <td>2022-05-01 02:37:39+02:00</td>\n",
       "      <td>9</td>\n",
       "      <td>27</td>\n",
       "      <td>36</td>\n",
       "      <td>OUI</td>\n",
       "      <td>OUI</td>\n",
       "      <td>OUI</td>\n",
       "      <td>48.8088</td>\n",
       "      <td>2.5382</td>\n",
       "      <td>Champigny-sur-Marne</td>\n",
       "      <td>5</td>\n",
       "      <td>2022-05-01 03:00:00+02:00</td>\n",
       "      <td>0</td>\n",
       "    </tr>\n",
       "    <tr>\n",
       "      <td>12059</td>\n",
       "      <td>11 Novembre 1918 - 8 Mai 1945</td>\n",
       "      <td>45003</td>\n",
       "      <td>6</td>\n",
       "      <td>3</td>\n",
       "      <td>2022-05-01 03:37:48+02:00</td>\n",
       "      <td>9</td>\n",
       "      <td>27</td>\n",
       "      <td>36</td>\n",
       "      <td>OUI</td>\n",
       "      <td>OUI</td>\n",
       "      <td>OUI</td>\n",
       "      <td>48.8088</td>\n",
       "      <td>2.5382</td>\n",
       "      <td>Champigny-sur-Marne</td>\n",
       "      <td>5</td>\n",
       "      <td>2022-05-01 04:00:00+02:00</td>\n",
       "      <td>0</td>\n",
       "    </tr>\n",
       "    <tr>\n",
       "      <td>15470</td>\n",
       "      <td>11 Novembre 1918 - 8 Mai 1945</td>\n",
       "      <td>45003</td>\n",
       "      <td>6</td>\n",
       "      <td>3</td>\n",
       "      <td>2022-05-01 04:39:55+02:00</td>\n",
       "      <td>9</td>\n",
       "      <td>27</td>\n",
       "      <td>36</td>\n",
       "      <td>OUI</td>\n",
       "      <td>OUI</td>\n",
       "      <td>OUI</td>\n",
       "      <td>48.8088</td>\n",
       "      <td>2.5382</td>\n",
       "      <td>Champigny-sur-Marne</td>\n",
       "      <td>5</td>\n",
       "      <td>2022-05-01 05:00:00+02:00</td>\n",
       "      <td>0</td>\n",
       "    </tr>\n",
       "    <tr>\n",
       "      <td>...</td>\n",
       "      <td>...</td>\n",
       "      <td>...</td>\n",
       "      <td>...</td>\n",
       "      <td>...</td>\n",
       "      <td>...</td>\n",
       "      <td>...</td>\n",
       "      <td>...</td>\n",
       "      <td>...</td>\n",
       "      <td>...</td>\n",
       "      <td>...</td>\n",
       "      <td>...</td>\n",
       "      <td>...</td>\n",
       "      <td>...</td>\n",
       "      <td>...</td>\n",
       "      <td>...</td>\n",
       "      <td>...</td>\n",
       "      <td>...</td>\n",
       "    </tr>\n",
       "    <tr>\n",
       "      <td>12648178</td>\n",
       "      <td>Youri Gagarine - Karl Marx</td>\n",
       "      <td>48003</td>\n",
       "      <td>3</td>\n",
       "      <td>2</td>\n",
       "      <td>2022-08-31 19:06:05+02:00</td>\n",
       "      <td>5</td>\n",
       "      <td>17</td>\n",
       "      <td>22</td>\n",
       "      <td>OUI</td>\n",
       "      <td>OUI</td>\n",
       "      <td>OUI</td>\n",
       "      <td>48.7844</td>\n",
       "      <td>2.3590</td>\n",
       "      <td>Villejuif</td>\n",
       "      <td>8</td>\n",
       "      <td>2022-08-31 19:00:00+02:00</td>\n",
       "      <td>0</td>\n",
       "    </tr>\n",
       "    <tr>\n",
       "      <td>12654384</td>\n",
       "      <td>Youri Gagarine - Karl Marx</td>\n",
       "      <td>48003</td>\n",
       "      <td>1</td>\n",
       "      <td>2</td>\n",
       "      <td>2022-08-31 19:58:14+02:00</td>\n",
       "      <td>3</td>\n",
       "      <td>19</td>\n",
       "      <td>22</td>\n",
       "      <td>OUI</td>\n",
       "      <td>OUI</td>\n",
       "      <td>OUI</td>\n",
       "      <td>48.7844</td>\n",
       "      <td>2.3590</td>\n",
       "      <td>Villejuif</td>\n",
       "      <td>8</td>\n",
       "      <td>2022-08-31 20:00:00+02:00</td>\n",
       "      <td>0</td>\n",
       "    </tr>\n",
       "    <tr>\n",
       "      <td>12660101</td>\n",
       "      <td>Youri Gagarine - Karl Marx</td>\n",
       "      <td>48003</td>\n",
       "      <td>1</td>\n",
       "      <td>2</td>\n",
       "      <td>2022-08-31 21:06:53+02:00</td>\n",
       "      <td>3</td>\n",
       "      <td>19</td>\n",
       "      <td>22</td>\n",
       "      <td>OUI</td>\n",
       "      <td>OUI</td>\n",
       "      <td>OUI</td>\n",
       "      <td>48.7844</td>\n",
       "      <td>2.3590</td>\n",
       "      <td>Villejuif</td>\n",
       "      <td>8</td>\n",
       "      <td>2022-08-31 21:00:00+02:00</td>\n",
       "      <td>0</td>\n",
       "    </tr>\n",
       "    <tr>\n",
       "      <td>12665234</td>\n",
       "      <td>Youri Gagarine - Karl Marx</td>\n",
       "      <td>48003</td>\n",
       "      <td>2</td>\n",
       "      <td>2</td>\n",
       "      <td>2022-08-31 22:06:58+02:00</td>\n",
       "      <td>4</td>\n",
       "      <td>18</td>\n",
       "      <td>22</td>\n",
       "      <td>OUI</td>\n",
       "      <td>OUI</td>\n",
       "      <td>OUI</td>\n",
       "      <td>48.7844</td>\n",
       "      <td>2.3590</td>\n",
       "      <td>Villejuif</td>\n",
       "      <td>8</td>\n",
       "      <td>2022-08-31 22:00:00+02:00</td>\n",
       "      <td>0</td>\n",
       "    </tr>\n",
       "    <tr>\n",
       "      <td>12670192</td>\n",
       "      <td>Youri Gagarine - Karl Marx</td>\n",
       "      <td>48003</td>\n",
       "      <td>3</td>\n",
       "      <td>3</td>\n",
       "      <td>2022-08-31 23:07:05+02:00</td>\n",
       "      <td>6</td>\n",
       "      <td>16</td>\n",
       "      <td>22</td>\n",
       "      <td>OUI</td>\n",
       "      <td>OUI</td>\n",
       "      <td>OUI</td>\n",
       "      <td>48.7844</td>\n",
       "      <td>2.3590</td>\n",
       "      <td>Villejuif</td>\n",
       "      <td>8</td>\n",
       "      <td>2022-08-31 23:00:00+02:00</td>\n",
       "      <td>0</td>\n",
       "    </tr>\n",
       "  </tbody>\n",
       "</table>\n",
       "<p>4054336 rows × 17 columns</p>\n",
       "</div>"
      ],
      "text/plain": [
       "                                   name stationcode  ebike  mechanical  \\\n",
       "120       11 Novembre 1918 - 8 Mai 1945       45003      6           3   \n",
       "4280      11 Novembre 1918 - 8 Mai 1945       45003      6           3   \n",
       "8441      11 Novembre 1918 - 8 Mai 1945       45003      6           3   \n",
       "12059     11 Novembre 1918 - 8 Mai 1945       45003      6           3   \n",
       "15470     11 Novembre 1918 - 8 Mai 1945       45003      6           3   \n",
       "...                                 ...         ...    ...         ...   \n",
       "12648178     Youri Gagarine - Karl Marx       48003      3           2   \n",
       "12654384     Youri Gagarine - Karl Marx       48003      1           2   \n",
       "12660101     Youri Gagarine - Karl Marx       48003      1           2   \n",
       "12665234     Youri Gagarine - Karl Marx       48003      2           2   \n",
       "12670192     Youri Gagarine - Karl Marx       48003      3           3   \n",
       "\n",
       "                           duedate  numbikesavailable  numdocksavailable  \\\n",
       "120      2022-05-01 00:40:43+02:00                  9                 27   \n",
       "4280     2022-05-01 01:37:31+02:00                  9                 27   \n",
       "8441     2022-05-01 02:37:39+02:00                  9                 27   \n",
       "12059    2022-05-01 03:37:48+02:00                  9                 27   \n",
       "15470    2022-05-01 04:39:55+02:00                  9                 27   \n",
       "...                            ...                ...                ...   \n",
       "12648178 2022-08-31 19:06:05+02:00                  5                 17   \n",
       "12654384 2022-08-31 19:58:14+02:00                  3                 19   \n",
       "12660101 2022-08-31 21:06:53+02:00                  3                 19   \n",
       "12665234 2022-08-31 22:06:58+02:00                  4                 18   \n",
       "12670192 2022-08-31 23:07:05+02:00                  6                 16   \n",
       "\n",
       "          capacity is_renting is_installed is_returning  Latitude  Longitude  \\\n",
       "120             36        OUI          OUI          OUI   48.8088     2.5382   \n",
       "4280            36        OUI          OUI          OUI   48.8088     2.5382   \n",
       "8441            36        OUI          OUI          OUI   48.8088     2.5382   \n",
       "12059           36        OUI          OUI          OUI   48.8088     2.5382   \n",
       "15470           36        OUI          OUI          OUI   48.8088     2.5382   \n",
       "...            ...        ...          ...          ...       ...        ...   \n",
       "12648178        22        OUI          OUI          OUI   48.7844     2.3590   \n",
       "12654384        22        OUI          OUI          OUI   48.7844     2.3590   \n",
       "12660101        22        OUI          OUI          OUI   48.7844     2.3590   \n",
       "12665234        22        OUI          OUI          OUI   48.7844     2.3590   \n",
       "12670192        22        OUI          OUI          OUI   48.7844     2.3590   \n",
       "\n",
       "                      commune  month                  interval  \\\n",
       "120       Champigny-sur-Marne      5 2022-05-01 01:00:00+02:00   \n",
       "4280      Champigny-sur-Marne      5 2022-05-01 02:00:00+02:00   \n",
       "8441      Champigny-sur-Marne      5 2022-05-01 03:00:00+02:00   \n",
       "12059     Champigny-sur-Marne      5 2022-05-01 04:00:00+02:00   \n",
       "15470     Champigny-sur-Marne      5 2022-05-01 05:00:00+02:00   \n",
       "...                       ...    ...                       ...   \n",
       "12648178            Villejuif      8 2022-08-31 19:00:00+02:00   \n",
       "12654384            Villejuif      8 2022-08-31 20:00:00+02:00   \n",
       "12660101            Villejuif      8 2022-08-31 21:00:00+02:00   \n",
       "12665234            Villejuif      8 2022-08-31 22:00:00+02:00   \n",
       "12670192            Villejuif      8 2022-08-31 23:00:00+02:00   \n",
       "\n",
       "          numbikesordocksbroken  \n",
       "120                           0  \n",
       "4280                          0  \n",
       "8441                          0  \n",
       "12059                         0  \n",
       "15470                         0  \n",
       "...                         ...  \n",
       "12648178                      0  \n",
       "12654384                      0  \n",
       "12660101                      0  \n",
       "12665234                      0  \n",
       "12670192                      0  \n",
       "\n",
       "[4054336 rows x 17 columns]"
      ]
     },
     "execution_count": 41,
     "metadata": {},
     "output_type": "execute_result"
    }
   ],
   "source": [
    "new_df_summer_cleaned = df_summer_cleaned.loc[grp]\n",
    "new_df_summer_cleaned"
   ]
  },
  {
   "cell_type": "code",
   "execution_count": 42,
   "metadata": {},
   "outputs": [
    {
     "data": {
      "text/plain": [
       "1432"
      ]
     },
     "execution_count": 42,
     "metadata": {},
     "output_type": "execute_result"
    }
   ],
   "source": [
    "new_df_summer_cleaned[\"stationcode\"].nunique()"
   ]
  },
  {
   "cell_type": "code",
   "execution_count": 43,
   "metadata": {},
   "outputs": [
    {
     "data": {
      "text/plain": [
       "1434"
      ]
     },
     "execution_count": 43,
     "metadata": {},
     "output_type": "execute_result"
    }
   ],
   "source": [
    "new_df_summer_cleaned[\"name\"].nunique()"
   ]
  },
  {
   "cell_type": "code",
   "execution_count": 44,
   "metadata": {},
   "outputs": [
    {
     "data": {
      "text/plain": [
       "stationcode\n",
       "16200    3\n",
       "48010    2\n",
       "31024    2\n",
       "92008    1\n",
       "16138    1\n",
       "        ..\n",
       "27006    1\n",
       "28001    1\n",
       "28005    1\n",
       "30005    1\n",
       "10001    1\n",
       "Name: name, Length: 1432, dtype: int64"
      ]
     },
     "execution_count": 44,
     "metadata": {},
     "output_type": "execute_result"
    }
   ],
   "source": [
    "new_df_summer_cleaned.groupby(\"stationcode\")[\"name\"].nunique().sort_values(ascending = False)"
   ]
  },
  {
   "cell_type": "code",
   "execution_count": 45,
   "metadata": {},
   "outputs": [
    {
     "data": {
      "text/plain": [
       "array(['Solidays - 24 au 26 juin - 14h00 a 5h00',\n",
       "       'Solidays - 24 au 26 juin - 16h00 a 5h00',\n",
       "       'Station Ephemere Solidays - du 24 au 26 juin'], dtype=object)"
      ]
     },
     "execution_count": 45,
     "metadata": {},
     "output_type": "execute_result"
    }
   ],
   "source": [
    "new_df_summer_cleaned.loc[new_df_summer_cleaned[\"stationcode\"] == '16200', \"name\"].unique()"
   ]
  },
  {
   "cell_type": "code",
   "execution_count": 46,
   "metadata": {},
   "outputs": [],
   "source": [
    "new_df_summer_cleaned.loc[new_df_summer_cleaned[\"stationcode\"] == '16200', \"name\"] = 'Solidays - 24 au 26 juin - 16h00 à 5h00'"
   ]
  },
  {
   "cell_type": "code",
   "execution_count": 47,
   "metadata": {},
   "outputs": [
    {
     "data": {
      "text/plain": [
       "array(['Romainville - Vaillant-Couturier',\n",
       "       'Romainville - Vaillant-couturier'], dtype=object)"
      ]
     },
     "execution_count": 47,
     "metadata": {},
     "output_type": "execute_result"
    }
   ],
   "source": [
    "new_df_summer_cleaned.loc[new_df_summer_cleaned[\"stationcode\"] == '31024', \"name\"].unique()"
   ]
  },
  {
   "cell_type": "code",
   "execution_count": 48,
   "metadata": {},
   "outputs": [],
   "source": [
    "new_df_summer_cleaned.loc[new_df_summer_cleaned[\"stationcode\"] == '31024', \"name\"] = 'Romainville - Vaillant-Couturier'"
   ]
  },
  {
   "cell_type": "code",
   "execution_count": 49,
   "metadata": {},
   "outputs": [
    {
     "data": {
      "text/plain": [
       "array(['Karl Marx', 'Karl Marx.'], dtype=object)"
      ]
     },
     "execution_count": 49,
     "metadata": {},
     "output_type": "execute_result"
    }
   ],
   "source": [
    "new_df_summer_cleaned.loc[new_df_summer_cleaned[\"stationcode\"] == '48010', \"name\"].unique()"
   ]
  },
  {
   "cell_type": "code",
   "execution_count": 50,
   "metadata": {},
   "outputs": [],
   "source": [
    "new_df_summer_cleaned.loc[new_df_summer_cleaned[\"stationcode\"] == '48010', \"name\"] = 'Karl Marx'"
   ]
  },
  {
   "cell_type": "code",
   "execution_count": 51,
   "metadata": {
    "scrolled": true
   },
   "outputs": [
    {
     "data": {
      "text/plain": [
       "stationcode\n",
       "92008    1\n",
       "17012    1\n",
       "16121    1\n",
       "16122    1\n",
       "16123    1\n",
       "        ..\n",
       "28001    1\n",
       "28005    1\n",
       "30005    1\n",
       "30007    1\n",
       "10001    1\n",
       "Name: name, Length: 1432, dtype: int64"
      ]
     },
     "execution_count": 51,
     "metadata": {},
     "output_type": "execute_result"
    }
   ],
   "source": [
    "new_df_summer_cleaned.groupby(\"stationcode\")[\"name\"].nunique().sort_values(ascending = False)"
   ]
  },
  {
   "cell_type": "code",
   "execution_count": 52,
   "metadata": {},
   "outputs": [
    {
     "data": {
      "text/plain": [
       "1432"
      ]
     },
     "execution_count": 52,
     "metadata": {},
     "output_type": "execute_result"
    }
   ],
   "source": [
    "new_df_summer_cleaned[\"stationcode\"].nunique()"
   ]
  },
  {
   "cell_type": "code",
   "execution_count": 53,
   "metadata": {},
   "outputs": [
    {
     "data": {
      "text/plain": [
       "1430"
      ]
     },
     "execution_count": 53,
     "metadata": {},
     "output_type": "execute_result"
    }
   ],
   "source": [
    "new_df_summer_cleaned[\"name\"].nunique()"
   ]
  },
  {
   "cell_type": "code",
   "execution_count": 54,
   "metadata": {},
   "outputs": [
    {
     "data": {
      "text/plain": [
       "name\n",
       "Chateau - Republique                    2\n",
       "Place Nelson Mandela                    2\n",
       "Gare de Clamart                         1\n",
       "Gare de Courbevoie                      1\n",
       "Gare de Laplace                         1\n",
       "                                       ..\n",
       "Pierre Grenier - Pont de Billancourt    1\n",
       "Pierre Joseph Desault                   1\n",
       "Pierre Larousse - Raymond Losserand     1\n",
       "Pierre Lefaucheux - Traversiere         1\n",
       "11 Novembre 1918 - 8 Mai 1945           1\n",
       "Name: stationcode, Length: 1430, dtype: int64"
      ]
     },
     "execution_count": 54,
     "metadata": {},
     "output_type": "execute_result"
    }
   ],
   "source": [
    "new_df_summer_cleaned.groupby(\"name\")[\"stationcode\"].nunique().sort_values(ascending = False)"
   ]
  },
  {
   "cell_type": "code",
   "execution_count": 66,
   "metadata": {},
   "outputs": [
    {
     "data": {
      "text/plain": [
       "1422        Rueil-Malmaison\n",
       "5116               Nanterre\n",
       "9203               Nanterre\n",
       "12873              Nanterre\n",
       "15381       Rueil-Malmaison\n",
       "                 ...       \n",
       "12654345    Rueil-Malmaison\n",
       "12660056    Rueil-Malmaison\n",
       "12665177    Rueil-Malmaison\n",
       "12670141    Rueil-Malmaison\n",
       "12674935           Nanterre\n",
       "Name: commune, Length: 2902, dtype: object"
      ]
     },
     "execution_count": 66,
     "metadata": {},
     "output_type": "execute_result"
    }
   ],
   "source": [
    "new_df_summer_cleaned.loc[new_df_summer_cleaned[\"name\"] == 'Place Nelson Mandela', \"commune\"]"
   ]
  },
  {
   "cell_type": "code",
   "execution_count": 60,
   "metadata": {},
   "outputs": [
    {
     "data": {
      "text/plain": [
       "array(['25006', '92006'], dtype=object)"
      ]
     },
     "execution_count": 60,
     "metadata": {},
     "output_type": "execute_result"
    }
   ],
   "source": [
    "new_df_summer_cleaned.loc[new_df_summer_cleaned[\"name\"] == \"Place Nelson Mandela\", \"stationcode\"].unique()"
   ]
  },
  {
   "cell_type": "code",
   "execution_count": 67,
   "metadata": {},
   "outputs": [],
   "source": [
    "new_df_summer_cleaned.loc[(new_df_summer_cleaned[\"name\"] == \"Place Nelson Mandela\") & (new_df_summer_cleaned[\"stationcode\"] == '92006'), \"name\"] = \"Place Nelson Mandela Nanterre\""
   ]
  },
  {
   "cell_type": "code",
   "execution_count": 68,
   "metadata": {},
   "outputs": [
    {
     "data": {
      "text/plain": [
       "array(['25006'], dtype=object)"
      ]
     },
     "execution_count": 68,
     "metadata": {},
     "output_type": "execute_result"
    }
   ],
   "source": [
    "new_df_summer_cleaned.loc[new_df_summer_cleaned[\"name\"] == \"Place Nelson Mandela\", \"stationcode\"].unique()"
   ]
  },
  {
   "cell_type": "code",
   "execution_count": 69,
   "metadata": {},
   "outputs": [
    {
     "data": {
      "text/plain": [
       "array(['31706', '22504'], dtype=object)"
      ]
     },
     "execution_count": 69,
     "metadata": {},
     "output_type": "execute_result"
    }
   ],
   "source": [
    "new_df_summer_cleaned.loc[new_df_summer_cleaned[\"name\"] == \"Chateau - Republique\", \"stationcode\"].unique()"
   ]
  },
  {
   "cell_type": "code",
   "execution_count": 74,
   "metadata": {},
   "outputs": [],
   "source": [
    "new_df_summer_cleaned.loc[(new_df_summer_cleaned[\"name\"] == \"Chateau - Republique\") & (new_df_summer_cleaned[\"stationcode\"] == '31706'), \"name\"] = \"Chateau - Republique Bagnolet\""
   ]
  },
  {
   "cell_type": "code",
   "execution_count": 75,
   "metadata": {},
   "outputs": [
    {
     "data": {
      "text/plain": [
       "array(['22504'], dtype=object)"
      ]
     },
     "execution_count": 75,
     "metadata": {},
     "output_type": "execute_result"
    }
   ],
   "source": [
    "new_df_summer_cleaned.loc[new_df_summer_cleaned[\"name\"] == \"Chateau - Republique\", \"stationcode\"].unique()"
   ]
  },
  {
   "cell_type": "code",
   "execution_count": 78,
   "metadata": {},
   "outputs": [
    {
     "data": {
      "text/plain": [
       "name\n",
       "Youri Gagarine - Karl Marx             1\n",
       "Gare du Nord - Denain                  1\n",
       "Gare de Clichy-Levallois               1\n",
       "Gare de Courbevoie                     1\n",
       "Gare de Laplace                        1\n",
       "                                      ..\n",
       "Pierre Joseph Desault                  1\n",
       "Pierre Larousse - Raymond Losserand    1\n",
       "Pierre Lefaucheux - Traversiere        1\n",
       "Pierre Levee - Fontaine Timbaud        1\n",
       "11 Novembre 1918 - 8 Mai 1945          1\n",
       "Name: stationcode, Length: 1432, dtype: int64"
      ]
     },
     "execution_count": 78,
     "metadata": {},
     "output_type": "execute_result"
    }
   ],
   "source": [
    "new_df_summer_cleaned.groupby(\"name\")[\"stationcode\"].nunique().sort_values(ascending = False)"
   ]
  },
  {
   "cell_type": "code",
   "execution_count": 79,
   "metadata": {},
   "outputs": [
    {
     "data": {
      "text/plain": [
       "1432"
      ]
     },
     "execution_count": 79,
     "metadata": {},
     "output_type": "execute_result"
    }
   ],
   "source": [
    "new_df_summer_cleaned[\"name\"].nunique()"
   ]
  },
  {
   "cell_type": "code",
   "execution_count": 80,
   "metadata": {},
   "outputs": [
    {
     "name": "stdout",
     "output_type": "stream",
     "text": [
      "Il y a 1432 stations Vélib au total\n"
     ]
    }
   ],
   "source": [
    "print(f'Il y a {new_df_summer_cleaned[\"stationcode\"].nunique()} stations Vélib au total')"
   ]
  },
  {
   "cell_type": "code",
   "execution_count": null,
   "metadata": {},
   "outputs": [],
   "source": []
  },
  {
   "cell_type": "code",
   "execution_count": 81,
   "metadata": {},
   "outputs": [
    {
     "data": {
      "text/plain": [
       "array(['Bracion - Peripherique', 'Convention - Campus de Bobigny',\n",
       "       'Gare RER - General de Gaulle',\n",
       "       'President Roosevelt - Rouget de Lisle',\n",
       "       'Resistance - Romain Rolland', 'Romainville - Vaillant-Couturier',\n",
       "       'Saint-Germain-des-Pres', 'Stalingrad - General de Gaulle'],\n",
       "      dtype=object)"
      ]
     },
     "execution_count": 81,
     "metadata": {},
     "output_type": "execute_result"
    }
   ],
   "source": [
    "new_df_summer_cleaned.loc[new_df_summer_cleaned[\"capacity\"] == 0, \"name\"].unique()"
   ]
  },
  {
   "cell_type": "code",
   "execution_count": 82,
   "metadata": {
    "scrolled": true
   },
   "outputs": [
    {
     "data": {
      "text/html": [
       "<div>\n",
       "<style scoped>\n",
       "    .dataframe tbody tr th:only-of-type {\n",
       "        vertical-align: middle;\n",
       "    }\n",
       "\n",
       "    .dataframe tbody tr th {\n",
       "        vertical-align: top;\n",
       "    }\n",
       "\n",
       "    .dataframe thead th {\n",
       "        text-align: right;\n",
       "    }\n",
       "</style>\n",
       "<table border=\"1\" class=\"dataframe\">\n",
       "  <thead>\n",
       "    <tr style=\"text-align: right;\">\n",
       "      <th></th>\n",
       "      <th>name</th>\n",
       "      <th>stationcode</th>\n",
       "      <th>ebike</th>\n",
       "      <th>mechanical</th>\n",
       "      <th>duedate</th>\n",
       "      <th>numbikesavailable</th>\n",
       "      <th>numdocksavailable</th>\n",
       "      <th>capacity</th>\n",
       "      <th>is_renting</th>\n",
       "      <th>is_installed</th>\n",
       "      <th>is_returning</th>\n",
       "      <th>Latitude</th>\n",
       "      <th>Longitude</th>\n",
       "      <th>commune</th>\n",
       "      <th>month</th>\n",
       "      <th>interval</th>\n",
       "      <th>numbikesordocksbroken</th>\n",
       "    </tr>\n",
       "  </thead>\n",
       "  <tbody>\n",
       "    <tr>\n",
       "      <td>9120061</td>\n",
       "      <td>Saint-Germain-des-Pres</td>\n",
       "      <td>6024</td>\n",
       "      <td>0</td>\n",
       "      <td>0</td>\n",
       "      <td>2022-07-25 16:15:27+02:00</td>\n",
       "      <td>0</td>\n",
       "      <td>0</td>\n",
       "      <td>0</td>\n",
       "      <td>NON</td>\n",
       "      <td>OUI</td>\n",
       "      <td>NON</td>\n",
       "      <td>48.8541</td>\n",
       "      <td>2.3303</td>\n",
       "      <td>Paris 06</td>\n",
       "      <td>7</td>\n",
       "      <td>2022-07-25 16:00:00+02:00</td>\n",
       "      <td>0</td>\n",
       "    </tr>\n",
       "    <tr>\n",
       "      <td>9124835</td>\n",
       "      <td>Saint-Germain-des-Pres</td>\n",
       "      <td>6024</td>\n",
       "      <td>0</td>\n",
       "      <td>0</td>\n",
       "      <td>2022-07-25 17:17:29+02:00</td>\n",
       "      <td>0</td>\n",
       "      <td>0</td>\n",
       "      <td>0</td>\n",
       "      <td>NON</td>\n",
       "      <td>OUI</td>\n",
       "      <td>NON</td>\n",
       "      <td>48.8541</td>\n",
       "      <td>2.3303</td>\n",
       "      <td>Paris 06</td>\n",
       "      <td>7</td>\n",
       "      <td>2022-07-25 17:00:00+02:00</td>\n",
       "      <td>0</td>\n",
       "    </tr>\n",
       "    <tr>\n",
       "      <td>9130617</td>\n",
       "      <td>Saint-Germain-des-Pres</td>\n",
       "      <td>6024</td>\n",
       "      <td>0</td>\n",
       "      <td>0</td>\n",
       "      <td>2022-07-25 18:19:36+02:00</td>\n",
       "      <td>0</td>\n",
       "      <td>0</td>\n",
       "      <td>0</td>\n",
       "      <td>NON</td>\n",
       "      <td>OUI</td>\n",
       "      <td>NON</td>\n",
       "      <td>48.8541</td>\n",
       "      <td>2.3303</td>\n",
       "      <td>Paris 06</td>\n",
       "      <td>7</td>\n",
       "      <td>2022-07-25 18:00:00+02:00</td>\n",
       "      <td>0</td>\n",
       "    </tr>\n",
       "    <tr>\n",
       "      <td>9137286</td>\n",
       "      <td>Saint-Germain-des-Pres</td>\n",
       "      <td>6024</td>\n",
       "      <td>0</td>\n",
       "      <td>0</td>\n",
       "      <td>2022-07-25 19:15:57+02:00</td>\n",
       "      <td>0</td>\n",
       "      <td>0</td>\n",
       "      <td>0</td>\n",
       "      <td>NON</td>\n",
       "      <td>OUI</td>\n",
       "      <td>NON</td>\n",
       "      <td>48.8541</td>\n",
       "      <td>2.3303</td>\n",
       "      <td>Paris 06</td>\n",
       "      <td>7</td>\n",
       "      <td>2022-07-25 19:00:00+02:00</td>\n",
       "      <td>0</td>\n",
       "    </tr>\n",
       "    <tr>\n",
       "      <td>9143193</td>\n",
       "      <td>Saint-Germain-des-Pres</td>\n",
       "      <td>6024</td>\n",
       "      <td>0</td>\n",
       "      <td>0</td>\n",
       "      <td>2022-07-25 20:19:45+02:00</td>\n",
       "      <td>0</td>\n",
       "      <td>0</td>\n",
       "      <td>0</td>\n",
       "      <td>NON</td>\n",
       "      <td>OUI</td>\n",
       "      <td>NON</td>\n",
       "      <td>48.8541</td>\n",
       "      <td>2.3303</td>\n",
       "      <td>Paris 06</td>\n",
       "      <td>7</td>\n",
       "      <td>2022-07-25 20:00:00+02:00</td>\n",
       "      <td>0</td>\n",
       "    </tr>\n",
       "    <tr>\n",
       "      <td>...</td>\n",
       "      <td>...</td>\n",
       "      <td>...</td>\n",
       "      <td>...</td>\n",
       "      <td>...</td>\n",
       "      <td>...</td>\n",
       "      <td>...</td>\n",
       "      <td>...</td>\n",
       "      <td>...</td>\n",
       "      <td>...</td>\n",
       "      <td>...</td>\n",
       "      <td>...</td>\n",
       "      <td>...</td>\n",
       "      <td>...</td>\n",
       "      <td>...</td>\n",
       "      <td>...</td>\n",
       "      <td>...</td>\n",
       "      <td>...</td>\n",
       "    </tr>\n",
       "    <tr>\n",
       "      <td>10092484</td>\n",
       "      <td>Saint-Germain-des-Pres</td>\n",
       "      <td>6024</td>\n",
       "      <td>0</td>\n",
       "      <td>0</td>\n",
       "      <td>2022-08-04 08:48:27+02:00</td>\n",
       "      <td>0</td>\n",
       "      <td>0</td>\n",
       "      <td>0</td>\n",
       "      <td>NON</td>\n",
       "      <td>OUI</td>\n",
       "      <td>NON</td>\n",
       "      <td>48.8541</td>\n",
       "      <td>2.3303</td>\n",
       "      <td>Paris 06</td>\n",
       "      <td>8</td>\n",
       "      <td>2022-08-04 09:00:00+02:00</td>\n",
       "      <td>0</td>\n",
       "    </tr>\n",
       "    <tr>\n",
       "      <td>10098002</td>\n",
       "      <td>Saint-Germain-des-Pres</td>\n",
       "      <td>6024</td>\n",
       "      <td>0</td>\n",
       "      <td>0</td>\n",
       "      <td>2022-08-04 09:40:35+02:00</td>\n",
       "      <td>0</td>\n",
       "      <td>0</td>\n",
       "      <td>0</td>\n",
       "      <td>NON</td>\n",
       "      <td>OUI</td>\n",
       "      <td>NON</td>\n",
       "      <td>48.8541</td>\n",
       "      <td>2.3303</td>\n",
       "      <td>Paris 06</td>\n",
       "      <td>8</td>\n",
       "      <td>2022-08-04 10:00:00+02:00</td>\n",
       "      <td>0</td>\n",
       "    </tr>\n",
       "    <tr>\n",
       "      <td>10102044</td>\n",
       "      <td>Saint-Germain-des-Pres</td>\n",
       "      <td>6024</td>\n",
       "      <td>0</td>\n",
       "      <td>0</td>\n",
       "      <td>2022-08-04 10:42:43+02:00</td>\n",
       "      <td>0</td>\n",
       "      <td>0</td>\n",
       "      <td>0</td>\n",
       "      <td>NON</td>\n",
       "      <td>OUI</td>\n",
       "      <td>NON</td>\n",
       "      <td>48.8541</td>\n",
       "      <td>2.3303</td>\n",
       "      <td>Paris 06</td>\n",
       "      <td>8</td>\n",
       "      <td>2022-08-04 11:00:00+02:00</td>\n",
       "      <td>0</td>\n",
       "    </tr>\n",
       "    <tr>\n",
       "      <td>10105904</td>\n",
       "      <td>Saint-Germain-des-Pres</td>\n",
       "      <td>6024</td>\n",
       "      <td>0</td>\n",
       "      <td>0</td>\n",
       "      <td>2022-08-04 11:44:52+02:00</td>\n",
       "      <td>0</td>\n",
       "      <td>0</td>\n",
       "      <td>0</td>\n",
       "      <td>NON</td>\n",
       "      <td>OUI</td>\n",
       "      <td>NON</td>\n",
       "      <td>48.8541</td>\n",
       "      <td>2.3303</td>\n",
       "      <td>Paris 06</td>\n",
       "      <td>8</td>\n",
       "      <td>2022-08-04 12:00:00+02:00</td>\n",
       "      <td>0</td>\n",
       "    </tr>\n",
       "    <tr>\n",
       "      <td>10110388</td>\n",
       "      <td>Saint-Germain-des-Pres</td>\n",
       "      <td>6024</td>\n",
       "      <td>0</td>\n",
       "      <td>0</td>\n",
       "      <td>2022-08-04 12:46:57+02:00</td>\n",
       "      <td>0</td>\n",
       "      <td>0</td>\n",
       "      <td>0</td>\n",
       "      <td>NON</td>\n",
       "      <td>OUI</td>\n",
       "      <td>NON</td>\n",
       "      <td>48.8541</td>\n",
       "      <td>2.3303</td>\n",
       "      <td>Paris 06</td>\n",
       "      <td>8</td>\n",
       "      <td>2022-08-04 13:00:00+02:00</td>\n",
       "      <td>0</td>\n",
       "    </tr>\n",
       "  </tbody>\n",
       "</table>\n",
       "<p>222 rows × 17 columns</p>\n",
       "</div>"
      ],
      "text/plain": [
       "                            name stationcode  ebike  mechanical  \\\n",
       "9120061   Saint-Germain-des-Pres        6024      0           0   \n",
       "9124835   Saint-Germain-des-Pres        6024      0           0   \n",
       "9130617   Saint-Germain-des-Pres        6024      0           0   \n",
       "9137286   Saint-Germain-des-Pres        6024      0           0   \n",
       "9143193   Saint-Germain-des-Pres        6024      0           0   \n",
       "...                          ...         ...    ...         ...   \n",
       "10092484  Saint-Germain-des-Pres        6024      0           0   \n",
       "10098002  Saint-Germain-des-Pres        6024      0           0   \n",
       "10102044  Saint-Germain-des-Pres        6024      0           0   \n",
       "10105904  Saint-Germain-des-Pres        6024      0           0   \n",
       "10110388  Saint-Germain-des-Pres        6024      0           0   \n",
       "\n",
       "                           duedate  numbikesavailable  numdocksavailable  \\\n",
       "9120061  2022-07-25 16:15:27+02:00                  0                  0   \n",
       "9124835  2022-07-25 17:17:29+02:00                  0                  0   \n",
       "9130617  2022-07-25 18:19:36+02:00                  0                  0   \n",
       "9137286  2022-07-25 19:15:57+02:00                  0                  0   \n",
       "9143193  2022-07-25 20:19:45+02:00                  0                  0   \n",
       "...                            ...                ...                ...   \n",
       "10092484 2022-08-04 08:48:27+02:00                  0                  0   \n",
       "10098002 2022-08-04 09:40:35+02:00                  0                  0   \n",
       "10102044 2022-08-04 10:42:43+02:00                  0                  0   \n",
       "10105904 2022-08-04 11:44:52+02:00                  0                  0   \n",
       "10110388 2022-08-04 12:46:57+02:00                  0                  0   \n",
       "\n",
       "          capacity is_renting is_installed is_returning  Latitude  Longitude  \\\n",
       "9120061          0        NON          OUI          NON   48.8541     2.3303   \n",
       "9124835          0        NON          OUI          NON   48.8541     2.3303   \n",
       "9130617          0        NON          OUI          NON   48.8541     2.3303   \n",
       "9137286          0        NON          OUI          NON   48.8541     2.3303   \n",
       "9143193          0        NON          OUI          NON   48.8541     2.3303   \n",
       "...            ...        ...          ...          ...       ...        ...   \n",
       "10092484         0        NON          OUI          NON   48.8541     2.3303   \n",
       "10098002         0        NON          OUI          NON   48.8541     2.3303   \n",
       "10102044         0        NON          OUI          NON   48.8541     2.3303   \n",
       "10105904         0        NON          OUI          NON   48.8541     2.3303   \n",
       "10110388         0        NON          OUI          NON   48.8541     2.3303   \n",
       "\n",
       "           commune  month                  interval  numbikesordocksbroken  \n",
       "9120061   Paris 06      7 2022-07-25 16:00:00+02:00                      0  \n",
       "9124835   Paris 06      7 2022-07-25 17:00:00+02:00                      0  \n",
       "9130617   Paris 06      7 2022-07-25 18:00:00+02:00                      0  \n",
       "9137286   Paris 06      7 2022-07-25 19:00:00+02:00                      0  \n",
       "9143193   Paris 06      7 2022-07-25 20:00:00+02:00                      0  \n",
       "...            ...    ...                       ...                    ...  \n",
       "10092484  Paris 06      8 2022-08-04 09:00:00+02:00                      0  \n",
       "10098002  Paris 06      8 2022-08-04 10:00:00+02:00                      0  \n",
       "10102044  Paris 06      8 2022-08-04 11:00:00+02:00                      0  \n",
       "10105904  Paris 06      8 2022-08-04 12:00:00+02:00                      0  \n",
       "10110388  Paris 06      8 2022-08-04 13:00:00+02:00                      0  \n",
       "\n",
       "[222 rows x 17 columns]"
      ]
     },
     "execution_count": 82,
     "metadata": {},
     "output_type": "execute_result"
    }
   ],
   "source": [
    "new_df_summer_cleaned[(new_df_summer_cleaned[\"name\"] == \"Saint-Germain-des-Pres\") & (new_df_summer_cleaned[\"capacity\"] == 0)]"
   ]
  },
  {
   "cell_type": "code",
   "execution_count": 83,
   "metadata": {},
   "outputs": [],
   "source": [
    "new_df_summer_cleaned = new_df_summer_cleaned.drop(new_df_summer_cleaned[new_df_summer_cleaned[\"capacity\"] == 0].index)"
   ]
  },
  {
   "cell_type": "code",
   "execution_count": 84,
   "metadata": {},
   "outputs": [
    {
     "data": {
      "text/plain": [
       "array([], dtype=object)"
      ]
     },
     "execution_count": 84,
     "metadata": {},
     "output_type": "execute_result"
    }
   ],
   "source": [
    "new_df_summer_cleaned.loc[new_df_summer_cleaned[\"capacity\"] == 0, \"name\"].unique()"
   ]
  },
  {
   "cell_type": "code",
   "execution_count": 85,
   "metadata": {},
   "outputs": [
    {
     "data": {
      "text/plain": [
       "0"
      ]
     },
     "execution_count": 85,
     "metadata": {},
     "output_type": "execute_result"
    }
   ],
   "source": [
    "new_df_summer_cleaned[\"name\"].str.find(\"Gare RER - General de Gaulle\").max()"
   ]
  },
  {
   "cell_type": "code",
   "execution_count": 86,
   "metadata": {},
   "outputs": [
    {
     "data": {
      "text/plain": [
       "0"
      ]
     },
     "execution_count": 86,
     "metadata": {},
     "output_type": "execute_result"
    }
   ],
   "source": [
    "new_df_summer_cleaned[\"name\"].str.find(\"Romainville - Vaillant-Couturier\").max()"
   ]
  },
  {
   "cell_type": "code",
   "execution_count": 87,
   "metadata": {},
   "outputs": [
    {
     "data": {
      "text/plain": [
       "0"
      ]
     },
     "execution_count": 87,
     "metadata": {},
     "output_type": "execute_result"
    }
   ],
   "source": [
    "new_df_summer_cleaned[\"name\"].str.find(\"Resistance - Romain Rolland\").max()"
   ]
  },
  {
   "cell_type": "code",
   "execution_count": 88,
   "metadata": {},
   "outputs": [
    {
     "data": {
      "text/plain": [
       "0"
      ]
     },
     "execution_count": 88,
     "metadata": {},
     "output_type": "execute_result"
    }
   ],
   "source": [
    "new_df_summer_cleaned[\"name\"].str.find(\"Saint-Germain-des-Pres\").max()"
   ]
  },
  {
   "cell_type": "code",
   "execution_count": 89,
   "metadata": {},
   "outputs": [
    {
     "name": "stdout",
     "output_type": "stream",
     "text": [
      "Il y a 1428 stations Vélib au total\n"
     ]
    }
   ],
   "source": [
    "print(f'Il y a {new_df_summer_cleaned[\"stationcode\"].nunique()} stations Vélib au total')"
   ]
  },
  {
   "cell_type": "code",
   "execution_count": 90,
   "metadata": {},
   "outputs": [
    {
     "data": {
      "text/plain": [
       "47"
      ]
     },
     "execution_count": 90,
     "metadata": {},
     "output_type": "execute_result"
    }
   ],
   "source": [
    "# nombre de station +\n",
    "new_df_summer_cleaned.loc[new_df_summer_cleaned[\"numbikesordocksbroken\"] < 0, \"name\"].nunique()"
   ]
  },
  {
   "cell_type": "code",
   "execution_count": 91,
   "metadata": {},
   "outputs": [
    {
     "data": {
      "text/plain": [
       "array(['Abbe Groult - Convention', 'Aqueduc - Villette',\n",
       "       'Aristide Briand - Place de la Resistance',\n",
       "       'BNF - Bibliotheque Nationale de France',\n",
       "       'Balard - Montagne de la Fage', 'Bercy - Villot',\n",
       "       'Bosquet - Saint-Dominique', 'Carrefour Pleyel',\n",
       "       'Caumartin - Provence', 'Ceinture du Lac Inferieure - Saint-Cloud',\n",
       "       \"Chabrol - d'Hauteville\", 'Charenton - Diderot',\n",
       "       'Charles de Gaulle - Madrid', 'Cite de la Musique',\n",
       "       'Cossonnerie - Sebastopol', 'Daumesnil - Picpus',\n",
       "       'Enfants du Paradis - Peupliers', 'Gare Arcueil - Cachan',\n",
       "       'Gare Saint-Lazare - Cour du Havre',\n",
       "       'Grande Truanderie - Saint-Denis', \"Lepic - Armee d'Orient\",\n",
       "       'Louis Lejeune - Barbes', 'Madeleine Vionnet',\n",
       "       \"Mairie d'Ivry-sur-Seine\", 'Malesherbes - Place de la Madeleine',\n",
       "       'Marechal Joffre - Verdun', 'Mornay - Sully',\n",
       "       'Pablo Picasso - Maurice Thorez', 'Parc Suzanne Lenglen',\n",
       "       'Pierre Grenier - Pont de Billancourt', 'Place Balard',\n",
       "       'Place Charles Vallin', 'Place Francois Mitterand',\n",
       "       'Place Tristan Bernard', 'Place de la Madeleine - Royale',\n",
       "       'Place du Moulin de Javel', 'Pyrenees - Plaine',\n",
       "       'Quai des Celestins - Henri IV', 'Saint-Antoine Sevigne',\n",
       "       'Saint-Denis - Rivoli', 'Saint-Germain-des-Pres',\n",
       "       'Sebastopol - Rambuteau', 'Stalingrad - Rigollots',\n",
       "       'Solidays - 24 au 26 juin - 16h00 à 5h00', 'Verdier - Republique',\n",
       "       'Victoria - Place du Chatelet',\n",
       "       'Westermeyer - Paul Vaillant-Couturier'], dtype=object)"
      ]
     },
     "execution_count": 91,
     "metadata": {},
     "output_type": "execute_result"
    }
   ],
   "source": [
    "# nombre de station +\n",
    "nom_stations_plus = new_df_summer_cleaned.loc[new_df_summer_cleaned[\"numbikesordocksbroken\"] < 0, \"name\"].unique()\n",
    "nom_stations_plus"
   ]
  },
  {
   "cell_type": "code",
   "execution_count": 92,
   "metadata": {},
   "outputs": [],
   "source": [
    "lignesplus = new_df_summer_cleaned[new_df_summer_cleaned[\"name\"].isin(nom_stations_plus)]"
   ]
  },
  {
   "cell_type": "code",
   "execution_count": 93,
   "metadata": {},
   "outputs": [],
   "source": [
    "new_df_summer_cleaned.loc[lignesplus.index, \"StationPlus\"] = \"OUI\""
   ]
  },
  {
   "cell_type": "code",
   "execution_count": 94,
   "metadata": {},
   "outputs": [],
   "source": [
    "new_df_summer_cleaned.loc[new_df_summer_cleaned[\"StationPlus\"].isnull(), \"StationPlus\"] = \"NON\""
   ]
  },
  {
   "cell_type": "code",
   "execution_count": 95,
   "metadata": {},
   "outputs": [
    {
     "data": {
      "text/plain": [
       "array(['NON', 'OUI'], dtype=object)"
      ]
     },
     "execution_count": 95,
     "metadata": {},
     "output_type": "execute_result"
    }
   ],
   "source": [
    "new_df_summer_cleaned[\"StationPlus\"].unique()"
   ]
  },
  {
   "cell_type": "code",
   "execution_count": null,
   "metadata": {},
   "outputs": [],
   "source": []
  },
  {
   "cell_type": "code",
   "execution_count": 105,
   "metadata": {},
   "outputs": [],
   "source": [
    "new_df_summer_cleaned[\"Latitude\"] = new_df_summer_cleaned[\"Latitude\"].astype(str)"
   ]
  },
  {
   "cell_type": "code",
   "execution_count": 106,
   "metadata": {},
   "outputs": [],
   "source": [
    "new_df_summer_cleaned[\"Longitude\"] = new_df_summer_cleaned[\"Longitude\"].astype(str)"
   ]
  },
  {
   "cell_type": "code",
   "execution_count": null,
   "metadata": {},
   "outputs": [],
   "source": []
  },
  {
   "cell_type": "code",
   "execution_count": 99,
   "metadata": {},
   "outputs": [
    {
     "data": {
      "text/plain": [
       "name                     0\n",
       "stationcode              0\n",
       "ebike                    0\n",
       "mechanical               0\n",
       "duedate                  0\n",
       "numbikesavailable        0\n",
       "numdocksavailable        0\n",
       "capacity                 0\n",
       "is_renting               0\n",
       "is_installed             0\n",
       "is_returning             0\n",
       "Latitude                 0\n",
       "Longitude                0\n",
       "commune                  0\n",
       "month                    0\n",
       "interval                 0\n",
       "numbikesordocksbroken    0\n",
       "StationPlus              0\n",
       "dtype: int64"
      ]
     },
     "execution_count": 99,
     "metadata": {},
     "output_type": "execute_result"
    }
   ],
   "source": [
    "new_df_summer_cleaned.isnull().sum()"
   ]
  },
  {
   "cell_type": "code",
   "execution_count": 100,
   "metadata": {},
   "outputs": [
    {
     "data": {
      "text/plain": [
       "2"
      ]
     },
     "execution_count": 100,
     "metadata": {},
     "output_type": "execute_result"
    }
   ],
   "source": [
    "new_df_summer_cleaned.duplicated().sum()"
   ]
  },
  {
   "cell_type": "code",
   "execution_count": 101,
   "metadata": {},
   "outputs": [],
   "source": [
    "new_df_summer_cleaned = new_df_summer_cleaned.drop_duplicates()"
   ]
  },
  {
   "cell_type": "code",
   "execution_count": 102,
   "metadata": {},
   "outputs": [
    {
     "data": {
      "text/plain": [
       "0"
      ]
     },
     "execution_count": 102,
     "metadata": {},
     "output_type": "execute_result"
    }
   ],
   "source": [
    "new_df_summer_cleaned.duplicated().sum()"
   ]
  },
  {
   "cell_type": "code",
   "execution_count": 103,
   "metadata": {
    "scrolled": true
   },
   "outputs": [
    {
     "data": {
      "text/html": [
       "<div>\n",
       "<style scoped>\n",
       "    .dataframe tbody tr th:only-of-type {\n",
       "        vertical-align: middle;\n",
       "    }\n",
       "\n",
       "    .dataframe tbody tr th {\n",
       "        vertical-align: top;\n",
       "    }\n",
       "\n",
       "    .dataframe thead th {\n",
       "        text-align: right;\n",
       "    }\n",
       "</style>\n",
       "<table border=\"1\" class=\"dataframe\">\n",
       "  <thead>\n",
       "    <tr style=\"text-align: right;\">\n",
       "      <th></th>\n",
       "      <th>name</th>\n",
       "      <th>stationcode</th>\n",
       "      <th>ebike</th>\n",
       "      <th>mechanical</th>\n",
       "      <th>duedate</th>\n",
       "      <th>numbikesavailable</th>\n",
       "      <th>numdocksavailable</th>\n",
       "      <th>capacity</th>\n",
       "      <th>is_renting</th>\n",
       "      <th>is_installed</th>\n",
       "      <th>is_returning</th>\n",
       "      <th>Latitude</th>\n",
       "      <th>Longitude</th>\n",
       "      <th>commune</th>\n",
       "      <th>month</th>\n",
       "      <th>interval</th>\n",
       "      <th>numbikesordocksbroken</th>\n",
       "      <th>StationPlus</th>\n",
       "    </tr>\n",
       "  </thead>\n",
       "  <tbody>\n",
       "    <tr>\n",
       "      <td>120</td>\n",
       "      <td>11 Novembre 1918 - 8 Mai 1945</td>\n",
       "      <td>45003</td>\n",
       "      <td>6</td>\n",
       "      <td>3</td>\n",
       "      <td>2022-05-01 00:40:43+02:00</td>\n",
       "      <td>9</td>\n",
       "      <td>27</td>\n",
       "      <td>36</td>\n",
       "      <td>OUI</td>\n",
       "      <td>OUI</td>\n",
       "      <td>OUI</td>\n",
       "      <td>48.8088</td>\n",
       "      <td>2.5382</td>\n",
       "      <td>Champigny-sur-Marne</td>\n",
       "      <td>5</td>\n",
       "      <td>2022-05-01 01:00:00+02:00</td>\n",
       "      <td>0</td>\n",
       "      <td>NON</td>\n",
       "    </tr>\n",
       "    <tr>\n",
       "      <td>4280</td>\n",
       "      <td>11 Novembre 1918 - 8 Mai 1945</td>\n",
       "      <td>45003</td>\n",
       "      <td>6</td>\n",
       "      <td>3</td>\n",
       "      <td>2022-05-01 01:37:31+02:00</td>\n",
       "      <td>9</td>\n",
       "      <td>27</td>\n",
       "      <td>36</td>\n",
       "      <td>OUI</td>\n",
       "      <td>OUI</td>\n",
       "      <td>OUI</td>\n",
       "      <td>48.8088</td>\n",
       "      <td>2.5382</td>\n",
       "      <td>Champigny-sur-Marne</td>\n",
       "      <td>5</td>\n",
       "      <td>2022-05-01 02:00:00+02:00</td>\n",
       "      <td>0</td>\n",
       "      <td>NON</td>\n",
       "    </tr>\n",
       "    <tr>\n",
       "      <td>8441</td>\n",
       "      <td>11 Novembre 1918 - 8 Mai 1945</td>\n",
       "      <td>45003</td>\n",
       "      <td>6</td>\n",
       "      <td>3</td>\n",
       "      <td>2022-05-01 02:37:39+02:00</td>\n",
       "      <td>9</td>\n",
       "      <td>27</td>\n",
       "      <td>36</td>\n",
       "      <td>OUI</td>\n",
       "      <td>OUI</td>\n",
       "      <td>OUI</td>\n",
       "      <td>48.8088</td>\n",
       "      <td>2.5382</td>\n",
       "      <td>Champigny-sur-Marne</td>\n",
       "      <td>5</td>\n",
       "      <td>2022-05-01 03:00:00+02:00</td>\n",
       "      <td>0</td>\n",
       "      <td>NON</td>\n",
       "    </tr>\n",
       "    <tr>\n",
       "      <td>12059</td>\n",
       "      <td>11 Novembre 1918 - 8 Mai 1945</td>\n",
       "      <td>45003</td>\n",
       "      <td>6</td>\n",
       "      <td>3</td>\n",
       "      <td>2022-05-01 03:37:48+02:00</td>\n",
       "      <td>9</td>\n",
       "      <td>27</td>\n",
       "      <td>36</td>\n",
       "      <td>OUI</td>\n",
       "      <td>OUI</td>\n",
       "      <td>OUI</td>\n",
       "      <td>48.8088</td>\n",
       "      <td>2.5382</td>\n",
       "      <td>Champigny-sur-Marne</td>\n",
       "      <td>5</td>\n",
       "      <td>2022-05-01 04:00:00+02:00</td>\n",
       "      <td>0</td>\n",
       "      <td>NON</td>\n",
       "    </tr>\n",
       "    <tr>\n",
       "      <td>15470</td>\n",
       "      <td>11 Novembre 1918 - 8 Mai 1945</td>\n",
       "      <td>45003</td>\n",
       "      <td>6</td>\n",
       "      <td>3</td>\n",
       "      <td>2022-05-01 04:39:55+02:00</td>\n",
       "      <td>9</td>\n",
       "      <td>27</td>\n",
       "      <td>36</td>\n",
       "      <td>OUI</td>\n",
       "      <td>OUI</td>\n",
       "      <td>OUI</td>\n",
       "      <td>48.8088</td>\n",
       "      <td>2.5382</td>\n",
       "      <td>Champigny-sur-Marne</td>\n",
       "      <td>5</td>\n",
       "      <td>2022-05-01 05:00:00+02:00</td>\n",
       "      <td>0</td>\n",
       "      <td>NON</td>\n",
       "    </tr>\n",
       "    <tr>\n",
       "      <td>...</td>\n",
       "      <td>...</td>\n",
       "      <td>...</td>\n",
       "      <td>...</td>\n",
       "      <td>...</td>\n",
       "      <td>...</td>\n",
       "      <td>...</td>\n",
       "      <td>...</td>\n",
       "      <td>...</td>\n",
       "      <td>...</td>\n",
       "      <td>...</td>\n",
       "      <td>...</td>\n",
       "      <td>...</td>\n",
       "      <td>...</td>\n",
       "      <td>...</td>\n",
       "      <td>...</td>\n",
       "      <td>...</td>\n",
       "      <td>...</td>\n",
       "      <td>...</td>\n",
       "    </tr>\n",
       "    <tr>\n",
       "      <td>12648178</td>\n",
       "      <td>Youri Gagarine - Karl Marx</td>\n",
       "      <td>48003</td>\n",
       "      <td>3</td>\n",
       "      <td>2</td>\n",
       "      <td>2022-08-31 19:06:05+02:00</td>\n",
       "      <td>5</td>\n",
       "      <td>17</td>\n",
       "      <td>22</td>\n",
       "      <td>OUI</td>\n",
       "      <td>OUI</td>\n",
       "      <td>OUI</td>\n",
       "      <td>48.7844</td>\n",
       "      <td>2.3590</td>\n",
       "      <td>Villejuif</td>\n",
       "      <td>8</td>\n",
       "      <td>2022-08-31 19:00:00+02:00</td>\n",
       "      <td>0</td>\n",
       "      <td>NON</td>\n",
       "    </tr>\n",
       "    <tr>\n",
       "      <td>12654384</td>\n",
       "      <td>Youri Gagarine - Karl Marx</td>\n",
       "      <td>48003</td>\n",
       "      <td>1</td>\n",
       "      <td>2</td>\n",
       "      <td>2022-08-31 19:58:14+02:00</td>\n",
       "      <td>3</td>\n",
       "      <td>19</td>\n",
       "      <td>22</td>\n",
       "      <td>OUI</td>\n",
       "      <td>OUI</td>\n",
       "      <td>OUI</td>\n",
       "      <td>48.7844</td>\n",
       "      <td>2.3590</td>\n",
       "      <td>Villejuif</td>\n",
       "      <td>8</td>\n",
       "      <td>2022-08-31 20:00:00+02:00</td>\n",
       "      <td>0</td>\n",
       "      <td>NON</td>\n",
       "    </tr>\n",
       "    <tr>\n",
       "      <td>12660101</td>\n",
       "      <td>Youri Gagarine - Karl Marx</td>\n",
       "      <td>48003</td>\n",
       "      <td>1</td>\n",
       "      <td>2</td>\n",
       "      <td>2022-08-31 21:06:53+02:00</td>\n",
       "      <td>3</td>\n",
       "      <td>19</td>\n",
       "      <td>22</td>\n",
       "      <td>OUI</td>\n",
       "      <td>OUI</td>\n",
       "      <td>OUI</td>\n",
       "      <td>48.7844</td>\n",
       "      <td>2.3590</td>\n",
       "      <td>Villejuif</td>\n",
       "      <td>8</td>\n",
       "      <td>2022-08-31 21:00:00+02:00</td>\n",
       "      <td>0</td>\n",
       "      <td>NON</td>\n",
       "    </tr>\n",
       "    <tr>\n",
       "      <td>12665234</td>\n",
       "      <td>Youri Gagarine - Karl Marx</td>\n",
       "      <td>48003</td>\n",
       "      <td>2</td>\n",
       "      <td>2</td>\n",
       "      <td>2022-08-31 22:06:58+02:00</td>\n",
       "      <td>4</td>\n",
       "      <td>18</td>\n",
       "      <td>22</td>\n",
       "      <td>OUI</td>\n",
       "      <td>OUI</td>\n",
       "      <td>OUI</td>\n",
       "      <td>48.7844</td>\n",
       "      <td>2.3590</td>\n",
       "      <td>Villejuif</td>\n",
       "      <td>8</td>\n",
       "      <td>2022-08-31 22:00:00+02:00</td>\n",
       "      <td>0</td>\n",
       "      <td>NON</td>\n",
       "    </tr>\n",
       "    <tr>\n",
       "      <td>12670192</td>\n",
       "      <td>Youri Gagarine - Karl Marx</td>\n",
       "      <td>48003</td>\n",
       "      <td>3</td>\n",
       "      <td>3</td>\n",
       "      <td>2022-08-31 23:07:05+02:00</td>\n",
       "      <td>6</td>\n",
       "      <td>16</td>\n",
       "      <td>22</td>\n",
       "      <td>OUI</td>\n",
       "      <td>OUI</td>\n",
       "      <td>OUI</td>\n",
       "      <td>48.7844</td>\n",
       "      <td>2.3590</td>\n",
       "      <td>Villejuif</td>\n",
       "      <td>8</td>\n",
       "      <td>2022-08-31 23:00:00+02:00</td>\n",
       "      <td>0</td>\n",
       "      <td>NON</td>\n",
       "    </tr>\n",
       "  </tbody>\n",
       "</table>\n",
       "<p>4051239 rows × 18 columns</p>\n",
       "</div>"
      ],
      "text/plain": [
       "                                   name stationcode  ebike  mechanical  \\\n",
       "120       11 Novembre 1918 - 8 Mai 1945       45003      6           3   \n",
       "4280      11 Novembre 1918 - 8 Mai 1945       45003      6           3   \n",
       "8441      11 Novembre 1918 - 8 Mai 1945       45003      6           3   \n",
       "12059     11 Novembre 1918 - 8 Mai 1945       45003      6           3   \n",
       "15470     11 Novembre 1918 - 8 Mai 1945       45003      6           3   \n",
       "...                                 ...         ...    ...         ...   \n",
       "12648178     Youri Gagarine - Karl Marx       48003      3           2   \n",
       "12654384     Youri Gagarine - Karl Marx       48003      1           2   \n",
       "12660101     Youri Gagarine - Karl Marx       48003      1           2   \n",
       "12665234     Youri Gagarine - Karl Marx       48003      2           2   \n",
       "12670192     Youri Gagarine - Karl Marx       48003      3           3   \n",
       "\n",
       "                           duedate  numbikesavailable  numdocksavailable  \\\n",
       "120      2022-05-01 00:40:43+02:00                  9                 27   \n",
       "4280     2022-05-01 01:37:31+02:00                  9                 27   \n",
       "8441     2022-05-01 02:37:39+02:00                  9                 27   \n",
       "12059    2022-05-01 03:37:48+02:00                  9                 27   \n",
       "15470    2022-05-01 04:39:55+02:00                  9                 27   \n",
       "...                            ...                ...                ...   \n",
       "12648178 2022-08-31 19:06:05+02:00                  5                 17   \n",
       "12654384 2022-08-31 19:58:14+02:00                  3                 19   \n",
       "12660101 2022-08-31 21:06:53+02:00                  3                 19   \n",
       "12665234 2022-08-31 22:06:58+02:00                  4                 18   \n",
       "12670192 2022-08-31 23:07:05+02:00                  6                 16   \n",
       "\n",
       "          capacity is_renting is_installed is_returning  Latitude  Longitude  \\\n",
       "120             36        OUI          OUI          OUI   48.8088     2.5382   \n",
       "4280            36        OUI          OUI          OUI   48.8088     2.5382   \n",
       "8441            36        OUI          OUI          OUI   48.8088     2.5382   \n",
       "12059           36        OUI          OUI          OUI   48.8088     2.5382   \n",
       "15470           36        OUI          OUI          OUI   48.8088     2.5382   \n",
       "...            ...        ...          ...          ...       ...        ...   \n",
       "12648178        22        OUI          OUI          OUI   48.7844     2.3590   \n",
       "12654384        22        OUI          OUI          OUI   48.7844     2.3590   \n",
       "12660101        22        OUI          OUI          OUI   48.7844     2.3590   \n",
       "12665234        22        OUI          OUI          OUI   48.7844     2.3590   \n",
       "12670192        22        OUI          OUI          OUI   48.7844     2.3590   \n",
       "\n",
       "                      commune  month                  interval  \\\n",
       "120       Champigny-sur-Marne      5 2022-05-01 01:00:00+02:00   \n",
       "4280      Champigny-sur-Marne      5 2022-05-01 02:00:00+02:00   \n",
       "8441      Champigny-sur-Marne      5 2022-05-01 03:00:00+02:00   \n",
       "12059     Champigny-sur-Marne      5 2022-05-01 04:00:00+02:00   \n",
       "15470     Champigny-sur-Marne      5 2022-05-01 05:00:00+02:00   \n",
       "...                       ...    ...                       ...   \n",
       "12648178            Villejuif      8 2022-08-31 19:00:00+02:00   \n",
       "12654384            Villejuif      8 2022-08-31 20:00:00+02:00   \n",
       "12660101            Villejuif      8 2022-08-31 21:00:00+02:00   \n",
       "12665234            Villejuif      8 2022-08-31 22:00:00+02:00   \n",
       "12670192            Villejuif      8 2022-08-31 23:00:00+02:00   \n",
       "\n",
       "          numbikesordocksbroken StationPlus  \n",
       "120                           0         NON  \n",
       "4280                          0         NON  \n",
       "8441                          0         NON  \n",
       "12059                         0         NON  \n",
       "15470                         0         NON  \n",
       "...                         ...         ...  \n",
       "12648178                      0         NON  \n",
       "12654384                      0         NON  \n",
       "12660101                      0         NON  \n",
       "12665234                      0         NON  \n",
       "12670192                      0         NON  \n",
       "\n",
       "[4051239 rows x 18 columns]"
      ]
     },
     "execution_count": 103,
     "metadata": {},
     "output_type": "execute_result"
    }
   ],
   "source": [
    "new_df_summer_cleaned"
   ]
  },
  {
   "cell_type": "markdown",
   "metadata": {},
   "source": [
    "# ENREGISTRER LE DF FINAL ET TOTAL"
   ]
  },
  {
   "cell_type": "code",
   "execution_count": 107,
   "metadata": {},
   "outputs": [],
   "source": [
    "#new_df_summer_cleaned.to_csv(\"df_cleaned_Velib_summer_2022try.csv\")"
   ]
  },
  {
   "cell_type": "code",
   "execution_count": null,
   "metadata": {},
   "outputs": [],
   "source": []
  }
 ],
 "metadata": {
  "kernelspec": {
   "display_name": "Python 3",
   "language": "python",
   "name": "python3"
  },
  "language_info": {
   "codemirror_mode": {
    "name": "ipython",
    "version": 3
   },
   "file_extension": ".py",
   "mimetype": "text/x-python",
   "name": "python",
   "nbconvert_exporter": "python",
   "pygments_lexer": "ipython3",
   "version": "3.7.4"
  }
 },
 "nbformat": 4,
 "nbformat_minor": 2
}
